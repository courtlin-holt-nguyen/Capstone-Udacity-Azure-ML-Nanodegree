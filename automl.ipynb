{
  "cells": [
    {
      "cell_type": "markdown",
      "source": [
        "# Automated ML\n",
        "\n",
        "TODO: Import Dependencies. In the cell below, import all the dependencies that you will need to complete the project."
      ],
      "metadata": {}
    },
    {
      "cell_type": "code",
      "source": [
        "import logging\r\n",
        "import os\r\n",
        "import json\r\n",
        "import csv\r\n",
        "import numpy as np\r\n",
        "import pandas as pd\r\n",
        "# import pkg_resources\r\n",
        "import joblib\r\n",
        "\r\n",
        "import azureml.core\r\n",
        "from azureml.core.experiment import Experiment\r\n",
        "from azureml.core.workspace import Workspace\r\n",
        "from azureml.train.automl import AutoMLConfig\r\n",
        "from azureml.core.dataset import Dataset\r\n",
        "from azureml.core.compute import AmlCompute\r\n",
        "from azureml.core.compute import ComputeTarget\r\n",
        "from azureml.core.compute_target import ComputeTargetException\r\n",
        "from azureml.pipeline.steps import AutoMLStep\r\n",
        "from azureml.widgets import RunDetails\r\n",
        "from azureml.core import Model, Environment\r\n",
        "from azureml.core.model import InferenceConfig\r\n",
        "from azureml.core.webservice import AciWebservice\r\n",
        "from sklearn.preprocessing import StandardScaler\r\n",
        "\r\n",
        "# Check core SDK version number\r\n",
        "print(\"SDK version:\", azureml.core.VERSION)"
      ],
      "outputs": [
        {
          "output_type": "stream",
          "name": "stdout",
          "text": "SDK version: 1.33.0\n"
        }
      ],
      "execution_count": 1,
      "metadata": {
        "jupyter": {
          "source_hidden": false,
          "outputs_hidden": false
        },
        "nteract": {
          "transient": {
            "deleting": false
          }
        },
        "gather": {
          "logged": 1631936601810
        }
      }
    },
    {
      "cell_type": "code",
      "source": [
        "from azureml.core import Workspace, Experiment\r\n",
        "\r\n",
        "ws = Workspace.get(name=\"udacity-courtlin\",subscription_id=\"bd6c48f0-b2f5-4fd8-b4de-3351b13cbee8\", resource_group=\"udacity-nano-degree\")\r\n",
        "exp = Experiment(workspace=ws, name=\"stroke-prediction\")\r\n",
        "\r\n",
        "print('Workspace name: ' + ws.name, \r\n",
        "      'Azure region: ' + ws.location, \r\n",
        "      'Subscription id: ' + ws.subscription_id, \r\n",
        "      'Resource group: ' + ws.resource_group, sep = '\\n')\r\n",
        "\r\n",
        "run = exp.start_logging()"
      ],
      "outputs": [
        {
          "output_type": "stream",
          "name": "stdout",
          "text": "Workspace name: udacity-courtlin\nAzure region: eastus2\nSubscription id: bd6c48f0-b2f5-4fd8-b4de-3351b13cbee8\nResource group: udacity-nano-degree\n"
        }
      ],
      "execution_count": 4,
      "metadata": {
        "gather": {
          "logged": 1631936857416
        },
        "jupyter": {
          "outputs_hidden": false,
          "source_hidden": false
        },
        "nteract": {
          "transient": {
            "deleting": false
          }
        }
      }
    },
    {
      "cell_type": "code",
      "source": [
        "from azureml.core import Datastore\r\n",
        "from azureml.core.compute import ComputeTarget, AmlCompute\r\n",
        "\r\n",
        "datastore = ws.get_default_datastore()\r\n",
        "    \r\n",
        "cpu_cluster_name = \"udacitycapstone\"\r\n",
        "if not cpu_cluster_name in ws.compute_targets :\r\n",
        "    print('creating a new compute target...')\r\n",
        "    compute_config = AmlCompute.provisioning_configuration(vm_size=\"Standard_D2_V2\",# for GPU, use \"STANDARD_NC6\",\r\n",
        "    max_nodes=5, vm_priority='lowpriority',min_nodes=0, idle_seconds_before_scaledown=300)\r\n",
        "    cpu_cluster = ComputeTarget.create(ws, cpu_cluster_name, compute_config)\r\n",
        "    cpu_cluster.wait_for_completion(show_output=True,min_node_count=None, timeout_in_minutes=20)\r\n",
        "\r\n",
        "    # Show the result\r\n",
        "    print(cpu_cluster.get_status().serialize())\r\n",
        "\r\n",
        "cpu_cluster = ws.compute_targets[cpu_cluster_name]"
      ],
      "outputs": [
        {
          "output_type": "stream",
          "name": "stdout",
          "text": "creating a new compute target...\nInProgress...\nSucceededProvisioning operation finished, operation \"Succeeded\"\nSucceeded\nAmlCompute wait for completion finished\n\nMinimum number of nodes requested have been provisioned\n{'currentNodeCount': 0, 'targetNodeCount': 0, 'nodeStateCounts': {'preparingNodeCount': 0, 'runningNodeCount': 0, 'idleNodeCount': 0, 'unusableNodeCount': 0, 'leavingNodeCount': 0, 'preemptedNodeCount': 0}, 'allocationState': 'Resizing', 'allocationStateTransitionTime': '2021-09-18T03:47:37.092000+00:00', 'errors': None, 'creationTime': '2021-09-18T03:47:36.798900+00:00', 'modifiedTime': '2021-09-18T03:47:52.243354+00:00', 'provisioningState': 'Succeeded', 'provisioningStateTransitionTime': None, 'scaleSettings': {'minNodeCount': 0, 'maxNodeCount': 5, 'nodeIdleTimeBeforeScaleDown': 'PT300S'}, 'vmPriority': 'LowPriority', 'vmSize': 'STANDARD_D2_V2'}\n"
        }
      ],
      "execution_count": 5,
      "metadata": {
        "gather": {
          "logged": 1631936874946
        }
      }
    },
    {
      "cell_type": "markdown",
      "source": [
        "## Dataset\n",
        "\n",
        "### Overview\n",
        "TODO: In this markdown cell, give an overview of the dataset you are using. Also mention the task you will be performing.\n",
        "\n",
        "\n",
        "TODO: Get data. In the cell below, write code to access the data you will be using in this project. Remember that the dataset needs to be external."
      ],
      "metadata": {}
    },
    {
      "cell_type": "markdown",
      "source": [
        "Overview of data used\r\n",
        "\r\n",
        "Stroke is the 2nd leading cause of death globally, responsible for approximately 11% of total deaths, according to the WHO.\r\n",
        "This dataset is used to predict whether a patient is likely to get stroke based on the input parameters like gender, age, various diseases, and smoking status.\r\n",
        "The data contains 5110 observations with 12 attributes.\r\n",
        "This will be a binary classification task to predict whether a patient is likely to have a stroke or not. \r\n"
      ],
      "metadata": {
        "nteract": {
          "transient": {
            "deleting": false
          }
        }
      }
    },
    {
      "cell_type": "code",
      "source": [
        "ws = Workspace.from_config()\r\n",
        "\r\n",
        "# choose a name for experiment\r\n",
        "experiment_name = 'automl-stroke'\r\n",
        "\r\n",
        "experiment=Experiment(ws, experiment_name)"
      ],
      "outputs": [],
      "execution_count": 6,
      "metadata": {
        "gather": {
          "logged": 1631936875334
        },
        "jupyter": {
          "outputs_hidden": false,
          "source_hidden": false
        },
        "nteract": {
          "transient": {
            "deleting": false
          }
        }
      }
    },
    {
      "cell_type": "code",
      "source": [
        "#Access the external data needed for the project that has been downloaded from Kaggle and uploaded to the Azure workspace\r\n",
        "#This dataset, title Stroke Prediction Dataset, was downloaded from Kaggle for educational use. URL: https://www.kaggle.com/fedesoriano/stroke-prediction-dataset?select=healthcare-dataset-stroke-data.csv\r\n",
        "#The author of the dataset is fedesoriano\r\n",
        "\r\n",
        "# Load the registered dataset from workspace\r\n",
        "dataset = Dataset.get_by_name(ws, name='healthcare-dataset-stroke-data')\r\n",
        "\r\n",
        "# from azureml.data.dataset_factory import TabularDatasetFactory\r\n",
        "# from azureml.core.dataset import Dataset\r\n",
        "\r\n",
        "# url_paths = [\r\n",
        "#     \"https://www.kaggle.com/fedesoriano/stroke-prediction-dataset/download\"\r\n",
        "#     ]\r\n",
        "\r\n",
        "# # dataset = TabularDatasetFactory.from_delimited_files(path=url_paths)\r\n",
        "# dataset = Dataset.Tabular.from_delimited_files(path=url_paths)\r\n",
        "# type(dataset)\r\n",
        "\r\n",
        "# Convert the dataset to dataframe\r\n",
        "df = dataset.to_pandas_dataframe()\r\n",
        "df.info()"
      ],
      "outputs": [
        {
          "output_type": "stream",
          "name": "stdout",
          "text": "<class 'pandas.core.frame.DataFrame'>\nRangeIndex: 5110 entries, 0 to 5109\nData columns (total 11 columns):\ngender               5110 non-null object\nage                  5110 non-null float64\nhypertension         5110 non-null bool\nheart_disease        5110 non-null bool\never_married         5110 non-null bool\nwork_type            5110 non-null object\nResidence_type       5110 non-null object\navg_glucose_level    5110 non-null float64\nbmi                  4909 non-null float64\nsmoking_status       5110 non-null object\nstroke               5110 non-null bool\ndtypes: bool(4), float64(3), object(4)\nmemory usage: 299.5+ KB\n"
        }
      ],
      "execution_count": 7,
      "metadata": {
        "jupyter": {
          "source_hidden": false,
          "outputs_hidden": false
        },
        "nteract": {
          "transient": {
            "deleting": false
          }
        },
        "gather": {
          "logged": 1631936880412
        }
      }
    },
    {
      "cell_type": "code",
      "source": [
        "df.describe()"
      ],
      "outputs": [
        {
          "output_type": "execute_result",
          "execution_count": 8,
          "data": {
            "text/plain": "               age  avg_glucose_level          bmi\ncount  5110.000000        5110.000000  4909.000000\nmean     43.226614         106.147677    28.893237\nstd      22.612647          45.283560     7.854067\nmin       0.080000          55.120000    10.300000\n25%      25.000000          77.245000    23.500000\n50%      45.000000          91.885000    28.100000\n75%      61.000000         114.090000    33.100000\nmax      82.000000         271.740000    97.600000",
            "text/html": "<div>\n<style scoped>\n    .dataframe tbody tr th:only-of-type {\n        vertical-align: middle;\n    }\n\n    .dataframe tbody tr th {\n        vertical-align: top;\n    }\n\n    .dataframe thead th {\n        text-align: right;\n    }\n</style>\n<table border=\"1\" class=\"dataframe\">\n  <thead>\n    <tr style=\"text-align: right;\">\n      <th></th>\n      <th>age</th>\n      <th>avg_glucose_level</th>\n      <th>bmi</th>\n    </tr>\n  </thead>\n  <tbody>\n    <tr>\n      <th>count</th>\n      <td>5110.000000</td>\n      <td>5110.000000</td>\n      <td>4909.000000</td>\n    </tr>\n    <tr>\n      <th>mean</th>\n      <td>43.226614</td>\n      <td>106.147677</td>\n      <td>28.893237</td>\n    </tr>\n    <tr>\n      <th>std</th>\n      <td>22.612647</td>\n      <td>45.283560</td>\n      <td>7.854067</td>\n    </tr>\n    <tr>\n      <th>min</th>\n      <td>0.080000</td>\n      <td>55.120000</td>\n      <td>10.300000</td>\n    </tr>\n    <tr>\n      <th>25%</th>\n      <td>25.000000</td>\n      <td>77.245000</td>\n      <td>23.500000</td>\n    </tr>\n    <tr>\n      <th>50%</th>\n      <td>45.000000</td>\n      <td>91.885000</td>\n      <td>28.100000</td>\n    </tr>\n    <tr>\n      <th>75%</th>\n      <td>61.000000</td>\n      <td>114.090000</td>\n      <td>33.100000</td>\n    </tr>\n    <tr>\n      <th>max</th>\n      <td>82.000000</td>\n      <td>271.740000</td>\n      <td>97.600000</td>\n    </tr>\n  </tbody>\n</table>\n</div>"
          },
          "metadata": {}
        }
      ],
      "execution_count": 8,
      "metadata": {
        "jupyter": {
          "source_hidden": false,
          "outputs_hidden": false
        },
        "nteract": {
          "transient": {
            "deleting": false
          }
        },
        "gather": {
          "logged": 1631936880807
        }
      }
    },
    {
      "cell_type": "code",
      "source": [
        "df.head(10)"
      ],
      "outputs": [
        {
          "output_type": "execute_result",
          "execution_count": 9,
          "data": {
            "text/plain": "   gender   age  hypertension  heart_disease  ever_married      work_type  \\\n0    Male  67.0         False           True          True        Private   \n1  Female  61.0         False          False          True  Self-employed   \n2    Male  80.0         False           True          True        Private   \n3  Female  49.0         False          False          True        Private   \n4  Female  79.0          True          False          True  Self-employed   \n5    Male  81.0         False          False          True        Private   \n6    Male  74.0          True           True          True        Private   \n7  Female  69.0         False          False         False        Private   \n8  Female  59.0         False          False          True        Private   \n9  Female  78.0         False          False          True        Private   \n\n  Residence_type  avg_glucose_level   bmi   smoking_status  stroke  \n0          Urban             228.69  36.6  formerly smoked    True  \n1          Rural             202.21   NaN     never smoked    True  \n2          Rural             105.92  32.5     never smoked    True  \n3          Urban             171.23  34.4           smokes    True  \n4          Rural             174.12  24.0     never smoked    True  \n5          Urban             186.21  29.0  formerly smoked    True  \n6          Rural              70.09  27.4     never smoked    True  \n7          Urban              94.39  22.8     never smoked    True  \n8          Rural              76.15   NaN          Unknown    True  \n9          Urban              58.57  24.2          Unknown    True  ",
            "text/html": "<div>\n<style scoped>\n    .dataframe tbody tr th:only-of-type {\n        vertical-align: middle;\n    }\n\n    .dataframe tbody tr th {\n        vertical-align: top;\n    }\n\n    .dataframe thead th {\n        text-align: right;\n    }\n</style>\n<table border=\"1\" class=\"dataframe\">\n  <thead>\n    <tr style=\"text-align: right;\">\n      <th></th>\n      <th>gender</th>\n      <th>age</th>\n      <th>hypertension</th>\n      <th>heart_disease</th>\n      <th>ever_married</th>\n      <th>work_type</th>\n      <th>Residence_type</th>\n      <th>avg_glucose_level</th>\n      <th>bmi</th>\n      <th>smoking_status</th>\n      <th>stroke</th>\n    </tr>\n  </thead>\n  <tbody>\n    <tr>\n      <th>0</th>\n      <td>Male</td>\n      <td>67.0</td>\n      <td>False</td>\n      <td>True</td>\n      <td>True</td>\n      <td>Private</td>\n      <td>Urban</td>\n      <td>228.69</td>\n      <td>36.6</td>\n      <td>formerly smoked</td>\n      <td>True</td>\n    </tr>\n    <tr>\n      <th>1</th>\n      <td>Female</td>\n      <td>61.0</td>\n      <td>False</td>\n      <td>False</td>\n      <td>True</td>\n      <td>Self-employed</td>\n      <td>Rural</td>\n      <td>202.21</td>\n      <td>NaN</td>\n      <td>never smoked</td>\n      <td>True</td>\n    </tr>\n    <tr>\n      <th>2</th>\n      <td>Male</td>\n      <td>80.0</td>\n      <td>False</td>\n      <td>True</td>\n      <td>True</td>\n      <td>Private</td>\n      <td>Rural</td>\n      <td>105.92</td>\n      <td>32.5</td>\n      <td>never smoked</td>\n      <td>True</td>\n    </tr>\n    <tr>\n      <th>3</th>\n      <td>Female</td>\n      <td>49.0</td>\n      <td>False</td>\n      <td>False</td>\n      <td>True</td>\n      <td>Private</td>\n      <td>Urban</td>\n      <td>171.23</td>\n      <td>34.4</td>\n      <td>smokes</td>\n      <td>True</td>\n    </tr>\n    <tr>\n      <th>4</th>\n      <td>Female</td>\n      <td>79.0</td>\n      <td>True</td>\n      <td>False</td>\n      <td>True</td>\n      <td>Self-employed</td>\n      <td>Rural</td>\n      <td>174.12</td>\n      <td>24.0</td>\n      <td>never smoked</td>\n      <td>True</td>\n    </tr>\n    <tr>\n      <th>5</th>\n      <td>Male</td>\n      <td>81.0</td>\n      <td>False</td>\n      <td>False</td>\n      <td>True</td>\n      <td>Private</td>\n      <td>Urban</td>\n      <td>186.21</td>\n      <td>29.0</td>\n      <td>formerly smoked</td>\n      <td>True</td>\n    </tr>\n    <tr>\n      <th>6</th>\n      <td>Male</td>\n      <td>74.0</td>\n      <td>True</td>\n      <td>True</td>\n      <td>True</td>\n      <td>Private</td>\n      <td>Rural</td>\n      <td>70.09</td>\n      <td>27.4</td>\n      <td>never smoked</td>\n      <td>True</td>\n    </tr>\n    <tr>\n      <th>7</th>\n      <td>Female</td>\n      <td>69.0</td>\n      <td>False</td>\n      <td>False</td>\n      <td>False</td>\n      <td>Private</td>\n      <td>Urban</td>\n      <td>94.39</td>\n      <td>22.8</td>\n      <td>never smoked</td>\n      <td>True</td>\n    </tr>\n    <tr>\n      <th>8</th>\n      <td>Female</td>\n      <td>59.0</td>\n      <td>False</td>\n      <td>False</td>\n      <td>True</td>\n      <td>Private</td>\n      <td>Rural</td>\n      <td>76.15</td>\n      <td>NaN</td>\n      <td>Unknown</td>\n      <td>True</td>\n    </tr>\n    <tr>\n      <th>9</th>\n      <td>Female</td>\n      <td>78.0</td>\n      <td>False</td>\n      <td>False</td>\n      <td>True</td>\n      <td>Private</td>\n      <td>Urban</td>\n      <td>58.57</td>\n      <td>24.2</td>\n      <td>Unknown</td>\n      <td>True</td>\n    </tr>\n  </tbody>\n</table>\n</div>"
          },
          "metadata": {}
        }
      ],
      "execution_count": 9,
      "metadata": {
        "jupyter": {
          "source_hidden": false,
          "outputs_hidden": false
        },
        "nteract": {
          "transient": {
            "deleting": false
          }
        },
        "gather": {
          "logged": 1631936881055
        }
      }
    },
    {
      "cell_type": "code",
      "source": [
        "# Create the CPU computer cluster\r\n",
        "amlcompute_cluster_name = \"capstone\"\r\n",
        "\r\n",
        "# Verify if cluster does not exist otherwise use the existing one\r\n",
        "try:\r\n",
        "    compute_target = ComputeTarget(workspace=ws, name=amlcompute_cluster_name)\r\n",
        "    print('Found existing cluster, use it.')\r\n",
        "except ComputeTargetException:\r\n",
        "    compute_config = AmlCompute.provisioning_configuration(vm_size='Standard_DS12_V2',\r\n",
        "                                                           vm_priority = 'lowpriority', \r\n",
        "                                                           max_nodes=5,\r\n",
        "                                                           min_nodes=0,\r\n",
        "                                                           idle_seconds_before_scaledown=600)\r\n",
        "    compute_target = ComputeTarget.create(ws, amlcompute_cluster_name, compute_config)\r\n",
        "\r\n",
        "compute_target.wait_for_completion(show_output=True)"
      ],
      "outputs": [
        {
          "output_type": "stream",
          "name": "stdout",
          "text": "InProgress...\nSucceededProvisioning operation finished, operation \"Succeeded\"\nSucceeded\nAmlCompute wait for completion finished\n\nMinimum number of nodes requested have been provisioned\n"
        }
      ],
      "execution_count": 10,
      "metadata": {
        "jupyter": {
          "source_hidden": false,
          "outputs_hidden": false
        },
        "nteract": {
          "transient": {
            "deleting": false
          }
        },
        "gather": {
          "logged": 1631936896953
        }
      }
    },
    {
      "cell_type": "markdown",
      "source": [
        "## AutoML Configuration\n",
        "\n",
        "TODO: Explain why you chose the automl settings and cofiguration you used below."
      ],
      "metadata": {}
    },
    {
      "cell_type": "markdown",
      "source": [
        "Overview of the AutoML settings and the configuration that was used:\r\n",
        "- \"experiment_timeout_minutes\": set to 30 minutes. The experiment will timeout after after this period of time to avoid incurring additional expense.\r\n",
        "- \"max_concurrent_iterations\": set to 4. The max number of concurrent iterations that can be run on the nodes in the compute cluster.\r\n",
        "- \"primary_metric\" : set to 'accuracy' because this is a classification problems.\r\n",
        "- \"n_cross_validations\": set to 5, therefore the training and validation sets will be divided into five equal sets.\r\n",
        "- \"iterations\": set to 25. \r\n",
        "- compute_target: set to the CPU compute cluster name defined above.\r\n",
        "- task: set to 'classification' because our target is to predict whether the patient had a stroke or not.\r\n",
        "- training_data: the dataset for the project.\r\n",
        "- label_column_name: set to the target colunm in the dataset 'stroke' (true or false).\r\n",
        "- enable_early_stopping: enabled to terminate the experiment if the accuracy score does not improveme over time, thus avoiding unnecessary costs.\r\n",
        "- featurization = set to 'auto' so Azure ML will automatically handle featurization and clean the dataset. \r\n",
        "- debug_log: errors will be logged into 'automl_errors.log'."
      ],
      "metadata": {
        "nteract": {
          "transient": {
            "deleting": false
          }
        }
      }
    },
    {
      "cell_type": "code",
      "source": [
        "\r\n",
        "\r\n",
        "# TODO: Put your automl settings here\r\n",
        "automl_settings = {\r\n",
        "    \"experiment_timeout_minutes\": 30,\r\n",
        "    \"max_concurrent_iterations\": 4,\r\n",
        "    \"primary_metric\" : 'accuracy',\r\n",
        "    \"n_cross_validations\": 5,\r\n",
        "    \"iterations\": 25\r\n",
        "    }\r\n",
        "\r\n",
        "# TODO: Put your automl config here\r\n",
        "automl_config = AutoMLConfig(\r\n",
        "    compute_target=compute_target,\r\n",
        "    task = 'classification',\r\n",
        "    training_data=dataset,\r\n",
        "    label_column_name='stroke',\r\n",
        "    enable_early_stopping= True,\r\n",
        "    featurization = 'auto',\r\n",
        "    debug_log = 'automl_errors.log',\r\n",
        "    **automl_settings)\r\n"
      ],
      "outputs": [],
      "execution_count": 11,
      "metadata": {
        "gather": {
          "logged": 1631936897331
        },
        "jupyter": {
          "outputs_hidden": false,
          "source_hidden": false
        },
        "nteract": {
          "transient": {
            "deleting": false
          }
        }
      }
    },
    {
      "cell_type": "code",
      "source": [
        "# TODO: Submit your experiment\r\n",
        "remote_run = experiment.submit(automl_config, show_output = True)"
      ],
      "outputs": [
        {
          "output_type": "stream",
          "name": "stdout",
          "text": "Submitting remote run.\nNo run_configuration provided, running on capstone with default configuration\nRunning on remote compute: capstone\n"
        },
        {
          "output_type": "display_data",
          "data": {
            "text/plain": "<IPython.core.display.HTML object>",
            "text/html": "<table style=\"width:100%\"><tr><th>Experiment</th><th>Id</th><th>Type</th><th>Status</th><th>Details Page</th><th>Docs Page</th></tr><tr><td>automl-stroke</td><td>AutoML_309f23b9-0d73-40f1-a561-7139fab856b6</td><td>automl</td><td>NotStarted</td><td><a href=\"https://ml.azure.com/runs/AutoML_309f23b9-0d73-40f1-a561-7139fab856b6?wsid=/subscriptions/bd6c48f0-b2f5-4fd8-b4de-3351b13cbee8/resourcegroups/udacity-nano-degree/workspaces/udacity-courtlin&amp;tid=3920f434-053b-4f53-aa54-b09a04e8f6dd\" target=\"_blank\" rel=\"noopener\">Link to Azure Machine Learning studio</a></td><td><a href=\"https://docs.microsoft.com/en-us/python/api/overview/azure/ml/intro?view=azure-ml-py\" target=\"_blank\" rel=\"noopener\">Link to Documentation</a></td></tr></table>"
          },
          "metadata": {}
        },
        {
          "output_type": "stream",
          "name": "stdout",
          "text": "\nCurrent status: FeaturesGeneration. Generating features for the dataset.\nCurrent status: DatasetCrossValidationSplit. Generating individually featurized CV splits.\nCurrent status: ModelSelection. Beginning model selection.\n\n****************************************************************************************************\nDATA GUARDRAILS: \n\nTYPE:         Class balancing detection\nSTATUS:       ALERTED\nDESCRIPTION:  To decrease model bias, please cancel the current run and fix balancing problem.\n              Learn more about imbalanced data: https://aka.ms/AutomatedMLImbalancedData\nDETAILS:      Imbalanced data can lead to a falsely perceived positive effect of a model's accuracy because the input data has bias towards one class.\n+---------------------------------+---------------------------------+--------------------------------------+\n|Size of the smallest class       |Name/Label of the smallest class |Number of samples in the training data|\n+=================================+=================================+======================================+\n|249                              |True                             |5110                                  |\n+---------------------------------+---------------------------------+--------------------------------------+\n\n****************************************************************************************************\n\nTYPE:         Missing feature values imputation\nSTATUS:       DONE\nDESCRIPTION:  If the missing values are expected, let the run complete. Otherwise cancel the current run and use a script to customize the handling of missing feature values that may be more appropriate based on the data type and business requirement.\n              Learn more about missing value imputation: https://aka.ms/AutomatedMLFeaturization\nDETAILS:      \n+---------------------------------+---------------------------------+---------------------------------+\n|Column name                      |Missing value count              |Imputation type                  |\n+=================================+=================================+=================================+\n|bmi                              |201                              |mean                             |\n+---------------------------------+---------------------------------+---------------------------------+\n\n****************************************************************************************************\n\nTYPE:         High cardinality feature detection\nSTATUS:       PASSED\nDESCRIPTION:  Your inputs were analyzed, and no high cardinality features were detected.\n              Learn more about high cardinality feature handling: https://aka.ms/AutomatedMLFeaturization\n\n****************************************************************************************************\n\n****************************************************************************************************\nITERATION: The iteration being evaluated.\nPIPELINE: A summary description of the pipeline being evaluated.\nDURATION: Time taken for the current iteration.\nMETRIC: The result of computing score on the fitted pipeline.\nBEST: The best observed score thus far.\n****************************************************************************************************\n\n ITERATION   PIPELINE                                       DURATION      METRIC      BEST\n         3   SparseNormalizer XGBoostClassifier             0:00:39       0.9509    0.9509\n         2   MaxAbsScaler ExtremeRandomTrees                0:00:38       0.6937    0.9509\n         1   MaxAbsScaler XGBoostClassifier                 0:00:37       0.9509    0.9509\n         0   MaxAbsScaler LightGBM                          0:01:25       0.9481    0.9509\n         4   MaxAbsScaler LightGBM                          0:01:21       0.9513    0.9513\n         5   MaxAbsScaler LightGBM                          0:01:22       0.9513    0.9513\n         6   StandardScalerWrapper XGBoostClassifier        0:01:30       0.9515    0.9515\n         7   MaxAbsScaler LogisticRegression                0:00:41       0.9497    0.9515\n         8   StandardScalerWrapper ExtremeRandomTrees       0:00:38       0.9513    0.9515\n         9   StandardScalerWrapper XGBoostClassifier        0:00:37       0.9513    0.9515\n        10   SparseNormalizer LightGBM                      0:00:35       0.9513    0.9515\n        11   StandardScalerWrapper XGBoostClassifier        0:00:46       0.9511    0.9515\n        13   MaxAbsScaler SGD                               0:00:37       0.7391    0.9515\n        12   MaxAbsScaler LogisticRegression                0:00:52       0.9501    0.9515\n        14   StandardScalerWrapper XGBoostClassifier        0:01:03       0.9517    0.9517\n        15   SparseNormalizer RandomForest                  0:00:41       0.8106    0.9517\n        16   StandardScalerWrapper LogisticRegression       0:00:34       0.9497    0.9517\n        17   StandardScalerWrapper RandomForest             0:00:39       0.9513    0.9517\n        18   StandardScalerWrapper XGBoostClassifier        0:00:40       0.9519    0.9519\n        19   TruncatedSVDWrapper RandomForest               0:00:46       0.7219    0.9519\n        21   StandardScalerWrapper XGBoostClassifier        0:00:38       0.9513    0.9519\n        20   TruncatedSVDWrapper RandomForest               0:00:51       0.8076    0.9519\n        22   SparseNormalizer XGBoostClassifier             0:00:37       0.9491    0.9519\n        23    VotingEnsemble                                0:00:54       0.9524    0.9524\n        24    StackEnsemble                                 0:00:51       0.9505    0.9524\n"
        }
      ],
      "execution_count": 12,
      "metadata": {
        "gather": {
          "logged": 1631937865988
        },
        "jupyter": {
          "outputs_hidden": false,
          "source_hidden": false
        },
        "nteract": {
          "transient": {
            "deleting": false
          }
        }
      }
    },
    {
      "cell_type": "markdown",
      "source": [
        "## Run Details\n",
        "\n",
        "OPTIONAL: Write about the different models trained and their performance. Why do you think some models did better than others?\n",
        "\n",
        "TODO: In the cell below, use the `RunDetails` widget to show the different experiments."
      ],
      "metadata": {}
    },
    {
      "cell_type": "code",
      "source": [
        "from azureml.widgets import RunDetails\r\n",
        "RunDetails(remote_run).show()"
      ],
      "outputs": [
        {
          "output_type": "display_data",
          "data": {
            "text/plain": "_AutoMLWidget(widget_settings={'childWidgetDisplay': 'popup', 'send_telemetry': False, 'log_level': 'INFO', 's…",
            "application/vnd.jupyter.widget-view+json": {
              "version_major": 2,
              "version_minor": 0,
              "model_id": "26f2b2117549400490ab216a8179c51a"
            }
          },
          "metadata": {}
        },
        {
          "output_type": "display_data",
          "data": {
            "application/aml.mini.widget.v1": "{\"status\": \"Completed\", \"workbench_run_details_uri\": \"https://ml.azure.com/runs/AutoML_309f23b9-0d73-40f1-a561-7139fab856b6?wsid=/subscriptions/bd6c48f0-b2f5-4fd8-b4de-3351b13cbee8/resourcegroups/udacity-nano-degree/workspaces/udacity-courtlin&tid=3920f434-053b-4f53-aa54-b09a04e8f6dd\", \"run_id\": \"AutoML_309f23b9-0d73-40f1-a561-7139fab856b6\", \"run_properties\": {\"run_id\": \"AutoML_309f23b9-0d73-40f1-a561-7139fab856b6\", \"created_utc\": \"2021-09-18T03:48:19.682249Z\", \"properties\": {\"num_iterations\": \"25\", \"training_type\": \"TrainFull\", \"acquisition_function\": \"EI\", \"primary_metric\": \"accuracy\", \"train_split\": \"0\", \"acquisition_parameter\": \"0\", \"num_cross_validation\": \"5\", \"target\": \"capstone\", \"AMLSettingsJsonString\": \"{\\\"path\\\":null,\\\"name\\\":\\\"automl-stroke\\\",\\\"subscription_id\\\":\\\"bd6c48f0-b2f5-4fd8-b4de-3351b13cbee8\\\",\\\"resource_group\\\":\\\"udacity-nano-degree\\\",\\\"workspace_name\\\":\\\"udacity-courtlin\\\",\\\"region\\\":\\\"eastus2\\\",\\\"compute_target\\\":\\\"capstone\\\",\\\"spark_service\\\":null,\\\"azure_service\\\":\\\"remote\\\",\\\"many_models\\\":false,\\\"pipeline_fetch_max_batch_size\\\":1,\\\"enable_batch_run\\\":false,\\\"enable_run_restructure\\\":false,\\\"start_auxiliary_runs_before_parent_complete\\\":false,\\\"enable_code_generation\\\":false,\\\"iterations\\\":25,\\\"primary_metric\\\":\\\"accuracy\\\",\\\"task_type\\\":\\\"classification\\\",\\\"data_script\\\":null,\\\"test_size\\\":0.0,\\\"validation_size\\\":0.0,\\\"n_cross_validations\\\":5,\\\"y_min\\\":null,\\\"y_max\\\":null,\\\"num_classes\\\":null,\\\"featurization\\\":\\\"auto\\\",\\\"_ignore_package_version_incompatibilities\\\":false,\\\"is_timeseries\\\":false,\\\"max_cores_per_iteration\\\":1,\\\"max_concurrent_iterations\\\":4,\\\"iteration_timeout_minutes\\\":null,\\\"mem_in_mb\\\":null,\\\"enforce_time_on_windows\\\":false,\\\"experiment_timeout_minutes\\\":30,\\\"experiment_exit_score\\\":null,\\\"whitelist_models\\\":null,\\\"blacklist_algos\\\":[\\\"TensorFlowLinearClassifier\\\",\\\"TensorFlowDNN\\\"],\\\"supported_models\\\":[\\\"MultinomialNaiveBayes\\\",\\\"SVM\\\",\\\"SGD\\\",\\\"XGBoostClassifier\\\",\\\"GradientBoosting\\\",\\\"ExtremeRandomTrees\\\",\\\"DecisionTree\\\",\\\"LogisticRegression\\\",\\\"RandomForest\\\",\\\"LightGBM\\\",\\\"TensorFlowDNN\\\",\\\"LinearSVM\\\",\\\"KNN\\\",\\\"BernoulliNaiveBayes\\\",\\\"AveragedPerceptronClassifier\\\",\\\"TensorFlowLinearClassifier\\\"],\\\"private_models\\\":[],\\\"auto_blacklist\\\":true,\\\"blacklist_samples_reached\\\":false,\\\"exclude_nan_labels\\\":true,\\\"verbosity\\\":20,\\\"_debug_log\\\":\\\"azureml_automl.log\\\",\\\"show_warnings\\\":false,\\\"model_explainability\\\":true,\\\"service_url\\\":null,\\\"sdk_url\\\":null,\\\"sdk_packages\\\":null,\\\"enable_onnx_compatible_models\\\":false,\\\"enable_split_onnx_featurizer_estimator_models\\\":false,\\\"vm_type\\\":\\\"STANDARD_DS12_V2\\\",\\\"telemetry_verbosity\\\":20,\\\"send_telemetry\\\":true,\\\"enable_dnn\\\":false,\\\"scenario\\\":\\\"SDK-1.13.0\\\",\\\"environment_label\\\":null,\\\"save_mlflow\\\":false,\\\"force_text_dnn\\\":false,\\\"enable_feature_sweeping\\\":true,\\\"enable_early_stopping\\\":true,\\\"early_stopping_n_iters\\\":10,\\\"metrics\\\":null,\\\"enable_metric_confidence\\\":false,\\\"enable_ensembling\\\":true,\\\"enable_stack_ensembling\\\":true,\\\"ensemble_iterations\\\":15,\\\"enable_tf\\\":false,\\\"enable_subsampling\\\":false,\\\"subsample_seed\\\":null,\\\"enable_nimbusml\\\":false,\\\"enable_streaming\\\":false,\\\"force_streaming\\\":false,\\\"track_child_runs\\\":true,\\\"allowed_private_models\\\":[],\\\"label_column_name\\\":\\\"stroke\\\",\\\"weight_column_name\\\":null,\\\"cv_split_column_names\\\":null,\\\"enable_local_managed\\\":false,\\\"_local_managed_run_id\\\":null,\\\"cost_mode\\\":1,\\\"lag_length\\\":0,\\\"metric_operation\\\":\\\"maximize\\\",\\\"preprocess\\\":true}\", \"DataPrepJsonString\": \"{\\\\\\\"training_data\\\\\\\": {\\\\\\\"datasetId\\\\\\\": \\\\\\\"a27e1f62-cf55-4c30-9a82-0bbad12df2ab\\\\\\\"}, \\\\\\\"datasets\\\\\\\": 0}\", \"EnableSubsampling\": \"False\", \"runTemplate\": \"AutoML\", \"azureml.runsource\": \"automl\", \"display_task_type\": \"classification\", \"dependencies_versions\": \"{\\\"azureml-widgets\\\": \\\"1.33.0\\\", \\\"azureml-train\\\": \\\"1.33.0\\\", \\\"azureml-train-restclients-hyperdrive\\\": \\\"1.33.0\\\", \\\"azureml-train-core\\\": \\\"1.33.0\\\", \\\"azureml-train-automl\\\": \\\"1.33.0\\\", \\\"azureml-train-automl-runtime\\\": \\\"1.33.0\\\", \\\"azureml-train-automl-client\\\": \\\"1.33.0\\\", \\\"azureml-tensorboard\\\": \\\"1.33.0\\\", \\\"azureml-telemetry\\\": \\\"1.33.0\\\", \\\"azureml-sdk\\\": \\\"1.33.0\\\", \\\"azureml-samples\\\": \\\"0+unknown\\\", \\\"azureml-responsibleai\\\": \\\"1.33.0\\\", \\\"azureml-pipeline\\\": \\\"1.33.0\\\", \\\"azureml-pipeline-steps\\\": \\\"1.33.0\\\", \\\"azureml-pipeline-core\\\": \\\"1.33.0\\\", \\\"azureml-opendatasets\\\": \\\"1.33.0\\\", \\\"azureml-mlflow\\\": \\\"1.33.0\\\", \\\"azureml-interpret\\\": \\\"1.33.0\\\", \\\"azureml-explain-model\\\": \\\"1.33.0\\\", \\\"azureml-defaults\\\": \\\"1.33.0\\\", \\\"azureml-dataset-runtime\\\": \\\"1.33.0\\\", \\\"azureml-dataprep\\\": \\\"2.20.1\\\", \\\"azureml-dataprep-rslex\\\": \\\"1.18.0\\\", \\\"azureml-dataprep-native\\\": \\\"38.0.0\\\", \\\"azureml-datadrift\\\": \\\"1.33.0\\\", \\\"azureml-core\\\": \\\"1.33.0\\\", \\\"azureml-contrib-services\\\": \\\"1.33.0\\\", \\\"azureml-contrib-server\\\": \\\"1.33.0\\\", \\\"azureml-contrib-reinforcementlearning\\\": \\\"1.33.0\\\", \\\"azureml-contrib-pipeline-steps\\\": \\\"1.33.0\\\", \\\"azureml-contrib-notebook\\\": \\\"1.33.0\\\", \\\"azureml-contrib-fairness\\\": \\\"1.33.0\\\", \\\"azureml-contrib-dataset\\\": \\\"1.33.0\\\", \\\"azureml-cli-common\\\": \\\"1.33.0\\\", \\\"azureml-automl-runtime\\\": \\\"1.33.0\\\", \\\"azureml-automl-dnn-nlp\\\": \\\"1.33.0\\\", \\\"azureml-automl-core\\\": \\\"1.33.0\\\", \\\"azureml-accel-models\\\": \\\"1.33.0\\\"}\", \"_aml_system_scenario_identification\": \"Remote.Parent\", \"ClientType\": \"SDK\", \"environment_cpu_name\": \"AzureML-AutoML\", \"environment_cpu_label\": \"prod\", \"environment_gpu_name\": \"AzureML-AutoML-GPU\", \"environment_gpu_label\": \"prod\", \"root_attribution\": \"automl\", \"attribution\": \"AutoML\", \"Orchestrator\": \"AutoML\", \"CancelUri\": \"https://eastus2.api.azureml.ms/jasmine/v1.0/subscriptions/bd6c48f0-b2f5-4fd8-b4de-3351b13cbee8/resourceGroups/udacity-nano-degree/providers/Microsoft.MachineLearningServices/workspaces/udacity-courtlin/experimentids/c12ba66d-8fe7-450a-84a3-d3aba995318e/cancel/AutoML_309f23b9-0d73-40f1-a561-7139fab856b6\", \"ClientSdkVersion\": \"1.34.0\", \"snapshotId\": \"00000000-0000-0000-0000-000000000000\", \"SetupRunId\": \"AutoML_309f23b9-0d73-40f1-a561-7139fab856b6_setup\", \"SetupRunContainerId\": \"dcid.AutoML_309f23b9-0d73-40f1-a561-7139fab856b6_setup\", \"FeaturizationRunJsonPath\": \"featurizer_container.json\", \"FeaturizationRunId\": \"AutoML_309f23b9-0d73-40f1-a561-7139fab856b6_featurize\", \"ProblemInfoJsonString\": \"{\\\"dataset_num_categorical\\\": 0, \\\"is_sparse\\\": true, \\\"subsampling\\\": false, \\\"has_extra_col\\\": true, \\\"dataset_classes\\\": 2, \\\"dataset_features\\\": 20, \\\"dataset_samples\\\": 5110, \\\"single_frequency_class_detected\\\": false}\", \"ModelExplainRunId\": \"AutoML_309f23b9-0d73-40f1-a561-7139fab856b6_ModelExplain\"}, \"tags\": {\"model_explain_run\": \"best_run\", \"_aml_system_azureml.automlComponent\": \"AutoML\", \"pipeline_id\": \"\", \"score\": \"\", \"predicted_cost\": \"\", \"fit_time\": \"\", \"training_percent\": \"\", \"iteration\": \"\", \"run_preprocessor\": \"\", \"run_algorithm\": \"\", \"automl_best_child_run_id\": \"AutoML_309f23b9-0d73-40f1-a561-7139fab856b6_23\", \"model_explain_best_run_child_id\": \"AutoML_309f23b9-0d73-40f1-a561-7139fab856b6_23\"}, \"end_time_utc\": \"2021-09-18T04:04:09.973286Z\", \"status\": \"Completed\", \"log_files\": {}, \"log_groups\": [], \"run_duration\": \"0:15:50\", \"run_number\": \"1\", \"run_queued_details\": {\"status\": \"Completed\", \"details\": null}}, \"child_runs\": [{\"run_id\": \"AutoML_309f23b9-0d73-40f1-a561-7139fab856b6_0\", \"run_number\": 5, \"metric\": null, \"status\": \"Completed\", \"run_type\": \"azureml.scriptrun\", \"training_percent\": \"100\", \"start_time\": \"2021-09-18T03:57:50.830448Z\", \"end_time\": \"2021-09-18T03:59:16.165254Z\", \"created_time\": \"2021-09-18T03:55:09.109075Z\", \"created_time_dt\": \"2021-09-18T03:55:09.109075Z\", \"duration\": \"0:04:07\", \"iteration\": \"0\", \"goal\": \"accuracy_max\", \"run_name\": \"MaxAbsScaler, LightGBM\", \"run_properties\": \"copy=True\", \"primary_metric\": 0.9481409, \"best_metric\": 0.9481409}, {\"run_id\": \"AutoML_309f23b9-0d73-40f1-a561-7139fab856b6_2\", \"run_number\": 6, \"metric\": null, \"status\": \"Completed\", \"run_type\": \"azureml.scriptrun\", \"training_percent\": \"100\", \"start_time\": \"2021-09-18T03:56:17.978351Z\", \"end_time\": \"2021-09-18T03:56:56.259576Z\", \"created_time\": \"2021-09-18T03:55:09.136654Z\", \"created_time_dt\": \"2021-09-18T03:55:09.136654Z\", \"duration\": \"0:01:47\", \"iteration\": \"2\", \"goal\": \"accuracy_max\", \"run_name\": \"MaxAbsScaler, ExtremeRandomTrees\", \"run_properties\": \"copy=True\", \"primary_metric\": 0.69373777, \"best_metric\": 0.95088063}, {\"run_id\": \"AutoML_309f23b9-0d73-40f1-a561-7139fab856b6_3\", \"run_number\": 7, \"metric\": null, \"status\": \"Completed\", \"run_type\": \"azureml.scriptrun\", \"training_percent\": \"100\", \"start_time\": \"2021-09-18T03:55:23.6172Z\", \"end_time\": \"2021-09-18T03:56:02.540624Z\", \"created_time\": \"2021-09-18T03:55:09.153413Z\", \"created_time_dt\": \"2021-09-18T03:55:09.153413Z\", \"duration\": \"0:00:53\", \"iteration\": \"3\", \"goal\": \"accuracy_max\", \"run_name\": \"SparseNormalizer, XGBoostClassifier\", \"run_properties\": \"copy=True, norm='l2'\", \"primary_metric\": 0.95088063, \"best_metric\": 0.95088063}, {\"run_id\": \"AutoML_309f23b9-0d73-40f1-a561-7139fab856b6_1\", \"run_number\": 8, \"metric\": null, \"status\": \"Completed\", \"run_type\": \"azureml.scriptrun\", \"training_percent\": \"100\", \"start_time\": \"2021-09-18T03:57:12.280612Z\", \"end_time\": \"2021-09-18T03:57:49.469614Z\", \"created_time\": \"2021-09-18T03:55:09.133966Z\", \"created_time_dt\": \"2021-09-18T03:55:09.133966Z\", \"duration\": \"0:02:40\", \"iteration\": \"1\", \"goal\": \"accuracy_max\", \"run_name\": \"MaxAbsScaler, XGBoostClassifier\", \"run_properties\": \"copy=True\", \"primary_metric\": 0.95088063, \"best_metric\": 0.95088063}, {\"run_id\": \"AutoML_309f23b9-0d73-40f1-a561-7139fab856b6_4\", \"run_number\": 9, \"metric\": null, \"status\": \"Completed\", \"run_type\": \"azureml.scriptrun\", \"training_percent\": \"100\", \"start_time\": \"2021-09-18T03:57:51.638495Z\", \"end_time\": \"2021-09-18T03:59:12.917133Z\", \"created_time\": \"2021-09-18T03:56:04.802334Z\", \"created_time_dt\": \"2021-09-18T03:56:04.802334Z\", \"duration\": \"0:03:08\", \"iteration\": \"4\", \"goal\": \"accuracy_max\", \"run_name\": \"MaxAbsScaler, LightGBM\", \"run_properties\": \"copy=True\", \"primary_metric\": 0.95127202, \"best_metric\": 0.95127202}, {\"run_id\": \"AutoML_309f23b9-0d73-40f1-a561-7139fab856b6_5\", \"run_number\": 10, \"metric\": null, \"status\": \"Completed\", \"run_type\": \"azureml.scriptrun\", \"training_percent\": \"100\", \"start_time\": \"2021-09-18T03:57:51.085182Z\", \"end_time\": \"2021-09-18T03:59:13.431441Z\", \"created_time\": \"2021-09-18T03:56:58.517381Z\", \"created_time_dt\": \"2021-09-18T03:56:58.517381Z\", \"duration\": \"0:02:14\", \"iteration\": \"5\", \"goal\": \"accuracy_max\", \"run_name\": \"MaxAbsScaler, LightGBM\", \"run_properties\": \"copy=True\", \"primary_metric\": 0.95127202, \"best_metric\": 0.95127202}, {\"run_id\": \"AutoML_309f23b9-0d73-40f1-a561-7139fab856b6_6\", \"run_number\": 11, \"metric\": null, \"status\": \"Completed\", \"run_type\": \"azureml.scriptrun\", \"training_percent\": \"100\", \"start_time\": \"2021-09-18T03:57:59.685885Z\", \"end_time\": \"2021-09-18T03:59:29.723086Z\", \"created_time\": \"2021-09-18T03:57:51.716405Z\", \"created_time_dt\": \"2021-09-18T03:57:51.716405Z\", \"duration\": \"0:01:38\", \"iteration\": \"6\", \"goal\": \"accuracy_max\", \"run_name\": \"StandardScalerWrapper, XGBoostClassifier\", \"run_properties\": \"\\n    copy=True,\\n    with_mean=False,\\n    with_std=False\\n\", \"primary_metric\": 0.95146771, \"best_metric\": 0.95146771}, {\"run_id\": \"AutoML_309f23b9-0d73-40f1-a561-7139fab856b6_7\", \"run_number\": 12, \"metric\": null, \"status\": \"Completed\", \"run_type\": \"azureml.scriptrun\", \"training_percent\": \"100\", \"start_time\": \"2021-09-18T03:59:22.575155Z\", \"end_time\": \"2021-09-18T04:00:03.137246Z\", \"created_time\": \"2021-09-18T03:59:15.413495Z\", \"created_time_dt\": \"2021-09-18T03:59:15.413495Z\", \"duration\": \"0:00:47\", \"iteration\": \"7\", \"goal\": \"accuracy_max\", \"run_name\": \"MaxAbsScaler, LogisticRegression\", \"run_properties\": \"copy=True\", \"primary_metric\": 0.94970646, \"best_metric\": 0.95146771}, {\"run_id\": \"AutoML_309f23b9-0d73-40f1-a561-7139fab856b6_8\", \"run_number\": 13, \"metric\": null, \"status\": \"Completed\", \"run_type\": \"azureml.scriptrun\", \"training_percent\": \"100\", \"start_time\": \"2021-09-18T03:59:28.51863Z\", \"end_time\": \"2021-09-18T04:00:06.661952Z\", \"created_time\": \"2021-09-18T03:59:18.684691Z\", \"created_time_dt\": \"2021-09-18T03:59:18.684691Z\", \"duration\": \"0:00:47\", \"iteration\": \"8\", \"goal\": \"accuracy_max\", \"run_name\": \"StandardScalerWrapper, ExtremeRandomTrees\", \"run_properties\": \"\\n    copy=True,\\n    with_mean=False,\\n    with_std=False\\n\", \"primary_metric\": 0.95127202, \"best_metric\": 0.95146771}, {\"run_id\": \"AutoML_309f23b9-0d73-40f1-a561-7139fab856b6_9\", \"run_number\": 14, \"metric\": null, \"status\": \"Completed\", \"run_type\": \"azureml.scriptrun\", \"training_percent\": \"100\", \"start_time\": \"2021-09-18T03:59:28.734032Z\", \"end_time\": \"2021-09-18T04:00:05.671274Z\", \"created_time\": \"2021-09-18T03:59:18.725261Z\", \"created_time_dt\": \"2021-09-18T03:59:18.725261Z\", \"duration\": \"0:00:46\", \"iteration\": \"9\", \"goal\": \"accuracy_max\", \"run_name\": \"StandardScalerWrapper, XGBoostClassifier\", \"run_properties\": \"\\n    copy=True,\\n    with_mean=False,\\n    with_std=False\\n\", \"primary_metric\": 0.95127202, \"best_metric\": 0.95146771}, {\"run_id\": \"AutoML_309f23b9-0d73-40f1-a561-7139fab856b6_10\", \"run_number\": 15, \"metric\": null, \"status\": \"Completed\", \"run_type\": \"azureml.scriptrun\", \"training_percent\": \"100\", \"start_time\": \"2021-09-18T03:59:39.274372Z\", \"end_time\": \"2021-09-18T04:00:14.665291Z\", \"created_time\": \"2021-09-18T03:59:31.962858Z\", \"created_time_dt\": \"2021-09-18T03:59:31.962858Z\", \"duration\": \"0:00:42\", \"iteration\": \"10\", \"goal\": \"accuracy_max\", \"run_name\": \"SparseNormalizer, LightGBM\", \"run_properties\": \"copy=True, norm='l1'\", \"primary_metric\": 0.95127202, \"best_metric\": 0.95146771}, {\"run_id\": \"AutoML_309f23b9-0d73-40f1-a561-7139fab856b6_11\", \"run_number\": 16, \"metric\": null, \"status\": \"Completed\", \"run_type\": \"azureml.scriptrun\", \"training_percent\": \"100\", \"start_time\": \"2021-09-18T04:00:11.118164Z\", \"end_time\": \"2021-09-18T04:00:57.405958Z\", \"created_time\": \"2021-09-18T04:00:05.43817Z\", \"created_time_dt\": \"2021-09-18T04:00:05.43817Z\", \"duration\": \"0:00:51\", \"iteration\": \"11\", \"goal\": \"accuracy_max\", \"run_name\": \"StandardScalerWrapper, XGBoostClassifier\", \"run_properties\": \"\\n    copy=True,\\n    with_mean=False,\\n    with_std=False\\n\", \"primary_metric\": 0.95107632, \"best_metric\": 0.95146771}, {\"run_id\": \"AutoML_309f23b9-0d73-40f1-a561-7139fab856b6_12\", \"run_number\": 17, \"metric\": null, \"status\": \"Completed\", \"run_type\": \"azureml.scriptrun\", \"training_percent\": \"100\", \"start_time\": \"2021-09-18T04:00:20.089378Z\", \"end_time\": \"2021-09-18T04:01:11.633549Z\", \"created_time\": \"2021-09-18T04:00:08.779987Z\", \"created_time_dt\": \"2021-09-18T04:00:08.779987Z\", \"duration\": \"0:01:02\", \"iteration\": \"12\", \"goal\": \"accuracy_max\", \"run_name\": \"MaxAbsScaler, LogisticRegression\", \"run_properties\": \"copy=True\", \"primary_metric\": 0.95009785, \"best_metric\": 0.95146771}, {\"run_id\": \"AutoML_309f23b9-0d73-40f1-a561-7139fab856b6_13\", \"run_number\": 18, \"metric\": null, \"status\": \"Completed\", \"run_type\": \"azureml.scriptrun\", \"training_percent\": \"100\", \"start_time\": \"2021-09-18T04:00:20.099621Z\", \"end_time\": \"2021-09-18T04:00:57.258229Z\", \"created_time\": \"2021-09-18T04:00:08.813053Z\", \"created_time_dt\": \"2021-09-18T04:00:08.813053Z\", \"duration\": \"0:00:48\", \"iteration\": \"13\", \"goal\": \"accuracy_max\", \"run_name\": \"MaxAbsScaler, SGD\", \"run_properties\": \"copy=True\", \"primary_metric\": 0.73913894, \"best_metric\": 0.95146771}, {\"run_id\": \"AutoML_309f23b9-0d73-40f1-a561-7139fab856b6_14\", \"run_number\": 19, \"metric\": null, \"status\": \"Completed\", \"run_type\": \"azureml.scriptrun\", \"training_percent\": \"100\", \"start_time\": \"2021-09-18T04:00:22.053008Z\", \"end_time\": \"2021-09-18T04:01:25.550416Z\", \"created_time\": \"2021-09-18T04:00:17.105419Z\", \"created_time_dt\": \"2021-09-18T04:00:17.105419Z\", \"duration\": \"0:01:08\", \"iteration\": \"14\", \"goal\": \"accuracy_max\", \"run_name\": \"StandardScalerWrapper, XGBoostClassifier\", \"run_properties\": \"\\n    copy=True,\\n    with_mean=False,\\n    with_std=False\\n\", \"primary_metric\": 0.95166341, \"best_metric\": 0.95166341}, {\"run_id\": \"AutoML_309f23b9-0d73-40f1-a561-7139fab856b6_15\", \"run_number\": 20, \"metric\": null, \"status\": \"Completed\", \"run_type\": \"azureml.scriptrun\", \"training_percent\": \"100\", \"start_time\": \"2021-09-18T04:01:05.323288Z\", \"end_time\": \"2021-09-18T04:01:46.501715Z\", \"created_time\": \"2021-09-18T04:00:59.800441Z\", \"created_time_dt\": \"2021-09-18T04:00:59.800441Z\", \"duration\": \"0:00:46\", \"iteration\": \"15\", \"goal\": \"accuracy_max\", \"run_name\": \"SparseNormalizer, RandomForest\", \"run_properties\": \"copy=True, norm='l2'\", \"primary_metric\": 0.81056751, \"best_metric\": 0.95166341}, {\"run_id\": \"AutoML_309f23b9-0d73-40f1-a561-7139fab856b6_16\", \"run_number\": 21, \"metric\": null, \"status\": \"Completed\", \"run_type\": \"azureml.scriptrun\", \"training_percent\": \"100\", \"start_time\": \"2021-09-18T04:01:12.388177Z\", \"end_time\": \"2021-09-18T04:01:46.152373Z\", \"created_time\": \"2021-09-18T04:00:59.81852Z\", \"created_time_dt\": \"2021-09-18T04:00:59.81852Z\", \"duration\": \"0:00:46\", \"iteration\": \"16\", \"goal\": \"accuracy_max\", \"run_name\": \"StandardScalerWrapper, LogisticRegression\", \"run_properties\": \"\\n    copy=True,\\n    with_mean=False,\\n    with_std=False\\n\", \"primary_metric\": 0.94970646, \"best_metric\": 0.95166341}, {\"run_id\": \"AutoML_309f23b9-0d73-40f1-a561-7139fab856b6_17\", \"run_number\": 22, \"metric\": null, \"status\": \"Completed\", \"run_type\": \"azureml.scriptrun\", \"training_percent\": \"100\", \"start_time\": \"2021-09-18T04:01:19.587686Z\", \"end_time\": \"2021-09-18T04:01:58.53847Z\", \"created_time\": \"2021-09-18T04:01:13.832138Z\", \"created_time_dt\": \"2021-09-18T04:01:13.832138Z\", \"duration\": \"0:00:44\", \"iteration\": \"17\", \"goal\": \"accuracy_max\", \"run_name\": \"StandardScalerWrapper, RandomForest\", \"run_properties\": \"\\n    copy=True,\\n    with_mean=False,\\n    with_std=False\\n\", \"primary_metric\": 0.95127202, \"best_metric\": 0.95166341}, {\"run_id\": \"AutoML_309f23b9-0d73-40f1-a561-7139fab856b6_18\", \"run_number\": 23, \"metric\": null, \"status\": \"Completed\", \"run_type\": \"azureml.scriptrun\", \"training_percent\": \"100\", \"start_time\": \"2021-09-18T04:01:31.773788Z\", \"end_time\": \"2021-09-18T04:02:11.764653Z\", \"created_time\": \"2021-09-18T04:01:27.873381Z\", \"created_time_dt\": \"2021-09-18T04:01:27.873381Z\", \"duration\": \"0:00:43\", \"iteration\": \"18\", \"goal\": \"accuracy_max\", \"run_name\": \"StandardScalerWrapper, XGBoostClassifier\", \"run_properties\": \"\\n    copy=True,\\n    with_mean=False,\\n    with_std=False\\n\", \"primary_metric\": 0.9518591, \"best_metric\": 0.9518591}, {\"run_id\": \"AutoML_309f23b9-0d73-40f1-a561-7139fab856b6_19\", \"run_number\": 24, \"metric\": null, \"status\": \"Completed\", \"run_type\": \"azureml.scriptrun\", \"training_percent\": \"100\", \"start_time\": \"2021-09-18T04:01:57.147132Z\", \"end_time\": \"2021-09-18T04:02:43.266057Z\", \"created_time\": \"2021-09-18T04:01:48.568537Z\", \"created_time_dt\": \"2021-09-18T04:01:48.568537Z\", \"duration\": \"0:00:54\", \"iteration\": \"19\", \"goal\": \"accuracy_max\", \"run_name\": \"TruncatedSVDWrapper, RandomForest\", \"run_properties\": \"n_components=0.8015789473684211, random_state=None\", \"primary_metric\": 0.72191781, \"best_metric\": 0.9518591}, {\"run_id\": \"AutoML_309f23b9-0d73-40f1-a561-7139fab856b6_20\", \"run_number\": 25, \"metric\": null, \"status\": \"Completed\", \"run_type\": \"azureml.scriptrun\", \"training_percent\": \"100\", \"start_time\": \"2021-09-18T04:02:00.705641Z\", \"end_time\": \"2021-09-18T04:02:51.337823Z\", \"created_time\": \"2021-09-18T04:01:51.900977Z\", \"created_time_dt\": \"2021-09-18T04:01:51.900977Z\", \"duration\": \"0:00:59\", \"iteration\": \"20\", \"goal\": \"accuracy_max\", \"run_name\": \"TruncatedSVDWrapper, RandomForest\", \"run_properties\": \"n_components=0.7026315789473684, random_state=None\", \"primary_metric\": 0.80763209, \"best_metric\": 0.9518591}, {\"run_id\": \"AutoML_309f23b9-0d73-40f1-a561-7139fab856b6_21\", \"run_number\": 26, \"metric\": null, \"status\": \"Completed\", \"run_type\": \"azureml.scriptrun\", \"training_percent\": \"100\", \"start_time\": \"2021-09-18T04:02:06.223248Z\", \"end_time\": \"2021-09-18T04:02:44.267868Z\", \"created_time\": \"2021-09-18T04:02:01.246765Z\", \"created_time_dt\": \"2021-09-18T04:02:01.246765Z\", \"duration\": \"0:00:43\", \"iteration\": \"21\", \"goal\": \"accuracy_max\", \"run_name\": \"StandardScalerWrapper, XGBoostClassifier\", \"run_properties\": \"\\n    copy=True,\\n    with_mean=False,\\n    with_std=False\\n\", \"primary_metric\": 0.95127202, \"best_metric\": 0.9518591}, {\"run_id\": \"AutoML_309f23b9-0d73-40f1-a561-7139fab856b6_22\", \"run_number\": 27, \"metric\": null, \"status\": \"Completed\", \"run_type\": \"azureml.scriptrun\", \"training_percent\": \"100\", \"start_time\": \"2021-09-18T04:02:27.203324Z\", \"end_time\": \"2021-09-18T04:03:04.174697Z\", \"created_time\": \"2021-09-18T04:02:13.951192Z\", \"created_time_dt\": \"2021-09-18T04:02:13.951192Z\", \"duration\": \"0:00:50\", \"iteration\": \"22\", \"goal\": \"accuracy_max\", \"run_name\": \"SparseNormalizer, XGBoostClassifier\", \"run_properties\": \"copy=True, norm='l1'\", \"primary_metric\": 0.94911937, \"best_metric\": 0.9518591}, {\"run_id\": \"AutoML_309f23b9-0d73-40f1-a561-7139fab856b6_23\", \"run_number\": 28, \"metric\": null, \"status\": \"Completed\", \"run_type\": \"azureml.scriptrun\", \"training_percent\": \"100\", \"start_time\": \"2021-09-18T04:03:14.012425Z\", \"end_time\": \"2021-09-18T04:04:08.411272Z\", \"created_time\": \"2021-09-18T04:03:04.809159Z\", \"created_time_dt\": \"2021-09-18T04:03:04.809159Z\", \"duration\": \"0:01:03\", \"iteration\": \"23\", \"goal\": \"accuracy_max\", \"run_name\": \"VotingEnsemble\", \"run_properties\": \"\\n    estimators=[('18', Pipeline(\\n        memory=None,\\n        steps=[('standardscalerwrapper', StandardScalerWrapper(\\n            copy=True,\\n            with_mean=False,\\n            with_std=False\\n        \", \"primary_metric\": 0.95244618, \"best_metric\": 0.95244618}, {\"run_id\": \"AutoML_309f23b9-0d73-40f1-a561-7139fab856b6_24\", \"run_number\": 29, \"metric\": null, \"status\": \"Completed\", \"run_type\": \"azureml.scriptrun\", \"training_percent\": \"100\", \"start_time\": \"2021-09-18T04:03:14.43298Z\", \"end_time\": \"2021-09-18T04:04:05.535468Z\", \"created_time\": \"2021-09-18T04:03:04.823306Z\", \"created_time_dt\": \"2021-09-18T04:03:04.823306Z\", \"duration\": \"0:01:00\", \"iteration\": \"24\", \"goal\": \"accuracy_max\", \"run_name\": \"StackEnsemble\", \"run_properties\": \"\\n    base_learners=[('18', Pipeline(\\n        memory=None,\\n        steps=[('standardscalerwrapper', StandardScalerWrapper(\\n            copy=True,\\n            with_mean=False,\\n            with_std=False\\n        \", \"primary_metric\": 0.95048924, \"best_metric\": 0.95244618}], \"children_metrics\": {\"categories\": [0], \"series\": {\"average_precision_score_macro\": [{\"categories\": [\"0\", \"1\", \"2\", \"3\", \"4\", \"5\", \"6\", \"7\", \"8\", \"9\", \"10\", \"11\", \"12\", \"13\", \"14\", \"15\", \"16\", \"17\", \"18\", \"19\", \"20\", \"21\", \"22\", \"23\", \"24\"], \"mode\": \"markers\", \"name\": \"average_precision_score_macro\", \"stepped\": false, \"type\": \"scatter\", \"data\": [0.5949282058186431, 0.609077284222731, 0.5870740294084774, 0.589855103619654, 0.6137355904905963, 0.6141495937806037, 0.5926227815990901, 0.6103226305965411, 0.5782361700135522, 0.6110399488151634, 0.6015135790860461, 0.6072974327591186, 0.6106174204344303, 0.6003895299638424, 0.6004822592724693, 0.5882195646861084, 0.6096563642376276, 0.5956799182181604, 0.6117448248388586, 0.5819027918461536, 0.586469544945461, 0.610060141441408, 0.6006985952239897, 0.6153608254801194, 0.608972696306902]}, {\"categories\": [\"0\", \"1\", \"2\", \"3\", \"4\", \"5\", \"6\", \"7\", \"8\", \"9\", \"10\", \"11\", \"12\", \"13\", \"14\", \"15\", \"16\", \"17\", \"18\", \"19\", \"20\", \"21\", \"22\", \"23\", \"24\"], \"mode\": \"lines\", \"name\": \"average_precision_score_macro_max\", \"stepped\": true, \"type\": \"scatter\", \"data\": [0.5949282058186431, 0.609077284222731, 0.609077284222731, 0.609077284222731, 0.6137355904905963, 0.6141495937806037, 0.6141495937806037, 0.6141495937806037, 0.6141495937806037, 0.6141495937806037, 0.6141495937806037, 0.6141495937806037, 0.6141495937806037, 0.6141495937806037, 0.6141495937806037, 0.6141495937806037, 0.6141495937806037, 0.6141495937806037, 0.6141495937806037, 0.6141495937806037, 0.6141495937806037, 0.6141495937806037, 0.6141495937806037, 0.6153608254801194, 0.6153608254801194]}], \"average_precision_score_binary\": [{\"categories\": [\"0\", \"1\", \"2\", \"3\", \"4\", \"5\", \"6\", \"7\", \"8\", \"9\", \"10\", \"11\", \"12\", \"13\", \"14\", \"15\", \"16\", \"17\", \"18\", \"19\", \"20\", \"21\", \"22\", \"23\", \"24\"], \"mode\": \"markers\", \"name\": \"average_precision_score_binary\", \"stepped\": false, \"type\": \"scatter\", \"data\": [0.20092636379730539, 0.22762313772083073, 0.18492214297194348, 0.19523044802035194, 0.23684971929491833, 0.23795240264529943, 0.19853244240341392, 0.2298666302423166, 0.16937698585091868, 0.23490163496472144, 0.2139510610624158, 0.2275245112934939, 0.23038425335393647, 0.21025842978987078, 0.21636116106160824, 0.18672606328399682, 0.2288083889958946, 0.2017199551600644, 0.23319996204657403, 0.1746797418569547, 0.18480011625155432, 0.2303082126181407, 0.21513087104014295, 0.23985460191722646, 0.22711244207146467]}, {\"categories\": [\"0\", \"1\", \"2\", \"3\", \"4\", \"5\", \"6\", \"7\", \"8\", \"9\", \"10\", \"11\", \"12\", \"13\", \"14\", \"15\", \"16\", \"17\", \"18\", \"19\", \"20\", \"21\", \"22\", \"23\", \"24\"], \"mode\": \"lines\", \"name\": \"average_precision_score_binary_max\", \"stepped\": true, \"type\": \"scatter\", \"data\": [0.20092636379730539, 0.22762313772083073, 0.22762313772083073, 0.22762313772083073, 0.23684971929491833, 0.23795240264529943, 0.23795240264529943, 0.23795240264529943, 0.23795240264529943, 0.23795240264529943, 0.23795240264529943, 0.23795240264529943, 0.23795240264529943, 0.23795240264529943, 0.23795240264529943, 0.23795240264529943, 0.23795240264529943, 0.23795240264529943, 0.23795240264529943, 0.23795240264529943, 0.23795240264529943, 0.23795240264529943, 0.23795240264529943, 0.23985460191722646, 0.23985460191722646]}], \"precision_score_micro\": [{\"categories\": [\"0\", \"1\", \"2\", \"3\", \"4\", \"5\", \"6\", \"7\", \"8\", \"9\", \"10\", \"11\", \"12\", \"13\", \"14\", \"15\", \"16\", \"17\", \"18\", \"19\", \"20\", \"21\", \"22\", \"23\", \"24\"], \"mode\": \"markers\", \"name\": \"precision_score_micro\", \"stepped\": false, \"type\": \"scatter\", \"data\": [0.9481409001956947, 0.950880626223092, 0.6937377690802349, 0.950880626223092, 0.9512720156555773, 0.9512720156555773, 0.9514677103718199, 0.949706457925636, 0.9512720156555773, 0.9512720156555773, 0.9512720156555773, 0.9510763209393346, 0.9500978473581213, 0.7391389432485322, 0.9516634050880626, 0.8105675146771038, 0.949706457925636, 0.9512720156555773, 0.9518590998043053, 0.721917808219178, 0.8076320939334638, 0.9512720156555773, 0.949119373776908, 0.9524461839530332, 0.9504892367906066]}, {\"categories\": [\"0\", \"1\", \"2\", \"3\", \"4\", \"5\", \"6\", \"7\", \"8\", \"9\", \"10\", \"11\", \"12\", \"13\", \"14\", \"15\", \"16\", \"17\", \"18\", \"19\", \"20\", \"21\", \"22\", \"23\", \"24\"], \"mode\": \"lines\", \"name\": \"precision_score_micro_max\", \"stepped\": true, \"type\": \"scatter\", \"data\": [0.9481409001956947, 0.950880626223092, 0.950880626223092, 0.950880626223092, 0.9512720156555773, 0.9512720156555773, 0.9514677103718199, 0.9514677103718199, 0.9514677103718199, 0.9514677103718199, 0.9514677103718199, 0.9514677103718199, 0.9514677103718199, 0.9514677103718199, 0.9516634050880626, 0.9516634050880626, 0.9516634050880626, 0.9516634050880626, 0.9518590998043053, 0.9518590998043053, 0.9518590998043053, 0.9518590998043053, 0.9518590998043053, 0.9524461839530332, 0.9524461839530332]}], \"log_loss\": [{\"categories\": [\"0\", \"1\", \"2\", \"3\", \"4\", \"5\", \"6\", \"7\", \"8\", \"9\", \"10\", \"11\", \"12\", \"13\", \"14\", \"15\", \"16\", \"17\", \"18\", \"19\", \"20\", \"21\", \"22\", \"23\", \"24\"], \"mode\": \"markers\", \"name\": \"log_loss\", \"stepped\": false, \"type\": \"scatter\", \"data\": [0.18801885757193215, 0.1562475413488964, 0.5343818952313167, 0.2917088343901681, 0.15631608371812183, 0.16985623716840484, 0.29032095266224794, 0.1543475543421735, 0.1786674260124353, 0.2919093268533538, 0.1620506289392997, 0.2902545150484504, 0.15430616519627285, 0.7903962527954357, 0.29023226987617423, 0.38288489211722854, 0.15502203997187833, 0.1640601997352736, 0.17631510091445945, 0.48761462067294226, 0.38090170633292386, 0.17620265924031311, 0.2902465737248933, 0.20822206856370404, 0.170502066161746]}, {\"categories\": [\"0\", \"1\", \"2\", \"3\", \"4\", \"5\", \"6\", \"7\", \"8\", \"9\", \"10\", \"11\", \"12\", \"13\", \"14\", \"15\", \"16\", \"17\", \"18\", \"19\", \"20\", \"21\", \"22\", \"23\", \"24\"], \"mode\": \"lines\", \"name\": \"log_loss_min\", \"stepped\": true, \"type\": \"scatter\", \"data\": [0.18801885757193215, 0.1562475413488964, 0.1562475413488964, 0.1562475413488964, 0.1562475413488964, 0.1562475413488964, 0.1562475413488964, 0.1543475543421735, 0.1543475543421735, 0.1543475543421735, 0.1543475543421735, 0.1543475543421735, 0.15430616519627285, 0.15430616519627285, 0.15430616519627285, 0.15430616519627285, 0.15430616519627285, 0.15430616519627285, 0.15430616519627285, 0.15430616519627285, 0.15430616519627285, 0.15430616519627285, 0.15430616519627285, 0.15430616519627285, 0.15430616519627285]}], \"matthews_correlation\": [{\"categories\": [\"0\", \"1\", \"2\", \"3\", \"4\", \"5\", \"6\", \"7\", \"8\", \"9\", \"10\", \"11\", \"12\", \"13\", \"14\", \"15\", \"16\", \"17\", \"18\", \"19\", \"20\", \"21\", \"22\", \"23\", \"24\"], \"mode\": \"markers\", \"name\": \"matthews_correlation\", \"stepped\": false, \"type\": \"scatter\", \"data\": [0.1475602146125871, 0.1131260413621668, 0.23489453622327344, 0.05389715633601927, 0.0, 0.0, 0.050211251999542114, 0.051341481338830965, 0.0, 0.0, 0.0, -0.0013742436716801417, 0.08032556800989392, 0.25808868185240047, 0.12512854050508787, 0.2646239919861195, 0.061672622027604665, 0.0, 0.13235938149331555, 0.23246773787236474, 0.24304020082398153, 0.08990914253213396, 0.11132278693004025, 0.1602242263908857, -0.0037318158116440904]}, {\"categories\": [\"0\", \"1\", \"2\", \"3\", \"4\", \"5\", \"6\", \"7\", \"8\", \"9\", \"10\", \"11\", \"12\", \"13\", \"14\", \"15\", \"16\", \"17\", \"18\", \"19\", \"20\", \"21\", \"22\", \"23\", \"24\"], \"mode\": \"lines\", \"name\": \"matthews_correlation_max\", \"stepped\": true, \"type\": \"scatter\", \"data\": [0.1475602146125871, 0.1475602146125871, 0.23489453622327344, 0.23489453622327344, 0.23489453622327344, 0.23489453622327344, 0.23489453622327344, 0.23489453622327344, 0.23489453622327344, 0.23489453622327344, 0.23489453622327344, 0.23489453622327344, 0.23489453622327344, 0.25808868185240047, 0.25808868185240047, 0.2646239919861195, 0.2646239919861195, 0.2646239919861195, 0.2646239919861195, 0.2646239919861195, 0.2646239919861195, 0.2646239919861195, 0.2646239919861195, 0.2646239919861195, 0.2646239919861195]}], \"precision_score_weighted\": [{\"categories\": [\"0\", \"1\", \"2\", \"3\", \"4\", \"5\", \"6\", \"7\", \"8\", \"9\", \"10\", \"11\", \"12\", \"13\", \"14\", \"15\", \"16\", \"17\", \"18\", \"19\", \"20\", \"21\", \"22\", \"23\", \"24\"], \"mode\": \"markers\", \"name\": \"precision_score_weighted\", \"stepped\": false, \"type\": \"scatter\", \"data\": [0.9270620666247946, 0.934853962288471, 0.9457241091407654, 0.9233133294610582, 0.90498791747887, 0.90498791747887, 0.9180607461794663, 0.9246006720707364, 0.90498791747887, 0.90498791747887, 0.90498791747887, 0.9049793232891709, 0.928467766431823, 0.9455454099376543, 0.9380813166542646, 0.9408540390907717, 0.9256699145286167, 0.90498791747887, 0.9399475418315367, 0.9428326088173383, 0.937766070717155, 0.9341322300879785, 0.9232670628065544, 0.9404794027301803, 0.9049559643711115]}, {\"categories\": [\"0\", \"1\", \"2\", \"3\", \"4\", \"5\", \"6\", \"7\", \"8\", \"9\", \"10\", \"11\", \"12\", \"13\", \"14\", \"15\", \"16\", \"17\", \"18\", \"19\", \"20\", \"21\", \"22\", \"23\", \"24\"], \"mode\": \"lines\", \"name\": \"precision_score_weighted_max\", \"stepped\": true, \"type\": \"scatter\", \"data\": [0.9270620666247946, 0.934853962288471, 0.9457241091407654, 0.9457241091407654, 0.9457241091407654, 0.9457241091407654, 0.9457241091407654, 0.9457241091407654, 0.9457241091407654, 0.9457241091407654, 0.9457241091407654, 0.9457241091407654, 0.9457241091407654, 0.9457241091407654, 0.9457241091407654, 0.9457241091407654, 0.9457241091407654, 0.9457241091407654, 0.9457241091407654, 0.9457241091407654, 0.9457241091407654, 0.9457241091407654, 0.9457241091407654, 0.9457241091407654, 0.9457241091407654]}], \"recall_score_binary\": [{\"categories\": [\"0\", \"1\", \"2\", \"3\", \"4\", \"5\", \"6\", \"7\", \"8\", \"9\", \"10\", \"11\", \"12\", \"13\", \"14\", \"15\", \"16\", \"17\", \"18\", \"19\", \"20\", \"21\", \"22\", \"23\", \"24\"], \"mode\": \"markers\", \"name\": \"recall_score_binary\", \"stepped\": false, \"type\": \"scatter\", \"data\": [0.07631296599381707, 0.02814420803782506, 0.8307683215130025, 0.008699763593380615, 0.0, 0.0, 0.009444444444444445, 0.011923076923076923, 0.0, 0.0, 0.0, 0.0, 0.021367521367521368, 0.801164757228587, 0.02814420803782506, 0.6822267685033643, 0.01636752136752137, 0.0, 0.03062284051645754, 0.7789670849245317, 0.6424222585924714, 0.018290598290598294, 0.049340789234406254, 0.04258865248226951, 0.0]}, {\"categories\": [\"0\", \"1\", \"2\", \"3\", \"4\", \"5\", \"6\", \"7\", \"8\", \"9\", \"10\", \"11\", \"12\", \"13\", \"14\", \"15\", \"16\", \"17\", \"18\", \"19\", \"20\", \"21\", \"22\", \"23\", \"24\"], \"mode\": \"lines\", \"name\": \"recall_score_binary_max\", \"stepped\": true, \"type\": \"scatter\", \"data\": [0.07631296599381707, 0.07631296599381707, 0.8307683215130025, 0.8307683215130025, 0.8307683215130025, 0.8307683215130025, 0.8307683215130025, 0.8307683215130025, 0.8307683215130025, 0.8307683215130025, 0.8307683215130025, 0.8307683215130025, 0.8307683215130025, 0.8307683215130025, 0.8307683215130025, 0.8307683215130025, 0.8307683215130025, 0.8307683215130025, 0.8307683215130025, 0.8307683215130025, 0.8307683215130025, 0.8307683215130025, 0.8307683215130025, 0.8307683215130025, 0.8307683215130025]}], \"recall_score_micro\": [{\"categories\": [\"0\", \"1\", \"2\", \"3\", \"4\", \"5\", \"6\", \"7\", \"8\", \"9\", \"10\", \"11\", \"12\", \"13\", \"14\", \"15\", \"16\", \"17\", \"18\", \"19\", \"20\", \"21\", \"22\", \"23\", \"24\"], \"mode\": \"markers\", \"name\": \"recall_score_micro\", \"stepped\": false, \"type\": \"scatter\", \"data\": [0.9481409001956947, 0.950880626223092, 0.6937377690802349, 0.950880626223092, 0.9512720156555773, 0.9512720156555773, 0.9514677103718199, 0.949706457925636, 0.9512720156555773, 0.9512720156555773, 0.9512720156555773, 0.9510763209393346, 0.9500978473581213, 0.7391389432485322, 0.9516634050880626, 0.8105675146771038, 0.949706457925636, 0.9512720156555773, 0.9518590998043053, 0.721917808219178, 0.8076320939334638, 0.9512720156555773, 0.949119373776908, 0.9524461839530332, 0.9504892367906066]}, {\"categories\": [\"0\", \"1\", \"2\", \"3\", \"4\", \"5\", \"6\", \"7\", \"8\", \"9\", \"10\", \"11\", \"12\", \"13\", \"14\", \"15\", \"16\", \"17\", \"18\", \"19\", \"20\", \"21\", \"22\", \"23\", \"24\"], \"mode\": \"lines\", \"name\": \"recall_score_micro_max\", \"stepped\": true, \"type\": \"scatter\", \"data\": [0.9481409001956947, 0.950880626223092, 0.950880626223092, 0.950880626223092, 0.9512720156555773, 0.9512720156555773, 0.9514677103718199, 0.9514677103718199, 0.9514677103718199, 0.9514677103718199, 0.9514677103718199, 0.9514677103718199, 0.9514677103718199, 0.9514677103718199, 0.9516634050880626, 0.9516634050880626, 0.9516634050880626, 0.9516634050880626, 0.9518590998043053, 0.9518590998043053, 0.9518590998043053, 0.9518590998043053, 0.9518590998043053, 0.9524461839530332, 0.9524461839530332]}], \"average_precision_score_weighted\": [{\"categories\": [\"0\", \"1\", \"2\", \"3\", \"4\", \"5\", \"6\", \"7\", \"8\", \"9\", \"10\", \"11\", \"12\", \"13\", \"14\", \"15\", \"16\", \"17\", \"18\", \"19\", \"20\", \"21\", \"22\", \"23\", \"24\"], \"mode\": \"markers\", \"name\": \"average_precision_score_weighted\", \"stepped\": false, \"type\": \"scatter\", \"data\": [0.9509267678076452, 0.9538146551578206, 0.950161112505391, 0.9461376400338976, 0.9539388952420043, 0.9537806890288637, 0.9487368009398998, 0.9539358013405282, 0.9474289356861737, 0.9508630500250005, 0.951515031565917, 0.9503970591172657, 0.9540417776920677, 0.9526434487735154, 0.947522259904618, 0.9506812227925652, 0.9536567875967081, 0.9515003203117939, 0.9537365034340534, 0.9497017896184335, 0.9492505350782494, 0.953093021228512, 0.9489477924436109, 0.9545956494632744, 0.9536662475306367]}, {\"categories\": [\"0\", \"1\", \"2\", \"3\", \"4\", \"5\", \"6\", \"7\", \"8\", \"9\", \"10\", \"11\", \"12\", \"13\", \"14\", \"15\", \"16\", \"17\", \"18\", \"19\", \"20\", \"21\", \"22\", \"23\", \"24\"], \"mode\": \"lines\", \"name\": \"average_precision_score_weighted_max\", \"stepped\": true, \"type\": \"scatter\", \"data\": [0.9509267678076452, 0.9538146551578206, 0.9538146551578206, 0.9538146551578206, 0.9539388952420043, 0.9539388952420043, 0.9539388952420043, 0.9539388952420043, 0.9539388952420043, 0.9539388952420043, 0.9539388952420043, 0.9539388952420043, 0.9540417776920677, 0.9540417776920677, 0.9540417776920677, 0.9540417776920677, 0.9540417776920677, 0.9540417776920677, 0.9540417776920677, 0.9540417776920677, 0.9540417776920677, 0.9540417776920677, 0.9540417776920677, 0.9545956494632744, 0.9545956494632744]}], \"f1_score_weighted\": [{\"categories\": [\"0\", \"1\", \"2\", \"3\", \"4\", \"5\", \"6\", \"7\", \"8\", \"9\", \"10\", \"11\", \"12\", \"13\", \"14\", \"15\", \"16\", \"17\", \"18\", \"19\", \"20\", \"21\", \"22\", \"23\", \"24\"], \"mode\": \"markers\", \"name\": \"f1_score_weighted\", \"stepped\": false, \"type\": \"scatter\", \"data\": [0.9319830316648006, 0.929892364262513, 0.7808974642475631, 0.9280965724816459, 0.9275352167592128, 0.9275352167592128, 0.9283805560272296, 0.9278578685903776, 0.9275352167592128, 0.9275352167592128, 0.9275352167592128, 0.9274373746052003, 0.9287603734300331, 0.8125697697489132, 0.9303160162538784, 0.8608551141270023, 0.9282042140637599, 0.9275352167592128, 0.9307602731449321, 0.8012150530777097, 0.8584969938755315, 0.9293906509614983, 0.9304198874187115, 0.9321098168948364, 0.9271436221919552]}, {\"categories\": [\"0\", \"1\", \"2\", \"3\", \"4\", \"5\", \"6\", \"7\", \"8\", \"9\", \"10\", \"11\", \"12\", \"13\", \"14\", \"15\", \"16\", \"17\", \"18\", \"19\", \"20\", \"21\", \"22\", \"23\", \"24\"], \"mode\": \"lines\", \"name\": \"f1_score_weighted_max\", \"stepped\": true, \"type\": \"scatter\", \"data\": [0.9319830316648006, 0.9319830316648006, 0.9319830316648006, 0.9319830316648006, 0.9319830316648006, 0.9319830316648006, 0.9319830316648006, 0.9319830316648006, 0.9319830316648006, 0.9319830316648006, 0.9319830316648006, 0.9319830316648006, 0.9319830316648006, 0.9319830316648006, 0.9319830316648006, 0.9319830316648006, 0.9319830316648006, 0.9319830316648006, 0.9319830316648006, 0.9319830316648006, 0.9319830316648006, 0.9319830316648006, 0.9319830316648006, 0.9321098168948364, 0.9321098168948364]}], \"average_precision_score_micro\": [{\"categories\": [\"0\", \"1\", \"2\", \"3\", \"4\", \"5\", \"6\", \"7\", \"8\", \"9\", \"10\", \"11\", \"12\", \"13\", \"14\", \"15\", \"16\", \"17\", \"18\", \"19\", \"20\", \"21\", \"22\", \"23\", \"24\"], \"mode\": \"markers\", \"name\": \"average_precision_score_micro\", \"stepped\": false, \"type\": \"scatter\", \"data\": [0.98106851520637, 0.983419694903151, 0.8101222565116393, 0.9761268390886254, 0.9836436812212724, 0.9832951296163237, 0.9788221889847458, 0.983860286832136, 0.9789880977803407, 0.9794967248435391, 0.9816048106461409, 0.9794390801838349, 0.9839075884720577, 0.8205131525000485, 0.976400400316107, 0.916081035089829, 0.9835349936452173, 0.9823748776106672, 0.9832225763770219, 0.8437282218734155, 0.9125298711446701, 0.9826228421589761, 0.978283943561995, 0.9839505776557578, 0.9838961170092533]}, {\"categories\": [\"0\", \"1\", \"2\", \"3\", \"4\", \"5\", \"6\", \"7\", \"8\", \"9\", \"10\", \"11\", \"12\", \"13\", \"14\", \"15\", \"16\", \"17\", \"18\", \"19\", \"20\", \"21\", \"22\", \"23\", \"24\"], \"mode\": \"lines\", \"name\": \"average_precision_score_micro_max\", \"stepped\": true, \"type\": \"scatter\", \"data\": [0.98106851520637, 0.983419694903151, 0.983419694903151, 0.983419694903151, 0.9836436812212724, 0.9836436812212724, 0.9836436812212724, 0.983860286832136, 0.983860286832136, 0.983860286832136, 0.983860286832136, 0.983860286832136, 0.9839075884720577, 0.9839075884720577, 0.9839075884720577, 0.9839075884720577, 0.9839075884720577, 0.9839075884720577, 0.9839075884720577, 0.9839075884720577, 0.9839075884720577, 0.9839075884720577, 0.9839075884720577, 0.9839505776557578, 0.9839505776557578]}], \"precision_score_binary\": [{\"categories\": [\"0\", \"1\", \"2\", \"3\", \"4\", \"5\", \"6\", \"7\", \"8\", \"9\", \"10\", \"11\", \"12\", \"13\", \"14\", \"15\", \"16\", \"17\", \"18\", \"19\", \"20\", \"21\", \"22\", \"23\", \"24\"], \"mode\": \"markers\", \"name\": \"precision_score_binary\", \"stepped\": false, \"type\": \"scatter\", \"data\": [0.3692890442890443, 0.5566666666666666, 0.11933673817871018, 0.4, 0.0, 0.0, 0.3, 0.35, 0.0, 0.0, 0.0, 0.0, 0.4333333333333333, 0.13863167397716397, 0.6333333333333333, 0.1607509962326476, 0.36666666666666664, 0.0, 0.6666666666666666, 0.12480307777605786, 0.15244483252969934, 0.5333333333333333, 0.3350427350427351, 0.6666666666666666, 0.0]}, {\"categories\": [\"0\", \"1\", \"2\", \"3\", \"4\", \"5\", \"6\", \"7\", \"8\", \"9\", \"10\", \"11\", \"12\", \"13\", \"14\", \"15\", \"16\", \"17\", \"18\", \"19\", \"20\", \"21\", \"22\", \"23\", \"24\"], \"mode\": \"lines\", \"name\": \"precision_score_binary_max\", \"stepped\": true, \"type\": \"scatter\", \"data\": [0.3692890442890443, 0.5566666666666666, 0.5566666666666666, 0.5566666666666666, 0.5566666666666666, 0.5566666666666666, 0.5566666666666666, 0.5566666666666666, 0.5566666666666666, 0.5566666666666666, 0.5566666666666666, 0.5566666666666666, 0.5566666666666666, 0.5566666666666666, 0.6333333333333333, 0.6333333333333333, 0.6333333333333333, 0.6333333333333333, 0.6666666666666666, 0.6666666666666666, 0.6666666666666666, 0.6666666666666666, 0.6666666666666666, 0.6666666666666666, 0.6666666666666666]}], \"AUC_binary\": [{\"categories\": [\"0\", \"1\", \"2\", \"3\", \"4\", \"5\", \"6\", \"7\", \"8\", \"9\", \"10\", \"11\", \"12\", \"13\", \"14\", \"15\", \"16\", \"17\", \"18\", \"19\", \"20\", \"21\", \"22\", \"23\", \"24\"], \"mode\": \"markers\", \"name\": \"AUC_binary\", \"stepped\": false, \"type\": \"scatter\", \"data\": [0.8216915335565398, 0.8440154213155109, 0.8307466366284654, 0.7998358571263898, 0.84882955910492, 0.8454401621490246, 0.8042395333590395, 0.8512935164134208, 0.8057893057404323, 0.8307208653854319, 0.8299683437653819, 0.8305653443224615, 0.8509289578539375, 0.8491737417950448, 0.810229488794729, 0.8341915797525905, 0.8489654738005848, 0.8358991092704292, 0.8440679302716102, 0.8272423349164436, 0.819882730367316, 0.8389883935969934, 0.8164859830203482, 0.850855877290876, 0.8511750270729654]}, {\"categories\": [\"0\", \"1\", \"2\", \"3\", \"4\", \"5\", \"6\", \"7\", \"8\", \"9\", \"10\", \"11\", \"12\", \"13\", \"14\", \"15\", \"16\", \"17\", \"18\", \"19\", \"20\", \"21\", \"22\", \"23\", \"24\"], \"mode\": \"lines\", \"name\": \"AUC_binary_max\", \"stepped\": true, \"type\": \"scatter\", \"data\": [0.8216915335565398, 0.8440154213155109, 0.8440154213155109, 0.8440154213155109, 0.84882955910492, 0.84882955910492, 0.84882955910492, 0.8512935164134208, 0.8512935164134208, 0.8512935164134208, 0.8512935164134208, 0.8512935164134208, 0.8512935164134208, 0.8512935164134208, 0.8512935164134208, 0.8512935164134208, 0.8512935164134208, 0.8512935164134208, 0.8512935164134208, 0.8512935164134208, 0.8512935164134208, 0.8512935164134208, 0.8512935164134208, 0.8512935164134208, 0.8512935164134208]}], \"f1_score_binary\": [{\"categories\": [\"0\", \"1\", \"2\", \"3\", \"4\", \"5\", \"6\", \"7\", \"8\", \"9\", \"10\", \"11\", \"12\", \"13\", \"14\", \"15\", \"16\", \"17\", \"18\", \"19\", \"20\", \"21\", \"22\", \"23\", \"24\"], \"mode\": \"markers\", \"name\": \"f1_score_binary\", \"stepped\": false, \"type\": \"scatter\", \"data\": [0.12455683497918627, 0.052993321134953406, 0.20829442135925316, 0.01702898550724638, 0.0, 0.0, 0.018219461697722567, 0.022727272727272728, 0.0, 0.0, 0.0, 0.0, 0.03997137967237635, 0.23444729042259715, 0.053758111899744165, 0.25880564222305846, 0.030669054090981, 0.0, 0.058152234806966276, 0.21421342683252043, 0.2440827557158946, 0.03518140522683028, 0.08395543874789158, 0.07999792960662526, 0.0]}, {\"categories\": [\"0\", \"1\", \"2\", \"3\", \"4\", \"5\", \"6\", \"7\", \"8\", \"9\", \"10\", \"11\", \"12\", \"13\", \"14\", \"15\", \"16\", \"17\", \"18\", \"19\", \"20\", \"21\", \"22\", \"23\", \"24\"], \"mode\": \"lines\", \"name\": \"f1_score_binary_max\", \"stepped\": true, \"type\": \"scatter\", \"data\": [0.12455683497918627, 0.12455683497918627, 0.20829442135925316, 0.20829442135925316, 0.20829442135925316, 0.20829442135925316, 0.20829442135925316, 0.20829442135925316, 0.20829442135925316, 0.20829442135925316, 0.20829442135925316, 0.20829442135925316, 0.20829442135925316, 0.23444729042259715, 0.23444729042259715, 0.25880564222305846, 0.25880564222305846, 0.25880564222305846, 0.25880564222305846, 0.25880564222305846, 0.25880564222305846, 0.25880564222305846, 0.25880564222305846, 0.25880564222305846, 0.25880564222305846]}], \"recall_score_macro\": [{\"categories\": [\"0\", \"1\", \"2\", \"3\", \"4\", \"5\", \"6\", \"7\", \"8\", \"9\", \"10\", \"11\", \"12\", \"13\", \"14\", \"15\", \"16\", \"17\", \"18\", \"19\", \"20\", \"21\", \"22\", \"23\", \"24\"], \"mode\": \"markers\", \"name\": \"recall_score_macro\", \"stepped\": false, \"type\": \"scatter\", \"data\": [0.5345639324469469, 0.5131503654877088, 0.7585885078554251, 0.5039387704522847, 0.5, 0.5, 0.5046203892283322, 0.5048331082708479, 0.5, 0.5, 0.5, 0.4998974358974359, 0.5095553304930702, 0.7685941784133756, 0.513558957252884, 0.7496987475276866, 0.5069534974991801, 0.5, 0.5147982734922002, 0.7490123592228273, 0.7295360822348786, 0.5086326810602116, 0.5223077097324808, 0.5207811794751062, 0.49959120580709176]}, {\"categories\": [\"0\", \"1\", \"2\", \"3\", \"4\", \"5\", \"6\", \"7\", \"8\", \"9\", \"10\", \"11\", \"12\", \"13\", \"14\", \"15\", \"16\", \"17\", \"18\", \"19\", \"20\", \"21\", \"22\", \"23\", \"24\"], \"mode\": \"lines\", \"name\": \"recall_score_macro_max\", \"stepped\": true, \"type\": \"scatter\", \"data\": [0.5345639324469469, 0.5345639324469469, 0.7585885078554251, 0.7585885078554251, 0.7585885078554251, 0.7585885078554251, 0.7585885078554251, 0.7585885078554251, 0.7585885078554251, 0.7585885078554251, 0.7585885078554251, 0.7585885078554251, 0.7585885078554251, 0.7685941784133756, 0.7685941784133756, 0.7685941784133756, 0.7685941784133756, 0.7685941784133756, 0.7685941784133756, 0.7685941784133756, 0.7685941784133756, 0.7685941784133756, 0.7685941784133756, 0.7685941784133756, 0.7685941784133756]}], \"AUC_weighted\": [{\"categories\": [\"0\", \"1\", \"2\", \"3\", \"4\", \"5\", \"6\", \"7\", \"8\", \"9\", \"10\", \"11\", \"12\", \"13\", \"14\", \"15\", \"16\", \"17\", \"18\", \"19\", \"20\", \"21\", \"22\", \"23\", \"24\"], \"mode\": \"markers\", \"name\": \"AUC_weighted\", \"stepped\": false, \"type\": \"scatter\", \"data\": [0.82169153355654, 0.8440154213155109, 0.8307466366284654, 0.7998358571263898, 0.84882955910492, 0.8454401621490246, 0.8042395333590395, 0.8512935164134205, 0.8057893057404323, 0.8307208653854319, 0.8299683437653818, 0.8305653443224618, 0.8509289578539375, 0.8491737417950448, 0.810229488794729, 0.8341915797525907, 0.8489654738005848, 0.8358991092704293, 0.8440679302716102, 0.8272423349164437, 0.819882730367316, 0.8389883935969934, 0.8164859830203482, 0.850855877290876, 0.8511750270729654]}, {\"categories\": [\"0\", \"1\", \"2\", \"3\", \"4\", \"5\", \"6\", \"7\", \"8\", \"9\", \"10\", \"11\", \"12\", \"13\", \"14\", \"15\", \"16\", \"17\", \"18\", \"19\", \"20\", \"21\", \"22\", \"23\", \"24\"], \"mode\": \"lines\", \"name\": \"AUC_weighted_max\", \"stepped\": true, \"type\": \"scatter\", \"data\": [0.82169153355654, 0.8440154213155109, 0.8440154213155109, 0.8440154213155109, 0.84882955910492, 0.84882955910492, 0.84882955910492, 0.8512935164134205, 0.8512935164134205, 0.8512935164134205, 0.8512935164134205, 0.8512935164134205, 0.8512935164134205, 0.8512935164134205, 0.8512935164134205, 0.8512935164134205, 0.8512935164134205, 0.8512935164134205, 0.8512935164134205, 0.8512935164134205, 0.8512935164134205, 0.8512935164134205, 0.8512935164134205, 0.8512935164134205, 0.8512935164134205]}], \"precision_score_macro\": [{\"categories\": [\"0\", \"1\", \"2\", \"3\", \"4\", \"5\", \"6\", \"7\", \"8\", \"9\", \"10\", \"11\", \"12\", \"13\", \"14\", \"15\", \"16\", \"17\", \"18\", \"19\", \"20\", \"21\", \"22\", \"23\", \"24\"], \"mode\": \"markers\", \"name\": \"precision_score_macro\", \"stepped\": false, \"type\": \"scatter\", \"data\": [0.6619034710252985, 0.7545823153913911, 0.553610994607054, 0.6758042644406281, 0.47563600782778864, 0.47563600782778864, 0.625820003366621, 0.6508652929725733, 0.47563600782778864, 0.47563600782778864, 0.47563600782778864, 0.475631503590931, 0.692720236646301, 0.5626090121715552, 0.7929318439839135, 0.5706349549112006, 0.6592887678860786, 0.47563600782778864, 0.80969008597223, 0.5546537540252959, 0.5650751536324811, 0.7427438314625483, 0.644175038354702, 0.809970153545897, 0.4756193162196386]}, {\"categories\": [\"0\", \"1\", \"2\", \"3\", \"4\", \"5\", \"6\", \"7\", \"8\", \"9\", \"10\", \"11\", \"12\", \"13\", \"14\", \"15\", \"16\", \"17\", \"18\", \"19\", \"20\", \"21\", \"22\", \"23\", \"24\"], \"mode\": \"lines\", \"name\": \"precision_score_macro_max\", \"stepped\": true, \"type\": \"scatter\", \"data\": [0.6619034710252985, 0.7545823153913911, 0.7545823153913911, 0.7545823153913911, 0.7545823153913911, 0.7545823153913911, 0.7545823153913911, 0.7545823153913911, 0.7545823153913911, 0.7545823153913911, 0.7545823153913911, 0.7545823153913911, 0.7545823153913911, 0.7545823153913911, 0.7929318439839135, 0.7929318439839135, 0.7929318439839135, 0.7929318439839135, 0.80969008597223, 0.80969008597223, 0.80969008597223, 0.80969008597223, 0.80969008597223, 0.809970153545897, 0.809970153545897]}], \"weighted_accuracy\": [{\"categories\": [\"0\", \"1\", \"2\", \"3\", \"4\", \"5\", \"6\", \"7\", \"8\", \"9\", \"10\", \"11\", \"12\", \"13\", \"14\", \"15\", \"16\", \"17\", \"18\", \"19\", \"20\", \"21\", \"22\", \"23\", \"24\"], \"mode\": \"markers\", \"name\": \"weighted_accuracy\", \"stepped\": false, \"type\": \"scatter\", \"data\": [0.9903294790974941, 0.9955269618781422, 0.6868370236406902, 0.9964892818825408, 0.9972901205876161, 0.9972901205876161, 0.9971044829600266, 0.9950720055253172, 0.9972901205876161, 0.9972901205876161, 0.9972901205876161, 0.99708546794088, 0.9950896965239965, 0.736193817081741, 0.9963425424767671, 0.8168043847024103, 0.9948780856726251, 0.9972901205876161, 0.9963582845740948, 0.7192134380339428, 0.8161139608792339, 0.9963269498167062, 0.9927058951914793, 0.996391231419544, 0.9964741580416068]}, {\"categories\": [\"0\", \"1\", \"2\", \"3\", \"4\", \"5\", \"6\", \"7\", \"8\", \"9\", \"10\", \"11\", \"12\", \"13\", \"14\", \"15\", \"16\", \"17\", \"18\", \"19\", \"20\", \"21\", \"22\", \"23\", \"24\"], \"mode\": \"lines\", \"name\": \"weighted_accuracy_max\", \"stepped\": true, \"type\": \"scatter\", \"data\": [0.9903294790974941, 0.9955269618781422, 0.9955269618781422, 0.9964892818825408, 0.9972901205876161, 0.9972901205876161, 0.9972901205876161, 0.9972901205876161, 0.9972901205876161, 0.9972901205876161, 0.9972901205876161, 0.9972901205876161, 0.9972901205876161, 0.9972901205876161, 0.9972901205876161, 0.9972901205876161, 0.9972901205876161, 0.9972901205876161, 0.9972901205876161, 0.9972901205876161, 0.9972901205876161, 0.9972901205876161, 0.9972901205876161, 0.9972901205876161, 0.9972901205876161]}], \"balanced_accuracy\": [{\"categories\": [\"0\", \"1\", \"2\", \"3\", \"4\", \"5\", \"6\", \"7\", \"8\", \"9\", \"10\", \"11\", \"12\", \"13\", \"14\", \"15\", \"16\", \"17\", \"18\", \"19\", \"20\", \"21\", \"22\", \"23\", \"24\"], \"mode\": \"markers\", \"name\": \"balanced_accuracy\", \"stepped\": false, \"type\": \"scatter\", \"data\": [0.5345639324469469, 0.5131503654877088, 0.7585885078554251, 0.5039387704522847, 0.5, 0.5, 0.5046203892283322, 0.5048331082708479, 0.5, 0.5, 0.5, 0.4998974358974359, 0.5095553304930702, 0.7685941784133756, 0.513558957252884, 0.7496987475276866, 0.5069534974991801, 0.5, 0.5147982734922002, 0.7490123592228273, 0.7295360822348786, 0.5086326810602116, 0.5223077097324808, 0.5207811794751062, 0.49959120580709176]}, {\"categories\": [\"0\", \"1\", \"2\", \"3\", \"4\", \"5\", \"6\", \"7\", \"8\", \"9\", \"10\", \"11\", \"12\", \"13\", \"14\", \"15\", \"16\", \"17\", \"18\", \"19\", \"20\", \"21\", \"22\", \"23\", \"24\"], \"mode\": \"lines\", \"name\": \"balanced_accuracy_max\", \"stepped\": true, \"type\": \"scatter\", \"data\": [0.5345639324469469, 0.5345639324469469, 0.7585885078554251, 0.7585885078554251, 0.7585885078554251, 0.7585885078554251, 0.7585885078554251, 0.7585885078554251, 0.7585885078554251, 0.7585885078554251, 0.7585885078554251, 0.7585885078554251, 0.7585885078554251, 0.7685941784133756, 0.7685941784133756, 0.7685941784133756, 0.7685941784133756, 0.7685941784133756, 0.7685941784133756, 0.7685941784133756, 0.7685941784133756, 0.7685941784133756, 0.7685941784133756, 0.7685941784133756, 0.7685941784133756]}], \"f1_score_macro\": [{\"categories\": [\"0\", \"1\", \"2\", \"3\", \"4\", \"5\", \"6\", \"7\", \"8\", \"9\", \"10\", \"11\", \"12\", \"13\", \"14\", \"15\", \"16\", \"17\", \"18\", \"19\", \"20\", \"21\", \"22\", \"23\", \"24\"], \"mode\": \"markers\", \"name\": \"f1_score_macro\", \"stepped\": false, \"type\": \"scatter\", \"data\": [0.5489112113447769, 0.5138821892992345, 0.5091023561461302, 0.49591105596512647, 0.48750440727597083, 0.48750440727597083, 0.49666106747144123, 0.498449979105888, 0.48750440727597083, 0.48750440727597083, 0.48750440727597083, 0.48745312795217555, 0.5071699289841132, 0.5381657411313048, 0.514469300402285, 0.5750874055587747, 0.502418816168428, 0.48750440727597083, 0.5167153455514317, 0.522615174210056, 0.5669308782037884, 0.5050832992398248, 0.5288852749991526, 0.5277852309635553, 0.48729990310666665]}, {\"categories\": [\"0\", \"1\", \"2\", \"3\", \"4\", \"5\", \"6\", \"7\", \"8\", \"9\", \"10\", \"11\", \"12\", \"13\", \"14\", \"15\", \"16\", \"17\", \"18\", \"19\", \"20\", \"21\", \"22\", \"23\", \"24\"], \"mode\": \"lines\", \"name\": \"f1_score_macro_max\", \"stepped\": true, \"type\": \"scatter\", \"data\": [0.5489112113447769, 0.5489112113447769, 0.5489112113447769, 0.5489112113447769, 0.5489112113447769, 0.5489112113447769, 0.5489112113447769, 0.5489112113447769, 0.5489112113447769, 0.5489112113447769, 0.5489112113447769, 0.5489112113447769, 0.5489112113447769, 0.5489112113447769, 0.5489112113447769, 0.5750874055587747, 0.5750874055587747, 0.5750874055587747, 0.5750874055587747, 0.5750874055587747, 0.5750874055587747, 0.5750874055587747, 0.5750874055587747, 0.5750874055587747, 0.5750874055587747]}], \"accuracy\": [{\"categories\": [\"0\", \"1\", \"2\", \"3\", \"4\", \"5\", \"6\", \"7\", \"8\", \"9\", \"10\", \"11\", \"12\", \"13\", \"14\", \"15\", \"16\", \"17\", \"18\", \"19\", \"20\", \"21\", \"22\", \"23\", \"24\"], \"mode\": \"markers\", \"name\": \"accuracy\", \"stepped\": false, \"type\": \"scatter\", \"data\": [0.9481409001956947, 0.950880626223092, 0.6937377690802349, 0.950880626223092, 0.9512720156555773, 0.9512720156555773, 0.9514677103718199, 0.949706457925636, 0.9512720156555773, 0.9512720156555773, 0.9512720156555773, 0.9510763209393346, 0.9500978473581213, 0.7391389432485322, 0.9516634050880626, 0.8105675146771038, 0.949706457925636, 0.9512720156555773, 0.9518590998043053, 0.721917808219178, 0.8076320939334638, 0.9512720156555773, 0.949119373776908, 0.9524461839530332, 0.9504892367906066]}, {\"categories\": [\"0\", \"1\", \"2\", \"3\", \"4\", \"5\", \"6\", \"7\", \"8\", \"9\", \"10\", \"11\", \"12\", \"13\", \"14\", \"15\", \"16\", \"17\", \"18\", \"19\", \"20\", \"21\", \"22\", \"23\", \"24\"], \"mode\": \"lines\", \"name\": \"accuracy_max\", \"stepped\": true, \"type\": \"scatter\", \"data\": [0.9481409001956947, 0.950880626223092, 0.950880626223092, 0.950880626223092, 0.9512720156555773, 0.9512720156555773, 0.9514677103718199, 0.9514677103718199, 0.9514677103718199, 0.9514677103718199, 0.9514677103718199, 0.9514677103718199, 0.9514677103718199, 0.9514677103718199, 0.9516634050880626, 0.9516634050880626, 0.9516634050880626, 0.9516634050880626, 0.9518590998043053, 0.9518590998043053, 0.9518590998043053, 0.9518590998043053, 0.9518590998043053, 0.9524461839530332, 0.9524461839530332]}], \"norm_macro_recall\": [{\"categories\": [\"0\", \"1\", \"2\", \"3\", \"4\", \"5\", \"6\", \"7\", \"8\", \"9\", \"10\", \"11\", \"12\", \"13\", \"14\", \"15\", \"16\", \"17\", \"18\", \"19\", \"20\", \"21\", \"22\", \"23\", \"24\"], \"mode\": \"markers\", \"name\": \"norm_macro_recall\", \"stepped\": false, \"type\": \"scatter\", \"data\": [0.06912786489389386, 0.026300730975417564, 0.5171770157108501, 0.008699763593380583, 0.0, 0.0, 0.009240778456664378, 0.011100854234265923, 0.0, 0.0, 0.0, 0.0, 0.01993117380665308, 0.5371883568267514, 0.02711791450576797, 0.49939749505537306, 0.01472750781887302, 0.0, 0.029596546984400486, 0.49802471844565466, 0.4590721644697571, 0.01808441272358796, 0.04523397616599238, 0.04156235895021245, 0.0]}, {\"categories\": [\"0\", \"1\", \"2\", \"3\", \"4\", \"5\", \"6\", \"7\", \"8\", \"9\", \"10\", \"11\", \"12\", \"13\", \"14\", \"15\", \"16\", \"17\", \"18\", \"19\", \"20\", \"21\", \"22\", \"23\", \"24\"], \"mode\": \"lines\", \"name\": \"norm_macro_recall_max\", \"stepped\": true, \"type\": \"scatter\", \"data\": [0.06912786489389386, 0.06912786489389386, 0.5171770157108501, 0.5171770157108501, 0.5171770157108501, 0.5171770157108501, 0.5171770157108501, 0.5171770157108501, 0.5171770157108501, 0.5171770157108501, 0.5171770157108501, 0.5171770157108501, 0.5171770157108501, 0.5371883568267514, 0.5371883568267514, 0.5371883568267514, 0.5371883568267514, 0.5371883568267514, 0.5371883568267514, 0.5371883568267514, 0.5371883568267514, 0.5371883568267514, 0.5371883568267514, 0.5371883568267514, 0.5371883568267514]}], \"f1_score_micro\": [{\"categories\": [\"0\", \"1\", \"2\", \"3\", \"4\", \"5\", \"6\", \"7\", \"8\", \"9\", \"10\", \"11\", \"12\", \"13\", \"14\", \"15\", \"16\", \"17\", \"18\", \"19\", \"20\", \"21\", \"22\", \"23\", \"24\"], \"mode\": \"markers\", \"name\": \"f1_score_micro\", \"stepped\": false, \"type\": \"scatter\", \"data\": [0.9481409001956947, 0.950880626223092, 0.6937377690802349, 0.950880626223092, 0.9512720156555773, 0.9512720156555773, 0.9514677103718199, 0.949706457925636, 0.9512720156555773, 0.9512720156555773, 0.9512720156555773, 0.9510763209393346, 0.9500978473581213, 0.7391389432485322, 0.9516634050880626, 0.8105675146771038, 0.949706457925636, 0.9512720156555773, 0.9518590998043053, 0.721917808219178, 0.8076320939334638, 0.9512720156555773, 0.949119373776908, 0.9524461839530332, 0.9504892367906066]}, {\"categories\": [\"0\", \"1\", \"2\", \"3\", \"4\", \"5\", \"6\", \"7\", \"8\", \"9\", \"10\", \"11\", \"12\", \"13\", \"14\", \"15\", \"16\", \"17\", \"18\", \"19\", \"20\", \"21\", \"22\", \"23\", \"24\"], \"mode\": \"lines\", \"name\": \"f1_score_micro_max\", \"stepped\": true, \"type\": \"scatter\", \"data\": [0.9481409001956947, 0.950880626223092, 0.950880626223092, 0.950880626223092, 0.9512720156555773, 0.9512720156555773, 0.9514677103718199, 0.9514677103718199, 0.9514677103718199, 0.9514677103718199, 0.9514677103718199, 0.9514677103718199, 0.9514677103718199, 0.9514677103718199, 0.9516634050880626, 0.9516634050880626, 0.9516634050880626, 0.9516634050880626, 0.9518590998043053, 0.9518590998043053, 0.9518590998043053, 0.9518590998043053, 0.9518590998043053, 0.9524461839530332, 0.9524461839530332]}], \"AUC_macro\": [{\"categories\": [\"0\", \"1\", \"2\", \"3\", \"4\", \"5\", \"6\", \"7\", \"8\", \"9\", \"10\", \"11\", \"12\", \"13\", \"14\", \"15\", \"16\", \"17\", \"18\", \"19\", \"20\", \"21\", \"22\", \"23\", \"24\"], \"mode\": \"markers\", \"name\": \"AUC_macro\", \"stepped\": false, \"type\": \"scatter\", \"data\": [0.8216915335565398, 0.8440154213155109, 0.8307466366284654, 0.7998358571263898, 0.84882955910492, 0.8454401621490246, 0.8042395333590395, 0.8512935164134205, 0.8057893057404323, 0.8307208653854319, 0.8299683437653818, 0.8305653443224615, 0.8509289578539375, 0.8491737417950448, 0.810229488794729, 0.8341915797525905, 0.8489654738005848, 0.8358991092704292, 0.8440679302716102, 0.8272423349164437, 0.819882730367316, 0.8389883935969934, 0.8164859830203482, 0.850855877290876, 0.8511750270729654]}, {\"categories\": [\"0\", \"1\", \"2\", \"3\", \"4\", \"5\", \"6\", \"7\", \"8\", \"9\", \"10\", \"11\", \"12\", \"13\", \"14\", \"15\", \"16\", \"17\", \"18\", \"19\", \"20\", \"21\", \"22\", \"23\", \"24\"], \"mode\": \"lines\", \"name\": \"AUC_macro_max\", \"stepped\": true, \"type\": \"scatter\", \"data\": [0.8216915335565398, 0.8440154213155109, 0.8440154213155109, 0.8440154213155109, 0.84882955910492, 0.84882955910492, 0.84882955910492, 0.8512935164134205, 0.8512935164134205, 0.8512935164134205, 0.8512935164134205, 0.8512935164134205, 0.8512935164134205, 0.8512935164134205, 0.8512935164134205, 0.8512935164134205, 0.8512935164134205, 0.8512935164134205, 0.8512935164134205, 0.8512935164134205, 0.8512935164134205, 0.8512935164134205, 0.8512935164134205, 0.8512935164134205, 0.8512935164134205]}], \"recall_score_weighted\": [{\"categories\": [\"0\", \"1\", \"2\", \"3\", \"4\", \"5\", \"6\", \"7\", \"8\", \"9\", \"10\", \"11\", \"12\", \"13\", \"14\", \"15\", \"16\", \"17\", \"18\", \"19\", \"20\", \"21\", \"22\", \"23\", \"24\"], \"mode\": \"markers\", \"name\": \"recall_score_weighted\", \"stepped\": false, \"type\": \"scatter\", \"data\": [0.9481409001956947, 0.950880626223092, 0.6937377690802349, 0.950880626223092, 0.9512720156555773, 0.9512720156555773, 0.9514677103718199, 0.949706457925636, 0.9512720156555773, 0.9512720156555773, 0.9512720156555773, 0.9510763209393346, 0.9500978473581213, 0.7391389432485322, 0.9516634050880626, 0.8105675146771038, 0.949706457925636, 0.9512720156555773, 0.9518590998043053, 0.721917808219178, 0.8076320939334638, 0.9512720156555773, 0.949119373776908, 0.9524461839530332, 0.9504892367906066]}, {\"categories\": [\"0\", \"1\", \"2\", \"3\", \"4\", \"5\", \"6\", \"7\", \"8\", \"9\", \"10\", \"11\", \"12\", \"13\", \"14\", \"15\", \"16\", \"17\", \"18\", \"19\", \"20\", \"21\", \"22\", \"23\", \"24\"], \"mode\": \"lines\", \"name\": \"recall_score_weighted_max\", \"stepped\": true, \"type\": \"scatter\", \"data\": [0.9481409001956947, 0.950880626223092, 0.950880626223092, 0.950880626223092, 0.9512720156555773, 0.9512720156555773, 0.9514677103718199, 0.9514677103718199, 0.9514677103718199, 0.9514677103718199, 0.9514677103718199, 0.9514677103718199, 0.9514677103718199, 0.9514677103718199, 0.9516634050880626, 0.9516634050880626, 0.9516634050880626, 0.9516634050880626, 0.9518590998043053, 0.9518590998043053, 0.9518590998043053, 0.9518590998043053, 0.9518590998043053, 0.9524461839530332, 0.9524461839530332]}], \"AUC_micro\": [{\"categories\": [\"0\", \"1\", \"2\", \"3\", \"4\", \"5\", \"6\", \"7\", \"8\", \"9\", \"10\", \"11\", \"12\", \"13\", \"14\", \"15\", \"16\", \"17\", \"18\", \"19\", \"20\", \"21\", \"22\", \"23\", \"24\"], \"mode\": \"markers\", \"name\": \"AUC_micro\", \"stepped\": false, \"type\": \"scatter\", \"data\": [0.9810909501725253, 0.9832843777405875, 0.7929777765863334, 0.9790425703026566, 0.9836317262878129, 0.9833573324244316, 0.9796605788121215, 0.9838509733035643, 0.9793057624626131, 0.9819643000754439, 0.9817800942857909, 0.9820585092734785, 0.9838214850586511, 0.8236915070025008, 0.9802930442208785, 0.9103457783939246, 0.9836219607002118, 0.9825134707664264, 0.9833330141964837, 0.8290419001152722, 0.907023755270545, 0.982756461563796, 0.9805921392764274, 0.9838781637631596, 0.9838191872733331]}, {\"categories\": [\"0\", \"1\", \"2\", \"3\", \"4\", \"5\", \"6\", \"7\", \"8\", \"9\", \"10\", \"11\", \"12\", \"13\", \"14\", \"15\", \"16\", \"17\", \"18\", \"19\", \"20\", \"21\", \"22\", \"23\", \"24\"], \"mode\": \"lines\", \"name\": \"AUC_micro_max\", \"stepped\": true, \"type\": \"scatter\", \"data\": [0.9810909501725253, 0.9832843777405875, 0.9832843777405875, 0.9832843777405875, 0.9836317262878129, 0.9836317262878129, 0.9836317262878129, 0.9838509733035643, 0.9838509733035643, 0.9838509733035643, 0.9838509733035643, 0.9838509733035643, 0.9838509733035643, 0.9838509733035643, 0.9838509733035643, 0.9838509733035643, 0.9838509733035643, 0.9838509733035643, 0.9838509733035643, 0.9838509733035643, 0.9838509733035643, 0.9838509733035643, 0.9838509733035643, 0.9838781637631596, 0.9838781637631596]}]}, \"metricName\": null, \"primaryMetricName\": \"accuracy\", \"showLegend\": false}, \"run_metrics\": [{\"name\": \"experiment_status\", \"run_id\": \"AutoML_309f23b9-0d73-40f1-a561-7139fab856b6\", \"categories\": [0, 1, 2, 3, 4, 5, 6, 7, 8, 9, 10, 11, 12, 13, 14], \"series\": [{\"data\": [\"DatasetEvaluation\", \"FeaturesGeneration\", \"DatasetFeaturization\", \"DatasetFeaturizationCompleted\", \"DatasetBalancing\", \"DatasetCrossValidationSplit\", \"ModelSelection\", \"BestRunExplainModel\", \"ModelExplanationDataSetSetup\", \"PickSurrogateModel\", \"EngineeredFeatureExplanations\", \"EngineeredFeatureExplanations\", \"RawFeaturesExplanations\", \"RawFeaturesExplanations\", \"BestRunExplainModel\"]}]}, {\"name\": \"experiment_status_description\", \"run_id\": \"AutoML_309f23b9-0d73-40f1-a561-7139fab856b6\", \"categories\": [0, 1, 2, 3, 4, 5, 6, 7, 8, 9, 10, 11, 12, 13, 14], \"series\": [{\"data\": [\"Gathering dataset statistics.\", \"Generating features for the dataset.\", \"Beginning to fit featurizers and featurize the dataset.\", \"Completed fit featurizers and featurizing the dataset.\", \"Performing class balancing sweeping\", \"Generating individually featurized CV splits.\", \"Beginning model selection.\", \"Best run model explanations started\", \"Model explanations data setup completed\", \"Choosing LightGBM as the surrogate model for explanations\", \"Computation of engineered features started\", \"Computation of engineered features completed\", \"Computation of raw features started\", \"Computation of raw features completed\", \"Best run model explanations completed\"]}]}, {\"name\": \"log_loss\", \"run_id\": \"AutoML_309f23b9-0d73-40f1-a561-7139fab856b6\", \"categories\": [0], \"series\": [{\"data\": [0.20822206856370404]}]}, {\"name\": \"f1_score_micro\", \"run_id\": \"AutoML_309f23b9-0d73-40f1-a561-7139fab856b6\", \"categories\": [0], \"series\": [{\"data\": [0.9524461839530332]}]}, {\"name\": \"average_precision_score_micro\", \"run_id\": \"AutoML_309f23b9-0d73-40f1-a561-7139fab856b6\", \"categories\": [0], \"series\": [{\"data\": [0.9839505776557578]}]}, {\"name\": \"recall_score_binary\", \"run_id\": \"AutoML_309f23b9-0d73-40f1-a561-7139fab856b6\", \"categories\": [0], \"series\": [{\"data\": [0.04258865248226951]}]}, {\"name\": \"f1_score_macro\", \"run_id\": \"AutoML_309f23b9-0d73-40f1-a561-7139fab856b6\", \"categories\": [0], \"series\": [{\"data\": [0.5277852309635553]}]}, {\"name\": \"AUC_micro\", \"run_id\": \"AutoML_309f23b9-0d73-40f1-a561-7139fab856b6\", \"categories\": [0], \"series\": [{\"data\": [0.9838781637631596]}]}, {\"name\": \"average_precision_score_binary\", \"run_id\": \"AutoML_309f23b9-0d73-40f1-a561-7139fab856b6\", \"categories\": [0], \"series\": [{\"data\": [0.23985460191722646]}]}, {\"name\": \"AUC_binary\", \"run_id\": \"AutoML_309f23b9-0d73-40f1-a561-7139fab856b6\", \"categories\": [0], \"series\": [{\"data\": [0.850855877290876]}]}, {\"name\": \"average_precision_score_macro\", \"run_id\": \"AutoML_309f23b9-0d73-40f1-a561-7139fab856b6\", \"categories\": [0], \"series\": [{\"data\": [0.6153608254801194]}]}, {\"name\": \"norm_macro_recall\", \"run_id\": \"AutoML_309f23b9-0d73-40f1-a561-7139fab856b6\", \"categories\": [0], \"series\": [{\"data\": [0.04156235895021245]}]}, {\"name\": \"accuracy\", \"run_id\": \"AutoML_309f23b9-0d73-40f1-a561-7139fab856b6\", \"categories\": [0], \"series\": [{\"data\": [0.9524461839530332]}]}, {\"name\": \"precision_score_macro\", \"run_id\": \"AutoML_309f23b9-0d73-40f1-a561-7139fab856b6\", \"categories\": [0], \"series\": [{\"data\": [0.809970153545897]}]}, {\"name\": \"matthews_correlation\", \"run_id\": \"AutoML_309f23b9-0d73-40f1-a561-7139fab856b6\", \"categories\": [0], \"series\": [{\"data\": [0.1602242263908857]}]}, {\"name\": \"precision_score_binary\", \"run_id\": \"AutoML_309f23b9-0d73-40f1-a561-7139fab856b6\", \"categories\": [0], \"series\": [{\"data\": [0.6666666666666666]}]}, {\"name\": \"balanced_accuracy\", \"run_id\": \"AutoML_309f23b9-0d73-40f1-a561-7139fab856b6\", \"categories\": [0], \"series\": [{\"data\": [0.5207811794751062]}]}, {\"name\": \"recall_score_macro\", \"run_id\": \"AutoML_309f23b9-0d73-40f1-a561-7139fab856b6\", \"categories\": [0], \"series\": [{\"data\": [0.5207811794751062]}]}, {\"name\": \"f1_score_weighted\", \"run_id\": \"AutoML_309f23b9-0d73-40f1-a561-7139fab856b6\", \"categories\": [0], \"series\": [{\"data\": [0.9321098168948364]}]}, {\"name\": \"weighted_accuracy\", \"run_id\": \"AutoML_309f23b9-0d73-40f1-a561-7139fab856b6\", \"categories\": [0], \"series\": [{\"data\": [0.996391231419544]}]}, {\"name\": \"f1_score_binary\", \"run_id\": \"AutoML_309f23b9-0d73-40f1-a561-7139fab856b6\", \"categories\": [0], \"series\": [{\"data\": [0.07999792960662526]}]}, {\"name\": \"precision_score_weighted\", \"run_id\": \"AutoML_309f23b9-0d73-40f1-a561-7139fab856b6\", \"categories\": [0], \"series\": [{\"data\": [0.9404794027301803]}]}, {\"name\": \"average_precision_score_weighted\", \"run_id\": \"AutoML_309f23b9-0d73-40f1-a561-7139fab856b6\", \"categories\": [0], \"series\": [{\"data\": [0.9545956494632744]}]}, {\"name\": \"recall_score_micro\", \"run_id\": \"AutoML_309f23b9-0d73-40f1-a561-7139fab856b6\", \"categories\": [0], \"series\": [{\"data\": [0.9524461839530332]}]}, {\"name\": \"AUC_weighted\", \"run_id\": \"AutoML_309f23b9-0d73-40f1-a561-7139fab856b6\", \"categories\": [0], \"series\": [{\"data\": [0.850855877290876]}]}, {\"name\": \"precision_score_micro\", \"run_id\": \"AutoML_309f23b9-0d73-40f1-a561-7139fab856b6\", \"categories\": [0], \"series\": [{\"data\": [0.9524461839530332]}]}, {\"name\": \"AUC_macro\", \"run_id\": \"AutoML_309f23b9-0d73-40f1-a561-7139fab856b6\", \"categories\": [0], \"series\": [{\"data\": [0.850855877290876]}]}, {\"name\": \"recall_score_weighted\", \"run_id\": \"AutoML_309f23b9-0d73-40f1-a561-7139fab856b6\", \"categories\": [0], \"series\": [{\"data\": [0.9524461839530332]}]}], \"run_logs\": \"\\nRun is completed.\", \"graph\": {}, \"widget_settings\": {\"childWidgetDisplay\": \"popup\", \"send_telemetry\": false, \"log_level\": \"INFO\", \"sdk_version\": \"1.33.0\"}, \"loading\": false}"
          },
          "metadata": {}
        }
      ],
      "execution_count": 92,
      "metadata": {
        "gather": {
          "logged": 1631948594291
        },
        "jupyter": {
          "outputs_hidden": false,
          "source_hidden": false
        },
        "nteract": {
          "transient": {
            "deleting": false
          }
        }
      }
    },
    {
      "cell_type": "code",
      "source": [
        "remote_run.wait_for_completion(show_output=True)"
      ],
      "outputs": [
        {
          "output_type": "display_data",
          "data": {
            "text/plain": "<IPython.core.display.HTML object>",
            "text/html": "<table style=\"width:100%\"><tr><th>Experiment</th><th>Id</th><th>Type</th><th>Status</th><th>Details Page</th><th>Docs Page</th></tr><tr><td>automl-stroke</td><td>AutoML_309f23b9-0d73-40f1-a561-7139fab856b6</td><td>automl</td><td>Completed</td><td><a href=\"https://ml.azure.com/runs/AutoML_309f23b9-0d73-40f1-a561-7139fab856b6?wsid=/subscriptions/bd6c48f0-b2f5-4fd8-b4de-3351b13cbee8/resourcegroups/udacity-nano-degree/workspaces/udacity-courtlin&amp;tid=3920f434-053b-4f53-aa54-b09a04e8f6dd\" target=\"_blank\" rel=\"noopener\">Link to Azure Machine Learning studio</a></td><td><a href=\"https://docs.microsoft.com/en-us/python/api/overview/azure/ml/intro?view=azure-ml-py\" target=\"_blank\" rel=\"noopener\">Link to Documentation</a></td></tr></table>"
          },
          "metadata": {}
        },
        {
          "output_type": "stream",
          "name": "stdout",
          "text": "\n\n****************************************************************************************************\nDATA GUARDRAILS: \n\nTYPE:         Class balancing detection\nSTATUS:       ALERTED\nDESCRIPTION:  To decrease model bias, please cancel the current run and fix balancing problem.\n              Learn more about imbalanced data: https://aka.ms/AutomatedMLImbalancedData\nDETAILS:      Imbalanced data can lead to a falsely perceived positive effect of a model's accuracy because the input data has bias towards one class.\n+---------------------------------+---------------------------------+--------------------------------------+\n|Size of the smallest class       |Name/Label of the smallest class |Number of samples in the training data|\n+=================================+=================================+======================================+\n|249                              |True                             |5110                                  |\n+---------------------------------+---------------------------------+--------------------------------------+\n\n****************************************************************************************************\n\nTYPE:         Missing feature values imputation\nSTATUS:       DONE\nDESCRIPTION:  If the missing values are expected, let the run complete. Otherwise cancel the current run and use a script to customize the handling of missing feature values that may be more appropriate based on the data type and business requirement.\n              Learn more about missing value imputation: https://aka.ms/AutomatedMLFeaturization\nDETAILS:      \n+---------------------------------+---------------------------------+---------------------------------+\n|Column name                      |Missing value count              |Imputation type                  |\n+=================================+=================================+=================================+\n|bmi                              |201                              |mean                             |\n+---------------------------------+---------------------------------+---------------------------------+\n\n****************************************************************************************************\n\nTYPE:         High cardinality feature detection\nSTATUS:       PASSED\nDESCRIPTION:  Your inputs were analyzed, and no high cardinality features were detected.\n              Learn more about high cardinality feature handling: https://aka.ms/AutomatedMLFeaturization\n\n****************************************************************************************************\n\n****************************************************************************************************\nITERATION: The iteration being evaluated.\nPIPELINE: A summary description of the pipeline being evaluated.\nDURATION: Time taken for the current iteration.\nMETRIC: The result of computing score on the fitted pipeline.\nBEST: The best observed score thus far.\n****************************************************************************************************\n\n ITERATION   PIPELINE                                       DURATION      METRIC      BEST\n         0   MaxAbsScaler LightGBM                          0:01:25       0.9481    0.9481\n         1   MaxAbsScaler XGBoostClassifier                 0:00:37       0.9509    0.9509\n         2   MaxAbsScaler ExtremeRandomTrees                0:00:38       0.6937    0.9509\n         3   SparseNormalizer XGBoostClassifier             0:00:39       0.9509    0.9509\n         4   MaxAbsScaler LightGBM                          0:01:21       0.9513    0.9513\n         5   MaxAbsScaler LightGBM                          0:01:22       0.9513    0.9513\n         6   StandardScalerWrapper XGBoostClassifier        0:01:30       0.9515    0.9515\n         7   MaxAbsScaler LogisticRegression                0:00:41       0.9497    0.9515\n        10   SparseNormalizer LightGBM                      0:00:35       0.9513    0.9515\n        11   StandardScalerWrapper XGBoostClassifier        0:00:46       0.9511    0.9515\n         8   StandardScalerWrapper ExtremeRandomTrees       0:00:38       0.9513    0.9515\n         9   StandardScalerWrapper XGBoostClassifier        0:00:37       0.9513    0.9515\n        12   MaxAbsScaler LogisticRegression                0:00:52       0.9501    0.9515\n        13   MaxAbsScaler SGD                               0:00:37       0.7391    0.9515\n        14   StandardScalerWrapper XGBoostClassifier        0:01:03       0.9517    0.9517\n        15   SparseNormalizer RandomForest                  0:00:41       0.8106    0.9517\n        16   StandardScalerWrapper LogisticRegression       0:00:34       0.9497    0.9517\n        17   StandardScalerWrapper RandomForest             0:00:39       0.9513    0.9517\n        18   StandardScalerWrapper XGBoostClassifier        0:00:40       0.9519    0.9519\n        19   TruncatedSVDWrapper RandomForest               0:00:46       0.7219    0.9519\n        20   TruncatedSVDWrapper RandomForest               0:00:51       0.8076    0.9519\n        21   StandardScalerWrapper XGBoostClassifier        0:00:38       0.9513    0.9519\n        22   SparseNormalizer XGBoostClassifier             0:00:37       0.9491    0.9519\n        23    VotingEnsemble                                0:00:54       0.9524    0.9524\n        24    StackEnsemble                                 0:00:51       0.9505    0.9524\n"
        },
        {
          "output_type": "execute_result",
          "execution_count": 14,
          "data": {
            "text/plain": "{'runId': 'AutoML_309f23b9-0d73-40f1-a561-7139fab856b6',\n 'target': 'capstone',\n 'status': 'Completed',\n 'startTimeUtc': '2021-09-18T03:48:33.375787Z',\n 'endTimeUtc': '2021-09-18T04:04:09.973286Z',\n 'properties': {'num_iterations': '25',\n  'training_type': 'TrainFull',\n  'acquisition_function': 'EI',\n  'primary_metric': 'accuracy',\n  'train_split': '0',\n  'acquisition_parameter': '0',\n  'num_cross_validation': '5',\n  'target': 'capstone',\n  'AMLSettingsJsonString': '{\"path\":null,\"name\":\"automl-stroke\",\"subscription_id\":\"bd6c48f0-b2f5-4fd8-b4de-3351b13cbee8\",\"resource_group\":\"udacity-nano-degree\",\"workspace_name\":\"udacity-courtlin\",\"region\":\"eastus2\",\"compute_target\":\"capstone\",\"spark_service\":null,\"azure_service\":\"remote\",\"many_models\":false,\"pipeline_fetch_max_batch_size\":1,\"enable_batch_run\":false,\"enable_run_restructure\":false,\"start_auxiliary_runs_before_parent_complete\":false,\"enable_code_generation\":false,\"iterations\":25,\"primary_metric\":\"accuracy\",\"task_type\":\"classification\",\"data_script\":null,\"test_size\":0.0,\"validation_size\":0.0,\"n_cross_validations\":5,\"y_min\":null,\"y_max\":null,\"num_classes\":null,\"featurization\":\"auto\",\"_ignore_package_version_incompatibilities\":false,\"is_timeseries\":false,\"max_cores_per_iteration\":1,\"max_concurrent_iterations\":4,\"iteration_timeout_minutes\":null,\"mem_in_mb\":null,\"enforce_time_on_windows\":false,\"experiment_timeout_minutes\":30,\"experiment_exit_score\":null,\"whitelist_models\":null,\"blacklist_algos\":[\"TensorFlowLinearClassifier\",\"TensorFlowDNN\"],\"supported_models\":[\"MultinomialNaiveBayes\",\"SVM\",\"SGD\",\"XGBoostClassifier\",\"GradientBoosting\",\"ExtremeRandomTrees\",\"DecisionTree\",\"LogisticRegression\",\"RandomForest\",\"LightGBM\",\"TensorFlowDNN\",\"LinearSVM\",\"KNN\",\"BernoulliNaiveBayes\",\"AveragedPerceptronClassifier\",\"TensorFlowLinearClassifier\"],\"private_models\":[],\"auto_blacklist\":true,\"blacklist_samples_reached\":false,\"exclude_nan_labels\":true,\"verbosity\":20,\"_debug_log\":\"azureml_automl.log\",\"show_warnings\":false,\"model_explainability\":true,\"service_url\":null,\"sdk_url\":null,\"sdk_packages\":null,\"enable_onnx_compatible_models\":false,\"enable_split_onnx_featurizer_estimator_models\":false,\"vm_type\":\"STANDARD_DS12_V2\",\"telemetry_verbosity\":20,\"send_telemetry\":true,\"enable_dnn\":false,\"scenario\":\"SDK-1.13.0\",\"environment_label\":null,\"save_mlflow\":false,\"force_text_dnn\":false,\"enable_feature_sweeping\":true,\"enable_early_stopping\":true,\"early_stopping_n_iters\":10,\"metrics\":null,\"enable_metric_confidence\":false,\"enable_ensembling\":true,\"enable_stack_ensembling\":true,\"ensemble_iterations\":15,\"enable_tf\":false,\"enable_subsampling\":false,\"subsample_seed\":null,\"enable_nimbusml\":false,\"enable_streaming\":false,\"force_streaming\":false,\"track_child_runs\":true,\"allowed_private_models\":[],\"label_column_name\":\"stroke\",\"weight_column_name\":null,\"cv_split_column_names\":null,\"enable_local_managed\":false,\"_local_managed_run_id\":null,\"cost_mode\":1,\"lag_length\":0,\"metric_operation\":\"maximize\",\"preprocess\":true}',\n  'DataPrepJsonString': '{\\\\\"training_data\\\\\": {\\\\\"datasetId\\\\\": \\\\\"a27e1f62-cf55-4c30-9a82-0bbad12df2ab\\\\\"}, \\\\\"datasets\\\\\": 0}',\n  'EnableSubsampling': 'False',\n  'runTemplate': 'AutoML',\n  'azureml.runsource': 'automl',\n  'display_task_type': 'classification',\n  'dependencies_versions': '{\"azureml-widgets\": \"1.33.0\", \"azureml-train\": \"1.33.0\", \"azureml-train-restclients-hyperdrive\": \"1.33.0\", \"azureml-train-core\": \"1.33.0\", \"azureml-train-automl\": \"1.33.0\", \"azureml-train-automl-runtime\": \"1.33.0\", \"azureml-train-automl-client\": \"1.33.0\", \"azureml-tensorboard\": \"1.33.0\", \"azureml-telemetry\": \"1.33.0\", \"azureml-sdk\": \"1.33.0\", \"azureml-samples\": \"0+unknown\", \"azureml-responsibleai\": \"1.33.0\", \"azureml-pipeline\": \"1.33.0\", \"azureml-pipeline-steps\": \"1.33.0\", \"azureml-pipeline-core\": \"1.33.0\", \"azureml-opendatasets\": \"1.33.0\", \"azureml-mlflow\": \"1.33.0\", \"azureml-interpret\": \"1.33.0\", \"azureml-explain-model\": \"1.33.0\", \"azureml-defaults\": \"1.33.0\", \"azureml-dataset-runtime\": \"1.33.0\", \"azureml-dataprep\": \"2.20.1\", \"azureml-dataprep-rslex\": \"1.18.0\", \"azureml-dataprep-native\": \"38.0.0\", \"azureml-datadrift\": \"1.33.0\", \"azureml-core\": \"1.33.0\", \"azureml-contrib-services\": \"1.33.0\", \"azureml-contrib-server\": \"1.33.0\", \"azureml-contrib-reinforcementlearning\": \"1.33.0\", \"azureml-contrib-pipeline-steps\": \"1.33.0\", \"azureml-contrib-notebook\": \"1.33.0\", \"azureml-contrib-fairness\": \"1.33.0\", \"azureml-contrib-dataset\": \"1.33.0\", \"azureml-cli-common\": \"1.33.0\", \"azureml-automl-runtime\": \"1.33.0\", \"azureml-automl-dnn-nlp\": \"1.33.0\", \"azureml-automl-core\": \"1.33.0\", \"azureml-accel-models\": \"1.33.0\"}',\n  '_aml_system_scenario_identification': 'Remote.Parent',\n  'ClientType': 'SDK',\n  'environment_cpu_name': 'AzureML-AutoML',\n  'environment_cpu_label': 'prod',\n  'environment_gpu_name': 'AzureML-AutoML-GPU',\n  'environment_gpu_label': 'prod',\n  'root_attribution': 'automl',\n  'attribution': 'AutoML',\n  'Orchestrator': 'AutoML',\n  'CancelUri': 'https://eastus2.api.azureml.ms/jasmine/v1.0/subscriptions/bd6c48f0-b2f5-4fd8-b4de-3351b13cbee8/resourceGroups/udacity-nano-degree/providers/Microsoft.MachineLearningServices/workspaces/udacity-courtlin/experimentids/c12ba66d-8fe7-450a-84a3-d3aba995318e/cancel/AutoML_309f23b9-0d73-40f1-a561-7139fab856b6',\n  'ClientSdkVersion': '1.34.0',\n  'snapshotId': '00000000-0000-0000-0000-000000000000',\n  'SetupRunId': 'AutoML_309f23b9-0d73-40f1-a561-7139fab856b6_setup',\n  'SetupRunContainerId': 'dcid.AutoML_309f23b9-0d73-40f1-a561-7139fab856b6_setup',\n  'FeaturizationRunJsonPath': 'featurizer_container.json',\n  'FeaturizationRunId': 'AutoML_309f23b9-0d73-40f1-a561-7139fab856b6_featurize',\n  'ProblemInfoJsonString': '{\"dataset_num_categorical\": 0, \"is_sparse\": true, \"subsampling\": false, \"has_extra_col\": true, \"dataset_classes\": 2, \"dataset_features\": 20, \"dataset_samples\": 5110, \"single_frequency_class_detected\": false}',\n  'ModelExplainRunId': 'AutoML_309f23b9-0d73-40f1-a561-7139fab856b6_ModelExplain'},\n 'inputDatasets': [{'dataset': {'id': 'a27e1f62-cf55-4c30-9a82-0bbad12df2ab'}, 'consumptionDetails': {'type': 'RunInput', 'inputName': 'training_data', 'mechanism': 'Direct'}}],\n 'outputDatasets': [],\n 'logFiles': {},\n 'submittedBy': 'Courtlin Holt-Nguyen'}"
          },
          "metadata": {}
        }
      ],
      "execution_count": 14,
      "metadata": {
        "jupyter": {
          "source_hidden": false,
          "outputs_hidden": false
        },
        "nteract": {
          "transient": {
            "deleting": false
          }
        },
        "gather": {
          "logged": 1631938018628
        }
      }
    },
    {
      "cell_type": "code",
      "source": [
        "remote_run"
      ],
      "outputs": [
        {
          "output_type": "execute_result",
          "execution_count": 90,
          "data": {
            "text/plain": "Run(Experiment: automl-stroke,\nId: AutoML_309f23b9-0d73-40f1-a561-7139fab856b6,\nType: automl,\nStatus: Completed)",
            "text/html": "<table style=\"width:100%\"><tr><th>Experiment</th><th>Id</th><th>Type</th><th>Status</th><th>Details Page</th><th>Docs Page</th></tr><tr><td>automl-stroke</td><td>AutoML_309f23b9-0d73-40f1-a561-7139fab856b6</td><td>automl</td><td>Completed</td><td><a href=\"https://ml.azure.com/runs/AutoML_309f23b9-0d73-40f1-a561-7139fab856b6?wsid=/subscriptions/bd6c48f0-b2f5-4fd8-b4de-3351b13cbee8/resourcegroups/udacity-nano-degree/workspaces/udacity-courtlin&amp;tid=3920f434-053b-4f53-aa54-b09a04e8f6dd\" target=\"_blank\" rel=\"noopener\">Link to Azure Machine Learning studio</a></td><td><a href=\"https://docs.microsoft.com/en-us/python/api/overview/azure/ml/intro?view=azure-ml-py\" target=\"_blank\" rel=\"noopener\">Link to Documentation</a></td></tr></table>"
          },
          "metadata": {}
        }
      ],
      "execution_count": 90,
      "metadata": {
        "jupyter": {
          "source_hidden": false,
          "outputs_hidden": false
        },
        "nteract": {
          "transient": {
            "deleting": false
          }
        },
        "gather": {
          "logged": 1631948585923
        }
      }
    },
    {
      "cell_type": "markdown",
      "source": [
        "## Best Model\n",
        "\n",
        "TODO: In the cell below, get the best model from the automl experiments and display all the properties of the model.\n",
        "\n"
      ],
      "metadata": {}
    },
    {
      "cell_type": "code",
      "source": [
        "# Retrieve and save the best automl model\r\n",
        "best_model, model = remote_run.get_output()\r\n",
        "print(best_model)\r\n",
        "print(model.steps)"
      ],
      "outputs": [
        {
          "output_type": "stream",
          "name": "stderr",
          "text": "WARNING:root:The version of the SDK does not match the version the model was trained on.\nWARNING:root:The consistency in the result may not be guaranteed.\nWARNING:root:Package:azureml-automl-core, training version:1.34.0, current version:1.33.0\nPackage:azureml-automl-runtime, training version:1.34.0, current version:1.33.0\nPackage:azureml-core, training version:1.34.0, current version:1.33.0\nPackage:azureml-dataprep, training version:2.22.2, current version:2.20.1\nPackage:azureml-dataprep-rslex, training version:1.20.2, current version:1.18.0\nPackage:azureml-dataset-runtime, training version:1.34.0, current version:1.33.0\nPackage:azureml-defaults, training version:1.34.0, current version:1.33.0\nPackage:azureml-interpret, training version:1.34.0, current version:1.33.0\nPackage:azureml-mlflow, training version:1.34.0, current version:1.33.0\nPackage:azureml-pipeline-core, training version:1.34.0, current version:1.33.0\nPackage:azureml-responsibleai, training version:1.34.0, current version:1.33.0\nPackage:azureml-telemetry, training version:1.34.0, current version:1.33.0\nPackage:azureml-train-automl-client, training version:1.34.0, current version:1.33.0\nPackage:azureml-train-automl-runtime, training version:1.34.0, current version:1.33.0\nWARNING:root:Below packages were used for model training but missing in current environment:\nWARNING:root:Package:azureml-inference-server-http, training version:0.3.1\nWARNING:root:Please ensure the version of your local conda dependencies match the version on which your model was trained in order to properly retrieve your model.\n"
        },
        {
          "output_type": "stream",
          "name": "stdout",
          "text": "Run(Experiment: automl-stroke,\nId: AutoML_309f23b9-0d73-40f1-a561-7139fab856b6_23,\nType: azureml.scriptrun,\nStatus: Completed)\n[('datatransformer', DataTransformer(\n    task='classification',\n    is_onnx_compatible=False,\n    enable_feature_sweeping=True,\n    enable_dnn=False,\n    force_text_dnn=False,\n    feature_sweeping_timeout=86400,\n    featurization_config=None,\n    is_cross_validation=True,\n    feature_sweeping_config={}\n)), ('prefittedsoftvotingclassifier', PreFittedSoftVotingClassifier(\n    estimators=[('18', Pipeline(\n        memory=None,\n        steps=[('standardscalerwrapper', StandardScalerWrapper(\n            copy=True,\n            with_mean=False,\n            with_std=False\n        )), ('xgboostclassifier', XGBoostClassifier(\n            random_state=0,\n            n_jobs=1,\n            problem_info=ProblemInfo(\n                gpu_training_param_dict={'processing_unit_type': 'cpu'}\n            ),\n            booster='gbtree',\n            colsample_bytree=0.7,\n            eta=0.1,\n            gamma=0.1,\n            max_depth=9,\n            max_leaves=511,\n            n_estimators=25,\n            objective='reg:logistic',\n            reg_alpha=0,\n            reg_lambda=1.7708333333333335,\n            subsample=0.9,\n            tree_method='auto'\n        ))],\n        verbose=False\n    )), ('14', Pipeline(\n        memory=None,\n        steps=[('standardscalerwrapper', StandardScalerWrapper(\n            copy=True,\n            with_mean=False,\n            with_std=False\n        )), ('xgboostclassifier', XGBoostClassifier(\n            random_state=0,\n            n_jobs=1,\n            problem_info=ProblemInfo(\n                gpu_training_param_dict={'processing_unit_type': 'cpu'}\n            ),\n            booster='gbtree',\n            colsample_bytree=1,\n            eta=0.3,\n            gamma=0,\n            max_depth=10,\n            max_leaves=511,\n            n_estimators=10,\n            objective='reg:logistic',\n            reg_alpha=2.1875,\n            reg_lambda=0.4166666666666667,\n            subsample=0.5,\n            tree_method='auto'\n        ))],\n        verbose=False\n    )), ('6', Pipeline(\n        memory=None,\n        steps=[('standardscalerwrapper', StandardScalerWrapper(\n            copy=True,\n            with_mean=False,\n            with_std=False\n        )), ('xgboostclassifier', XGBoostClassifier(\n            random_state=0,\n            n_jobs=1,\n            problem_info=ProblemInfo(\n                gpu_training_param_dict={'processing_unit_type': 'cpu'}\n            ),\n            booster='gbtree',\n            colsample_bytree=0.5,\n            eta=0.3,\n            gamma=0,\n            max_depth=10,\n            max_leaves=255,\n            n_estimators=10,\n            objective='reg:logistic',\n            reg_alpha=0,\n            reg_lambda=0.10416666666666667,\n            subsample=0.7,\n            tree_method='auto'\n        ))],\n        verbose=False\n    )), ('21', Pipeline(\n        memory=None,\n        steps=[('standardscalerwrapper', StandardScalerWrapper(\n            copy=True,\n            with_mean=False,\n            with_std=False\n        )), ('xgboostclassifier', XGBoostClassifier(\n            random_state=0,\n            n_jobs=1,\n            problem_info=ProblemInfo(\n                gpu_training_param_dict={'processing_unit_type': 'cpu'}\n            ),\n            booster='gbtree',\n            colsample_bytree=0.5,\n            eta=0.2,\n            gamma=0,\n            max_depth=7,\n            max_leaves=7,\n            n_estimators=25,\n            objective='reg:logistic',\n            reg_alpha=0,\n            reg_lambda=0.20833333333333334,\n            subsample=1,\n            tree_method='auto'\n        ))],\n        verbose=False\n    )), ('17', Pipeline(\n        memory=None,\n        steps=[('standardscalerwrapper', StandardScalerWrapper(\n            copy=True,\n            with_mean=False,\n            with_std=False\n        )), ('randomforestclassifier', RandomForestClassifier(\n            bootstrap=False,\n            ccp_alpha=0.0,\n            class_weight=None,\n            criterion='entropy',\n            max_depth=None,\n            max_features=0.1,\n            max_leaf_nodes=None,\n            max_samples=None,\n            min_impurity_decrease=0.0,\n            min_impurity_split=None,\n            min_samples_leaf=0.01,\n            min_samples_split=0.01,\n            min_weight_fraction_leaf=0.0,\n            n_estimators=50,\n            n_jobs=1,\n            oob_score=False,\n            random_state=None,\n            verbose=0,\n            warm_start=False\n        ))],\n        verbose=False\n    )), ('1', Pipeline(\n        memory=None,\n        steps=[('maxabsscaler', MaxAbsScaler(\n            copy=True\n        )), ('xgboostclassifier', XGBoostClassifier(\n            random_state=0,\n            n_jobs=1,\n            problem_info=ProblemInfo(\n                gpu_training_param_dict={'processing_unit_type': 'cpu'}\n            ),\n            tree_method='auto'\n        ))],\n        verbose=False\n    )), ('0', Pipeline(\n        memory=None,\n        steps=[('maxabsscaler', MaxAbsScaler(\n            copy=True\n        )), ('lightgbmclassifier', LightGBMClassifier(\n            min_data_in_leaf=20,\n            random_state=None,\n            n_jobs=1,\n            problem_info=ProblemInfo()\n        ))],\n        verbose=False\n    )), ('15', Pipeline(\n        memory=None,\n        steps=[('sparsenormalizer', Normalizer(\n            copy=True,\n            norm='l2'\n        )), ('randomforestclassifier', RandomForestClassifier(\n            bootstrap=True,\n            ccp_alpha=0.0,\n            class_weight='balanced',\n            criterion='gini',\n            max_depth=None,\n            max_features='sqrt',\n            max_leaf_nodes=None,\n            max_samples=None,\n            min_impurity_decrease=0.0,\n            min_impurity_split=None,\n            min_samples_leaf=0.01,\n            min_samples_split=0.01,\n            min_weight_fraction_leaf=0.0,\n            n_estimators=100,\n            n_jobs=1,\n            oob_score=True,\n            random_state=None,\n            verbose=0,\n            warm_start=False\n        ))],\n        verbose=False\n    )), ('13', Pipeline(\n        memory=None,\n        steps=[('maxabsscaler', MaxAbsScaler(\n            copy=True\n        )), ('sgdclassifierwrapper', SGDClassifierWrapper(\n            alpha=7.5510448979591835,\n            class_weight='balanced',\n            eta0=0.001,\n            fit_intercept=True,\n            l1_ratio=0.42857142857142855,\n            learning_rate='constant',\n            loss='modified_huber',\n            max_iter=1000,\n            penalty='none',\n            power_t=0.7777777777777777,\n            tol=0.0001,\n            random_state=None,\n            n_jobs=1\n        ))],\n        verbose=False\n    ))],\n    weights=[0.2727272727272727, 0.09090909090909091, 0.09090909090909091, 0.09090909090909091, 0.09090909090909091, 0.09090909090909091, 0.09090909090909091, 0.09090909090909091, 0.09090909090909091],\n    flatten_transform=None,\n    classification_labels=array([1, 0])\n))]\n"
        }
      ],
      "execution_count": 16,
      "metadata": {
        "gather": {
          "logged": 1631938033767
        },
        "jupyter": {
          "outputs_hidden": false,
          "source_hidden": false
        },
        "nteract": {
          "transient": {
            "deleting": false
          }
        }
      }
    },
    {
      "cell_type": "code",
      "source": [
        "print(model)"
      ],
      "outputs": [
        {
          "output_type": "stream",
          "name": "stdout",
          "text": "Pipeline(memory=None,\n         steps=[('datatransformer',\n                 DataTransformer(enable_dnn=False, enable_feature_sweeping=True, feature_sweeping_config={}, feature_sweeping_timeout=86400, featurization_config=None, force_text_dnn=False, is_cross_validation=True, is_onnx_compatible=False, observer=None, task='classification', working_dir='/mnt/batch/tasks/shared/LS_root/mount...\n), random_state=0, tree_method='auto'))], verbose=False)), ('0', Pipeline(memory=None, steps=[('maxabsscaler', MaxAbsScaler(copy=True)), ('lightgbmclassifier', LightGBMClassifier(min_data_in_leaf=20, n_jobs=1, problem_info=ProblemInfo(), random_state=None))], verbose=False)), ('15', Pipeline(memory=None, steps=[('sparsenormalizer', Normalizer(copy=True, norm='l2')), ('randomforestclassifier', RandomForestClassifier(bootstrap=True, ccp_alpha=0.0, class_weight='balanced', criterion='gini', max_depth=None, max_features='sqrt', max_leaf_nodes=None, max_samples=None, min_impurity_decrease=0.0, min_impurity_split=None, min_samples_leaf=0.01, min_samples_split=0.01, min_weight_fraction_leaf=0.0, n_estimators=100, n_jobs=1, oob_score=True, random_state=None, verbose=0, warm_start=False))], verbose=False)), ('13', Pipeline(memory=None, steps=[('maxabsscaler', MaxAbsScaler(copy=True)), ('sgdclassifierwrapper', SGDClassifierWrapper(alpha=7.5510448979591835, class_weight='balanced', eta0=0.001, fit_intercept=True, l1_ratio=0.42857142857142855, learning_rate='constant', loss='modified_huber', max_iter=1000, n_jobs=1, penalty='none', power_t=0.7777777777777777, random_state=None, tol=0.0001))], verbose=False))], flatten_transform=None, weights=[0.2727272727272727, 0.09090909090909091, 0.09090909090909091, 0.09090909090909091, 0.09090909090909091, 0.09090909090909091, 0.09090909090909091, 0.09090909090909091, 0.09090909090909091]))],\n         verbose=False)\nY_transformer(['LabelEncoder', LabelEncoder()])\n"
        }
      ],
      "execution_count": 17,
      "metadata": {
        "jupyter": {
          "source_hidden": false,
          "outputs_hidden": false
        },
        "nteract": {
          "transient": {
            "deleting": false
          }
        },
        "gather": {
          "logged": 1631938034292
        }
      }
    },
    {
      "cell_type": "code",
      "source": [
        "remote_run.get_metrics()"
      ],
      "outputs": [
        {
          "output_type": "execute_result",
          "execution_count": 18,
          "data": {
            "text/plain": "{'experiment_status': ['DatasetEvaluation',\n  'FeaturesGeneration',\n  'DatasetFeaturization',\n  'DatasetFeaturizationCompleted',\n  'DatasetBalancing',\n  'DatasetCrossValidationSplit',\n  'ModelSelection',\n  'BestRunExplainModel',\n  'ModelExplanationDataSetSetup',\n  'PickSurrogateModel',\n  'EngineeredFeatureExplanations',\n  'EngineeredFeatureExplanations',\n  'RawFeaturesExplanations',\n  'RawFeaturesExplanations',\n  'BestRunExplainModel'],\n 'experiment_status_description': ['Gathering dataset statistics.',\n  'Generating features for the dataset.',\n  'Beginning to fit featurizers and featurize the dataset.',\n  'Completed fit featurizers and featurizing the dataset.',\n  'Performing class balancing sweeping',\n  'Generating individually featurized CV splits.',\n  'Beginning model selection.',\n  'Best run model explanations started',\n  'Model explanations data setup completed',\n  'Choosing LightGBM as the surrogate model for explanations',\n  'Computation of engineered features started',\n  'Computation of engineered features completed',\n  'Computation of raw features started',\n  'Computation of raw features completed',\n  'Best run model explanations completed'],\n 'log_loss': 0.20822206856370404,\n 'f1_score_micro': 0.9524461839530332,\n 'average_precision_score_micro': 0.9839505776557578,\n 'recall_score_binary': 0.04258865248226951,\n 'f1_score_macro': 0.5277852309635553,\n 'AUC_micro': 0.9838781637631596,\n 'average_precision_score_binary': 0.23985460191722646,\n 'AUC_binary': 0.850855877290876,\n 'average_precision_score_macro': 0.6153608254801194,\n 'norm_macro_recall': 0.04156235895021245,\n 'accuracy': 0.9524461839530332,\n 'precision_score_macro': 0.809970153545897,\n 'matthews_correlation': 0.1602242263908857,\n 'precision_score_binary': 0.6666666666666666,\n 'balanced_accuracy': 0.5207811794751062,\n 'recall_score_macro': 0.5207811794751062,\n 'f1_score_weighted': 0.9321098168948364,\n 'weighted_accuracy': 0.996391231419544,\n 'f1_score_binary': 0.07999792960662526,\n 'precision_score_weighted': 0.9404794027301803,\n 'average_precision_score_weighted': 0.9545956494632744,\n 'recall_score_micro': 0.9524461839530332,\n 'AUC_weighted': 0.850855877290876,\n 'precision_score_micro': 0.9524461839530332,\n 'AUC_macro': 0.850855877290876,\n 'recall_score_weighted': 0.9524461839530332}"
          },
          "metadata": {}
        }
      ],
      "execution_count": 18,
      "metadata": {
        "jupyter": {
          "source_hidden": false,
          "outputs_hidden": false
        },
        "nteract": {
          "transient": {
            "deleting": false
          }
        },
        "gather": {
          "logged": 1631938037291
        }
      }
    },
    {
      "cell_type": "code",
      "source": [
        "#TODO: Save the best model"
      ],
      "outputs": [],
      "execution_count": 19,
      "metadata": {
        "gather": {
          "logged": 1631938037536
        },
        "jupyter": {
          "outputs_hidden": false,
          "source_hidden": false
        },
        "nteract": {
          "transient": {
            "deleting": false
          }
        }
      }
    },
    {
      "cell_type": "markdown",
      "source": [
        "## Model Deployment\n",
        "\n",
        "Remember you have to deploy only one of the two models you trained.. Perform the steps in the rest of this notebook only if you wish to deploy this model.\n",
        "\n",
        "TODO: In the cell below, register the model, create an inference config and deploy the model as a web service."
      ],
      "metadata": {}
    },
    {
      "cell_type": "code",
      "source": [
        "# Register the best model with Azure\r\n",
        "model = best_model.register_model(model_name='automl-best-stroke-model',model_path='outputs/model.pkl')"
      ],
      "outputs": [],
      "execution_count": 20,
      "metadata": {
        "gather": {
          "logged": 1631938039147
        },
        "jupyter": {
          "outputs_hidden": false,
          "source_hidden": false
        },
        "nteract": {
          "transient": {
            "deleting": false
          }
        }
      }
    },
    {
      "cell_type": "code",
      "source": [
        "# Get the AutoML environment details with its dependencies\r\n",
        "environment = Environment.get(ws, \"AzureML-AutoML\")"
      ],
      "outputs": [],
      "execution_count": 21,
      "metadata": {
        "jupyter": {
          "source_hidden": false,
          "outputs_hidden": false
        },
        "nteract": {
          "transient": {
            "deleting": false
          }
        },
        "gather": {
          "logged": 1631938039561
        }
      }
    },
    {
      "cell_type": "code",
      "source": [
        "print(environment)"
      ],
      "outputs": [
        {
          "output_type": "stream",
          "name": "stdout",
          "text": "Environment(Name: AzureML-AutoML,\nVersion: 82)\n"
        }
      ],
      "execution_count": 22,
      "metadata": {
        "jupyter": {
          "source_hidden": false,
          "outputs_hidden": false
        },
        "nteract": {
          "transient": {
            "deleting": false
          }
        },
        "gather": {
          "logged": 1631938039813
        }
      }
    },
    {
      "cell_type": "code",
      "source": [
        "inference_config = InferenceConfig(entry_script='scoring.py',\r\n",
        "                                   environment=environment)\r\n",
        "service_name = 'automl-best-stroke-deployed'\r\n",
        "deployment_config = AciWebservice.deploy_configuration(cpu_cores=1, memory_gb=1, enable_app_insights=True, auth_enabled=True)\r\n",
        "\r\n",
        "service = Model.deploy(workspace=ws,\r\n",
        "                       name=service_name,\r\n",
        "                       models=[model],\r\n",
        "                       inference_config=inference_config,\r\n",
        "                       deployment_config=deployment_config,                       \r\n",
        "                       overwrite=True\r\n",
        "                      )\r\n",
        "service.wait_for_deployment(show_output=True)\r\n",
        "\r\n",
        "scoring_uri = service.scoring_uri\r\n",
        "print(scoring_uri)"
      ],
      "outputs": [
        {
          "output_type": "stream",
          "name": "stdout",
          "text": "Tips: You can try get_logs(): https://aka.ms/debugimage#dockerlog or local deployment: https://aka.ms/debugimage#debug-locally to debug if deployment takes longer than 10 minutes.\nRunning\n2021-09-18 06:18:23+00:00 Creating Container Registry if not exists.\n2021-09-18 06:18:24+00:00 Registering the environment.\n2021-09-18 06:18:24+00:00 Use the existing image.\n2021-09-18 06:18:25+00:00 Generating deployment configuration.\n2021-09-18 06:18:25+00:00 Submitting deployment to compute.\n2021-09-18 06:18:27+00:00 Checking the status of deployment automl-best-stroke-deployed..\n2021-09-18 06:22:29+00:00 Checking the status of inference endpoint automl-best-stroke-deployed.\nSucceeded\nACI service creation operation finished, operation \"Succeeded\"\nhttp://1df50e91-db34-42db-ac68-8307731487f8.eastus2.azurecontainer.io/score\n"
        }
      ],
      "execution_count": 68,
      "metadata": {
        "jupyter": {
          "source_hidden": false,
          "outputs_hidden": false
        },
        "nteract": {
          "transient": {
            "deleting": false
          }
        },
        "gather": {
          "logged": 1631946158533
        }
      }
    },
    {
      "cell_type": "code",
      "source": [
        "# Enable app insights\r\n",
        "# service.update(enable_app_insights=True)"
      ],
      "outputs": [],
      "execution_count": 26,
      "metadata": {
        "gather": {
          "logged": 1631942881252
        },
        "jupyter": {
          "outputs_hidden": false,
          "source_hidden": false
        },
        "nteract": {
          "transient": {
            "deleting": false
          }
        }
      }
    },
    {
      "cell_type": "code",
      "source": [
        "from azureml.core.authentication import InteractiveLoginAuthentication\r\n",
        "\r\n",
        "interactive_auth = InteractiveLoginAuthentication()\r\n",
        "auth_header = interactive_auth.get_authentication_header()"
      ],
      "outputs": [],
      "execution_count": 69,
      "metadata": {
        "jupyter": {
          "source_hidden": false,
          "outputs_hidden": false
        },
        "nteract": {
          "transient": {
            "deleting": false
          }
        },
        "gather": {
          "logged": 1631946195785
        }
      }
    },
    {
      "cell_type": "markdown",
      "source": [
        "TODO: In the cell below, send a request to the web service you deployed to test it."
      ],
      "metadata": {
        "collapsed": true,
        "gather": {
          "logged": 1598431657736
        },
        "jupyter": {
          "outputs_hidden": false,
          "source_hidden": false
        },
        "nteract": {
          "transient": {
            "deleting": false
          }
        }
      }
    },
    {
      "cell_type": "code",
      "source": [
        "scoring_uri = service.scoring_uri\r\n",
        "\r\n",
        "print(f'\\nservice state: {service.state}\\n')\r\n",
        "print(f'scoring URI: \\n{service.scoring_uri}\\n')\r\n",
        "print(f'swagger URI: \\n{service.swagger_uri}\\n')\r\n",
        "\r\n"
      ],
      "outputs": [
        {
          "output_type": "stream",
          "name": "stdout",
          "text": "\nservice state: Healthy\n\nscoring URI: \nhttp://1df50e91-db34-42db-ac68-8307731487f8.eastus2.azurecontainer.io/score\n\nswagger URI: \nhttp://1df50e91-db34-42db-ac68-8307731487f8.eastus2.azurecontainer.io/swagger.json\n\n"
        }
      ],
      "execution_count": 70,
      "metadata": {
        "jupyter": {
          "source_hidden": false,
          "outputs_hidden": false
        },
        "nteract": {
          "transient": {
            "deleting": false
          }
        },
        "gather": {
          "logged": 1631946199443
        }
      }
    },
    {
      "cell_type": "code",
      "source": [
        "data = {\r\n",
        "  \"data\": [\r\n",
        "    {\r\n",
        "      \"gender\": \"Male\",\r\n",
        "      \"age\": 67,\r\n",
        "      \"hypertension\": \"False\",\r\n",
        "      \"heart_disease\": \"True\",\r\n",
        "      \"ever_married\": \"True\",\r\n",
        "      \"work_type\": \"Private\",\r\n",
        "      \"Residence_type\": \"Urban\",\r\n",
        "      \"avg_glucose_level\": 228.69,\r\n",
        "      \"bmi\": 36.6,\r\n",
        "      \"smoking_status\": \"formerly smoked\"\r\n",
        "    },\r\n",
        "    {\r\n",
        "      \"gender\": \"Female\",\r\n",
        "      \"age\": 50,\r\n",
        "      \"hypertension\": \"False\",\r\n",
        "      \"heart_disease\": \"False\",\r\n",
        "      \"ever_married\": \"False\",\r\n",
        "      \"work_type\": \"0.0\",\r\n",
        "      \"Residence_type\": \"0.0\",\r\n",
        "      \"avg_glucose_level\": 0,\r\n",
        "      \"bmi\": 0,\r\n",
        "      \"smoking_status\": \"0\"\r\n",
        "    }\r\n",
        "  ]\r\n",
        "}\r\n",
        "\r\n",
        "# Convert to JSON string\r\n",
        "input_data = json.dumps(data)\r\n",
        "with open(\"data.json\", \"w\") as _f:\r\n",
        "    _f.write(input_data)\r\n",
        "\r\n",
        "# Set the content type\r\n",
        "headers = {\"Content-Type\": \"application/json\"}\r\n",
        "# If authentication is enabled, set the authorization header\r\n",
        "headers[\"Authorization\"] = f\"Bearer {key}\"\r\n",
        "\r\n",
        "# Make the request and display the response\r\n",
        "resp = requests.post(scoring_uri, input_data, headers=headers)\r\n",
        "print(resp.json())\r\n"
      ],
      "outputs": [
        {
          "output_type": "stream",
          "name": "stdout",
          "text": "{\"result\": [false, false]}\n"
        }
      ],
      "execution_count": 89,
      "metadata": {
        "jupyter": {
          "source_hidden": false,
          "outputs_hidden": false
        },
        "nteract": {
          "transient": {
            "deleting": false
          }
        },
        "gather": {
          "logged": 1631948261679
        }
      }
    },
    {
      "cell_type": "code",
      "source": [
        "# Sample code from Azure -> Endpoints -> CONSUME tab\r\n",
        "import urllib.request\r\n",
        "import json\r\n",
        "import os\r\n",
        "import ssl\r\n",
        "\r\n",
        "def allowSelfSignedHttps(allowed):\r\n",
        "    # bypass the server certificate verification on client side\r\n",
        "    if allowed and not os.environ.get('PYTHONHTTPSVERIFY', '') and getattr(ssl, '_create_unverified_context', None):\r\n",
        "        ssl._create_default_https_context = ssl._create_unverified_context\r\n",
        "\r\n",
        "allowSelfSignedHttps(True) # this line is needed if you use self-signed certificate in your scoring service.\r\n",
        "\r\n",
        "# Request data goes here\r\n",
        "data = {\r\n",
        "    \"data\":\r\n",
        "    [\r\n",
        "        {\r\n",
        "            'gender': \"Male\",\r\n",
        "            'age': \"100\",\r\n",
        "            'hypertension': \"True\",\r\n",
        "            'heart_disease': \"True\",\r\n",
        "            'ever_married': \"True\",\r\n",
        "            'work_type': \"Govt_job\",\r\n",
        "            'Residence_type': \"Urban\",\r\n",
        "            'avg_glucose_level': \"200\",\r\n",
        "            'bmi': \"50\",\r\n",
        "            'smoking_status': \"smoking\",\r\n",
        "        },\r\n",
        "\r\n",
        "        {\r\n",
        "            'gender': \"Male\",\r\n",
        "            'age': \"100\",\r\n",
        "            'hypertension': \"True\",\r\n",
        "            'heart_disease': \"True\",\r\n",
        "            'ever_married': \"True\",\r\n",
        "            'work_type': \"Govt_job\",\r\n",
        "            'Residence_type': \"Urban\",\r\n",
        "            'avg_glucose_level': \"200\",\r\n",
        "            'bmi': \"50\",\r\n",
        "            'smoking_status': \"smoking\",\r\n",
        "        }\r\n",
        "    ],\r\n",
        "}\r\n",
        "\r\n",
        "body = str.encode(json.dumps(data))\r\n",
        "\r\n",
        "url = 'http://1df50e91-db34-42db-ac68-8307731487f8.eastus2.azurecontainer.io/score'\r\n",
        "api_key = 'ebqaD9A1pFE4PWuXZk20lE6Srrpj8J6l' # Replace this with the API key for the web service\r\n",
        "headers = {'Content-Type':'application/json', 'Authorization':('Bearer '+ api_key)}\r\n",
        "\r\n",
        "req = urllib.request.Request(url, body, headers)\r\n",
        "\r\n",
        "try:\r\n",
        "    response = urllib.request.urlopen(req)\r\n",
        "\r\n",
        "    result = response.read()\r\n",
        "    print(result)\r\n",
        "except urllib.error.HTTPError as error:\r\n",
        "    print(\"The request failed with status code: \" + str(error.code))\r\n",
        "\r\n",
        "    # Print the headers - they include the requert ID and the timestamp, which are useful for debugging the failure\r\n",
        "    print(error.info())\r\n",
        "    print(json.loads(error.read().decode(\"utf8\", 'ignore')))\r\n"
      ],
      "outputs": [
        {
          "output_type": "stream",
          "name": "stdout",
          "text": "b'\"{\\\\\"result\\\\\": [false, false]}\"'\n"
        }
      ],
      "execution_count": 83,
      "metadata": {
        "jupyter": {
          "source_hidden": false,
          "outputs_hidden": false
        },
        "nteract": {
          "transient": {
            "deleting": false
          }
        },
        "gather": {
          "logged": 1631946529277
        }
      }
    },
    {
      "cell_type": "markdown",
      "source": [
        "TODO: In the cell below, print the logs of the web service and delete the service"
      ],
      "metadata": {
        "collapsed": true,
        "gather": {
          "logged": 1598432765711
        },
        "jupyter": {
          "outputs_hidden": false,
          "source_hidden": false
        },
        "nteract": {
          "transient": {
            "deleting": false
          }
        }
      }
    },
    {
      "cell_type": "code",
      "source": [
        "#Print the logs from the service\r\n",
        "logs = service.get_logs()\r\n",
        "logs"
      ],
      "outputs": [
        {
          "output_type": "execute_result",
          "execution_count": 85,
          "data": {
            "text/plain": "'2021-09-18T06:21:39,112283200+00:00 - gunicorn/run \\nDynamic Python package installation is disabled.\\nStarting HTTP server\\n2021-09-18T06:21:39,114363000+00:00 - iot-server/run \\n2021-09-18T06:21:39,114167500+00:00 - rsyslog/run \\n2021-09-18T06:21:39,174285000+00:00 - nginx/run \\nrsyslogd: /azureml-envs/azureml_353869621814477763638e22dfd8c78e/lib/libuuid.so.1: no version information available (required by rsyslogd)\\nEdgeHubConnectionString and IOTEDGE_IOTHUBHOSTNAME are not set. Exiting...\\n2021-09-18T06:21:39,499531100+00:00 - iot-server/finish 1 0\\n2021-09-18T06:21:39,501758800+00:00 - Exit code 1 is normal. Not restarting iot-server.\\nStarting gunicorn 20.1.0\\nListening at: http://127.0.0.1:31311 (63)\\nUsing worker: sync\\nworker timeout is set to 300\\nBooting worker with pid: 90\\nSPARK_HOME not set. Skipping PySpark Initialization.\\nGenerating new fontManager, this may take some time...\\nInitializing logger\\n2021-09-18 06:21:41,831 | root | INFO | Starting up app insights client\\nlogging socket was found. logging is available.\\nlogging socket was found. logging is available.\\n2021-09-18 06:21:41,831 | root | INFO | Starting up request id generator\\n2021-09-18 06:21:41,831 | root | INFO | Starting up app insight hooks\\n2021-09-18 06:21:41,832 | root | INFO | Invoking user\\'s init function\\n2021-09-18 06:21:45,712 | azureml.core | WARNING | Failure while loading azureml_run_type_providers. Failed to load entrypoint automl = azureml.train.automl.run:AutoMLRun._from_run_dto with exception cannot import name \\'RunType\\'.\\nFailure while loading azureml_run_type_providers. Failed to load entrypoint automl = azureml.train.automl.run:AutoMLRun._from_run_dto with exception cannot import name \\'RunType\\'.\\n2021-09-18 06:21:46,923 | root | INFO | Users\\'s init has completed successfully\\n2021-09-18 06:21:46,931 | root | INFO | Skipping middleware: dbg_model_info as it\\'s not enabled.\\n2021-09-18 06:21:46,951 | root | INFO | Skipping middleware: dbg_resource_usage as it\\'s not enabled.\\nGenerating swagger file: /tmp/tmp67a8il19\\n2021-09-18 06:21:46,953 | root | INFO | Scoring timeout is found from os.environ: 60000 ms\\n2021-09-18 06:22:09,210 | root | INFO | 200\\n127.0.0.1 - - [18/Sep/2021:06:22:09 +0000] \"GET /swagger.json HTTP/1.0\" 200 2603 \"-\" \"Go-http-client/1.1\"\\n2021-09-18 06:22:29,773 | root | INFO | 200\\n127.0.0.1 - - [18/Sep/2021:06:22:29 +0000] \"GET /swagger.json HTTP/1.0\" 200 2603 \"-\" \"Go-http-client/1.1\"\\n2021-09-18 06:22:37,511 | root | INFO | 200\\n127.0.0.1 - - [18/Sep/2021:06:22:37 +0000] \"GET /swagger.json HTTP/1.0\" 200 2603 \"-\" \"Go-http-client/1.1\"\\n2021-09-18 06:23:23,722 | root | INFO | Validation Request Content-Type\\n2021-09-18 06:23:23,723 | root | INFO | Scoring Timer is set to 60.0 seconds\\n2021-09-18 06:23:23,871 | root | INFO | 200\\n127.0.0.1 - - [18/Sep/2021:06:23:23 +0000] \"POST /score HTTP/1.0\" 200 23 \"-\" \"python-requests/2.26.0\"\\n2021-09-18 06:23:41,329 | root | INFO | Validation Request Content-Type\\n2021-09-18 06:23:41,330 | root | INFO | Scoring Timer is set to 60.0 seconds\\n2021-09-18 06:23:41,469 | root | INFO | 200\\n127.0.0.1 - - [18/Sep/2021:06:23:41 +0000] \"POST /score HTTP/1.0\" 200 23 \"-\" \"python-requests/2.26.0\"\\n2021-09-18 06:24:08,233 | root | INFO | Validation Request Content-Type\\n2021-09-18 06:24:08,234 | root | INFO | Scoring Timer is set to 60.0 seconds\\n2021-09-18 06:24:08,252 | root | ERROR | Encountered Exception: Traceback (most recent call last):\\n  File \"/var/azureml-server/synchronous/routes.py\", line 65, in run_scoring\\n    response, time_taken_ms = invoke_user_with_timer(service_input, request_headers)\\n  File \"/var/azureml-server/synchronous/routes.py\", line 110, in invoke_user_with_timer\\n    result, time_taken_ms = capture_time_taken(user_main.run)(**params)\\n  File \"/var/azureml-server/synchronous/routes.py\", line 92, in timer\\n    result = func(*args, **kwargs)\\n  File \"/var/azureml-app/main.py\", line 21, in run\\n    return_obj = driver_module.run(**arguments)\\n  File \"/azureml-envs/azureml_353869621814477763638e22dfd8c78e/lib/python3.6/site-packages/inference_schema/schema_decorators.py\", line 57, in decorator_input\\n    kwargs[param_name] = _deserialize_input_argument(kwargs[param_name], param_type, param_name)\\n  File \"/azureml-envs/azureml_353869621814477763638e22dfd8c78e/lib/python3.6/site-packages/inference_schema/schema_decorators.py\", line 285, in _deserialize_input_argument\\n    input_data = param_type.deserialize_input(input_data)\\n  File \"/azureml-envs/azureml_353869621814477763638e22dfd8c78e/lib/python3.6/site-packages/inference_schema/parameter_types/pandas_parameter_type.py\", line 79, in deserialize_input\\n    data_frame.shape[dim], dim, expected_shape[dim]))\\nValueError: Invalid input data frame: data frame has size 11 on dimension #1, while expected value is 10\\n\\nDuring handling of the above exception, another exception occurred:\\n\\nTraceback (most recent call last):\\n  File \"/azureml-envs/azureml_353869621814477763638e22dfd8c78e/lib/python3.6/site-packages/flask/app.py\", line 1832, in full_dispatch_request\\n    rv = self.dispatch_request()\\n  File \"/azureml-envs/azureml_353869621814477763638e22dfd8c78e/lib/python3.6/site-packages/flask/app.py\", line 1818, in dispatch_request\\n    return self.view_functions[rule.endpoint](**req.view_args)\\n  File \"/var/azureml-server/synchronous/routes.py\", line 44, in score_realtime\\n    return run_scoring(service_input, request.headers, request.environ.get(\\'REQUEST_ID\\', \\'00000000-0000-0000-0000-000000000000\\'))\\n  File \"/var/azureml-server/synchronous/routes.py\", line 74, in run_scoring\\n    raise RunFunctionException(str(exc))\\nrun_function_exception.RunFunctionException\\n\\n2021-09-18 06:24:08,253 | root | INFO | 500\\n127.0.0.1 - - [18/Sep/2021:06:24:08 +0000] \"POST /score HTTP/1.0\" 500 92 \"-\" \"Python-urllib/3.6\"\\n2021-09-18 06:24:24,692 | root | INFO | 200\\n127.0.0.1 - - [18/Sep/2021:06:24:24 +0000] \"GET /swagger.json HTTP/1.0\" 200 2603 \"-\" \"Go-http-client/1.1\"\\n2021-09-18 06:24:27,870 | root | INFO | 200\\n127.0.0.1 - - [18/Sep/2021:06:24:27 +0000] \"GET /swagger.json HTTP/1.0\" 200 2603 \"-\" \"Go-http-client/1.1\"\\n2021-09-18 06:24:29,729 | root | INFO | 200\\n127.0.0.1 - - [18/Sep/2021:06:24:29 +0000] \"GET /swagger.json HTTP/1.0\" 200 2603 \"-\" \"Go-http-client/1.1\"\\n2021-09-18 06:24:48,537 | root | INFO | Validation Request Content-Type\\n2021-09-18 06:24:48,538 | root | INFO | Scoring Timer is set to 60.0 seconds\\n2021-09-18 06:24:48,674 | root | INFO | 200\\n127.0.0.1 - - [18/Sep/2021:06:24:48 +0000] \"POST /score HTTP/1.0\" 200 23 \"-\" \"Python-urllib/3.6\"\\n2021-09-18 06:25:23,271 | root | INFO | Validation Request Content-Type\\n2021-09-18 06:25:23,271 | root | INFO | Scoring Timer is set to 60.0 seconds\\n2021-09-18 06:25:23,410 | root | INFO | 200\\n127.0.0.1 - - [18/Sep/2021:06:25:23 +0000] \"POST /score HTTP/1.0\" 200 23 \"-\" \"Python-urllib/3.6\"\\n2021-09-18 06:25:37,840 | root | INFO | Validation Request Content-Type\\n2021-09-18 06:25:37,841 | root | INFO | Scoring Timer is set to 60.0 seconds\\n2021-09-18 06:25:37,982 | root | INFO | 200\\n127.0.0.1 - - [18/Sep/2021:06:25:37 +0000] \"POST /score HTTP/1.0\" 200 23 \"-\" \"Python-urllib/3.6\"\\n2021-09-18 06:25:43,671 | root | INFO | Validation Request Content-Type\\n2021-09-18 06:25:43,672 | root | INFO | Scoring Timer is set to 60.0 seconds\\n2021-09-18 06:25:43,821 | root | INFO | 200\\n127.0.0.1 - - [18/Sep/2021:06:25:43 +0000] \"POST /score HTTP/1.0\" 200 23 \"-\" \"Python-urllib/3.6\"\\n2021-09-18 06:25:59,967 | root | INFO | Validation Request Content-Type\\n2021-09-18 06:25:59,968 | root | INFO | Scoring Timer is set to 60.0 seconds\\n2021-09-18 06:26:00,116 | root | INFO | 200\\n127.0.0.1 - - [18/Sep/2021:06:26:00 +0000] \"POST /score HTTP/1.0\" 200 23 \"-\" \"Python-urllib/3.6\"\\n2021-09-18 06:26:05,345 | root | INFO | Validation Request Content-Type\\n2021-09-18 06:26:05,346 | root | INFO | Scoring Timer is set to 60.0 seconds\\n2021-09-18 06:26:05,482 | root | INFO | 200\\n127.0.0.1 - - [18/Sep/2021:06:26:05 +0000] \"POST /score HTTP/1.0\" 200 23 \"-\" \"Python-urllib/3.6\"\\n2021-09-18 06:26:15,709 | root | INFO | Validation Request Content-Type\\n2021-09-18 06:26:15,710 | root | INFO | Scoring Timer is set to 60.0 seconds\\n2021-09-18 06:26:15,848 | root | INFO | 200\\n127.0.0.1 - - [18/Sep/2021:06:26:15 +0000] \"POST /score HTTP/1.0\" 200 23 \"-\" \"Python-urllib/3.6\"\\n2021-09-18 06:26:25,056 | root | INFO | 200\\n127.0.0.1 - - [18/Sep/2021:06:26:25 +0000] \"GET /swagger.json HTTP/1.0\" 200 2603 \"-\" \"Go-http-client/1.1\"\\n2021-09-18 06:26:29,742 | root | INFO | Validation Request Content-Type\\n2021-09-18 06:26:29,742 | root | INFO | Scoring Timer is set to 60.0 seconds\\n2021-09-18 06:26:29,880 | root | INFO | 200\\n127.0.0.1 - - [18/Sep/2021:06:26:29 +0000] \"POST /score?verbose=true HTTP/1.0\" 200 23 \"-\" \"Go-http-client/1.1\"\\n2021-09-18 06:26:33,966 | root | INFO | Validation Request Content-Type\\n2021-09-18 06:26:33,966 | root | INFO | Scoring Timer is set to 60.0 seconds\\n2021-09-18 06:26:34,111 | root | INFO | 200\\n127.0.0.1 - - [18/Sep/2021:06:26:34 +0000] \"POST /score?verbose=true HTTP/1.0\" 200 23 \"-\" \"Go-http-client/1.1\"\\n2021-09-18 06:26:43,449 | root | INFO | Validation Request Content-Type\\n2021-09-18 06:26:43,450 | root | INFO | Scoring Timer is set to 60.0 seconds\\n2021-09-18 06:26:43,597 | root | INFO | 200\\n127.0.0.1 - - [18/Sep/2021:06:26:43 +0000] \"POST /score?verbose=true HTTP/1.0\" 200 23 \"-\" \"Go-http-client/1.1\"\\n2021-09-18 06:26:48,126 | root | INFO | Validation Request Content-Type\\n2021-09-18 06:26:48,127 | root | INFO | Scoring Timer is set to 60.0 seconds\\n2021-09-18 06:26:48,265 | root | INFO | 200\\n127.0.0.1 - - [18/Sep/2021:06:26:48 +0000] \"POST /score?verbose=true HTTP/1.0\" 200 23 \"-\" \"Go-http-client/1.1\"\\n2021-09-18 06:26:53,370 | root | INFO | Validation Request Content-Type\\n2021-09-18 06:26:53,371 | root | INFO | Scoring Timer is set to 60.0 seconds\\n2021-09-18 06:26:53,524 | root | INFO | 200\\n127.0.0.1 - - [18/Sep/2021:06:26:53 +0000] \"POST /score?verbose=true HTTP/1.0\" 200 23 \"-\" \"Go-http-client/1.1\"\\n2021-09-18 06:27:13,935 | root | INFO | Validation Request Content-Type\\n2021-09-18 06:27:13,936 | root | INFO | Scoring Timer is set to 60.0 seconds\\n2021-09-18 06:27:14,084 | root | INFO | 200\\n127.0.0.1 - - [18/Sep/2021:06:27:14 +0000] \"POST /score?verbose=true HTTP/1.0\" 200 23 \"-\" \"Go-http-client/1.1\"\\n2021-09-18 06:28:19,412 | root | INFO | Validation Request Content-Type\\n2021-09-18 06:28:19,414 | root | INFO | Scoring Timer is set to 60.0 seconds\\n2021-09-18 06:28:19,576 | root | INFO | 200\\n127.0.0.1 - - [18/Sep/2021:06:28:19 +0000] \"POST /score HTTP/1.0\" 200 30 \"-\" \"python-requests/2.26.0\"\\n2021-09-18 06:28:31,731 | root | INFO | Validation Request Content-Type\\n2021-09-18 06:28:31,731 | root | INFO | Scoring Timer is set to 60.0 seconds\\n2021-09-18 06:28:31,884 | root | INFO | 200\\n127.0.0.1 - - [18/Sep/2021:06:28:31 +0000] \"POST /score HTTP/1.0\" 200 30 \"-\" \"python-requests/2.26.0\"\\n2021-09-18 06:28:48,564 | root | INFO | Validation Request Content-Type\\n2021-09-18 06:28:48,564 | root | INFO | Scoring Timer is set to 60.0 seconds\\n2021-09-18 06:28:48,709 | root | INFO | 200\\n127.0.0.1 - - [18/Sep/2021:06:28:48 +0000] \"POST /score HTTP/1.0\" 200 30 \"-\" \"Python-urllib/3.6\"\\n2021-09-18 06:28:54,048 | root | INFO | Validation Request Content-Type\\n2021-09-18 06:28:54,049 | root | INFO | Scoring Timer is set to 60.0 seconds\\n2021-09-18 06:28:54,066 | root | ERROR | Encountered Exception: Traceback (most recent call last):\\n  File \"/var/azureml-server/synchronous/routes.py\", line 65, in run_scoring\\n    response, time_taken_ms = invoke_user_with_timer(service_input, request_headers)\\n  File \"/var/azureml-server/synchronous/routes.py\", line 110, in invoke_user_with_timer\\n    result, time_taken_ms = capture_time_taken(user_main.run)(**params)\\n  File \"/var/azureml-server/synchronous/routes.py\", line 92, in timer\\n    result = func(*args, **kwargs)\\n  File \"/var/azureml-app/main.py\", line 21, in run\\n    return_obj = driver_module.run(**arguments)\\n  File \"/azureml-envs/azureml_353869621814477763638e22dfd8c78e/lib/python3.6/site-packages/inference_schema/schema_decorators.py\", line 57, in decorator_input\\n    kwargs[param_name] = _deserialize_input_argument(kwargs[param_name], param_type, param_name)\\n  File \"/azureml-envs/azureml_353869621814477763638e22dfd8c78e/lib/python3.6/site-packages/inference_schema/schema_decorators.py\", line 285, in _deserialize_input_argument\\n    input_data = param_type.deserialize_input(input_data)\\n  File \"/azureml-envs/azureml_353869621814477763638e22dfd8c78e/lib/python3.6/site-packages/inference_schema/parameter_types/pandas_parameter_type.py\", line 79, in deserialize_input\\n    data_frame.shape[dim], dim, expected_shape[dim]))\\nValueError: Invalid input data frame: data frame has size 1 on dimension #1, while expected value is 10\\n\\nDuring handling of the above exception, another exception occurred:\\n\\nTraceback (most recent call last):\\n  File \"/azureml-envs/azureml_353869621814477763638e22dfd8c78e/lib/python3.6/site-packages/flask/app.py\", line 1832, in full_dispatch_request\\n    rv = self.dispatch_request()\\n  File \"/azureml-envs/azureml_353869621814477763638e22dfd8c78e/lib/python3.6/site-packages/flask/app.py\", line 1818, in dispatch_request\\n    return self.view_functions[rule.endpoint](**req.view_args)\\n  File \"/var/azureml-server/synchronous/routes.py\", line 44, in score_realtime\\n    return run_scoring(service_input, request.headers, request.environ.get(\\'REQUEST_ID\\', \\'00000000-0000-0000-0000-000000000000\\'))\\n  File \"/var/azureml-server/synchronous/routes.py\", line 74, in run_scoring\\n    raise RunFunctionException(str(exc))\\nrun_function_exception.RunFunctionException\\n\\n2021-09-18 06:28:54,067 | root | INFO | 500\\n127.0.0.1 - - [18/Sep/2021:06:28:54 +0000] \"POST /score HTTP/1.0\" 500 91 \"-\" \"python-requests/2.26.0\"\\n2021-09-18 06:28:54,076 | root | INFO | Validation Request Content-Type\\n2021-09-18 06:28:54,077 | root | INFO | Scoring Timer is set to 60.0 seconds\\n2021-09-18 06:28:54,081 | root | ERROR | Encountered Exception: Traceback (most recent call last):\\n  File \"/var/azureml-server/synchronous/routes.py\", line 65, in run_scoring\\n    response, time_taken_ms = invoke_user_with_timer(service_input, request_headers)\\n  File \"/var/azureml-server/synchronous/routes.py\", line 110, in invoke_user_with_timer\\n    result, time_taken_ms = capture_time_taken(user_main.run)(**params)\\n  File \"/var/azureml-server/synchronous/routes.py\", line 92, in timer\\n    result = func(*args, **kwargs)\\n  File \"/var/azureml-app/main.py\", line 21, in run\\n    return_obj = driver_module.run(**arguments)\\n  File \"/azureml-envs/azureml_353869621814477763638e22dfd8c78e/lib/python3.6/site-packages/inference_schema/schema_decorators.py\", line 57, in decorator_input\\n    kwargs[param_name] = _deserialize_input_argument(kwargs[param_name], param_type, param_name)\\n  File \"/azureml-envs/azureml_353869621814477763638e22dfd8c78e/lib/python3.6/site-packages/inference_schema/schema_decorators.py\", line 285, in _deserialize_input_argument\\n    input_data = param_type.deserialize_input(input_data)\\n  File \"/azureml-envs/azureml_353869621814477763638e22dfd8c78e/lib/python3.6/site-packages/inference_schema/parameter_types/pandas_parameter_type.py\", line 79, in deserialize_input\\n    data_frame.shape[dim], dim, expected_shape[dim]))\\nValueError: Invalid input data frame: data frame has size 1 on dimension #1, while expected value is 10\\n\\nDuring handling of the above exception, another exception occurred:\\n\\nTraceback (most recent call last):\\n  File \"/azureml-envs/azureml_353869621814477763638e22dfd8c78e/lib/python3.6/site-packages/flask/app.py\", line 1832, in full_dispatch_request\\n    rv = self.dispatch_request()\\n  File \"/azureml-envs/azureml_353869621814477763638e22dfd8c78e/lib/python3.6/site-packages/flask/app.py\", line 1818, in dispatch_request\\n    return self.view_functions[rule.endpoint](**req.view_args)\\n  File \"/var/azureml-server/synchronous/routes.py\", line 44, in score_realtime\\n    return run_scoring(service_input, request.headers, request.environ.get(\\'REQUEST_ID\\', \\'00000000-0000-0000-0000-000000000000\\'))\\n  File \"/var/azureml-server/synchronous/routes.py\", line 74, in run_scoring\\n    raise RunFunctionException(str(exc))\\nrun_function_exception.RunFunctionException\\n\\n2021-09-18 06:28:54,081 | root | INFO | 500\\n127.0.0.1 - - [18/Sep/2021:06:28:54 +0000] \"POST /score HTTP/1.0\" 500 91 \"-\" \"python-requests/2.26.0\"\\n2021-09-18 06:28:55,094 | root | INFO | Validation Request Content-Type\\n2021-09-18 06:28:55,095 | root | INFO | Scoring Timer is set to 60.0 seconds\\n2021-09-18 06:28:55,103 | root | ERROR | Encountered Exception: Traceback (most recent call last):\\n  File \"/var/azureml-server/synchronous/routes.py\", line 65, in run_scoring\\n    response, time_taken_ms = invoke_user_with_timer(service_input, request_headers)\\n  File \"/var/azureml-server/synchronous/routes.py\", line 110, in invoke_user_with_timer\\n    result, time_taken_ms = capture_time_taken(user_main.run)(**params)\\n  File \"/var/azureml-server/synchronous/routes.py\", line 92, in timer\\n    result = func(*args, **kwargs)\\n  File \"/var/azureml-app/main.py\", line 21, in run\\n    return_obj = driver_module.run(**arguments)\\n  File \"/azureml-envs/azureml_353869621814477763638e22dfd8c78e/lib/python3.6/site-packages/inference_schema/schema_decorators.py\", line 57, in decorator_input\\n    kwargs[param_name] = _deserialize_input_argument(kwargs[param_name], param_type, param_name)\\n  File \"/azureml-envs/azureml_353869621814477763638e22dfd8c78e/lib/python3.6/site-packages/inference_schema/schema_decorators.py\", line 285, in _deserialize_input_argument\\n    input_data = param_type.deserialize_input(input_data)\\n  File \"/azureml-envs/azureml_353869621814477763638e22dfd8c78e/lib/python3.6/site-packages/inference_schema/parameter_types/pandas_parameter_type.py\", line 79, in deserialize_input\\n    data_frame.shape[dim], dim, expected_shape[dim]))\\nValueError: Invalid input data frame: data frame has size 1 on dimension #1, while expected value is 10\\n\\nDuring handling of the above exception, another exception occurred:\\n\\nTraceback (most recent call last):\\n  File \"/azureml-envs/azureml_353869621814477763638e22dfd8c78e/lib/python3.6/site-packages/flask/app.py\", line 1832, in full_dispatch_request\\n    rv = self.dispatch_request()\\n  File \"/azureml-envs/azureml_353869621814477763638e22dfd8c78e/lib/python3.6/site-packages/flask/app.py\", line 1818, in dispatch_request\\n    return self.view_functions[rule.endpoint](**req.view_args)\\n  File \"/var/azureml-server/synchronous/routes.py\", line 44, in score_realtime\\n    return run_scoring(service_input, request.headers, request.environ.get(\\'REQUEST_ID\\', \\'00000000-0000-0000-0000-000000000000\\'))\\n  File \"/var/azureml-server/synchronous/routes.py\", line 74, in run_scoring\\n    raise RunFunctionException(str(exc))\\nrun_function_exception.RunFunctionException\\n\\n2021-09-18 06:28:55,103 | root | INFO | 500\\n127.0.0.1 - - [18/Sep/2021:06:28:55 +0000] \"POST /score HTTP/1.0\" 500 91 \"-\" \"python-requests/2.26.0\"\\n2021-09-18 06:28:57,116 | root | INFO | Validation Request Content-Type\\n2021-09-18 06:28:57,117 | root | INFO | Scoring Timer is set to 60.0 seconds\\n2021-09-18 06:28:57,123 | root | ERROR | Encountered Exception: Traceback (most recent call last):\\n  File \"/var/azureml-server/synchronous/routes.py\", line 65, in run_scoring\\n    response, time_taken_ms = invoke_user_with_timer(service_input, request_headers)\\n  File \"/var/azureml-server/synchronous/routes.py\", line 110, in invoke_user_with_timer\\n    result, time_taken_ms = capture_time_taken(user_main.run)(**params)\\n  File \"/var/azureml-server/synchronous/routes.py\", line 92, in timer\\n    result = func(*args, **kwargs)\\n  File \"/var/azureml-app/main.py\", line 21, in run\\n    return_obj = driver_module.run(**arguments)\\n  File \"/azureml-envs/azureml_353869621814477763638e22dfd8c78e/lib/python3.6/site-packages/inference_schema/schema_decorators.py\", line 57, in decorator_input\\n    kwargs[param_name] = _deserialize_input_argument(kwargs[param_name], param_type, param_name)\\n  File \"/azureml-envs/azureml_353869621814477763638e22dfd8c78e/lib/python3.6/site-packages/inference_schema/schema_decorators.py\", line 285, in _deserialize_input_argument\\n    input_data = param_type.deserialize_input(input_data)\\n  File \"/azureml-envs/azureml_353869621814477763638e22dfd8c78e/lib/python3.6/site-packages/inference_schema/parameter_types/pandas_parameter_type.py\", line 79, in deserialize_input\\n    data_frame.shape[dim], dim, expected_shape[dim]))\\nValueError: Invalid input data frame: data frame has size 1 on dimension #1, while expected value is 10\\n\\nDuring handling of the above exception, another exception occurred:\\n\\nTraceback (most recent call last):\\n  File \"/azureml-envs/azureml_353869621814477763638e22dfd8c78e/lib/python3.6/site-packages/flask/app.py\", line 1832, in full_dispatch_request\\n    rv = self.dispatch_request()\\n  File \"/azureml-envs/azureml_353869621814477763638e22dfd8c78e/lib/python3.6/site-packages/flask/app.py\", line 1818, in dispatch_request\\n    return self.view_functions[rule.endpoint](**req.view_args)\\n  File \"/var/azureml-server/synchronous/routes.py\", line 44, in score_realtime\\n    return run_scoring(service_input, request.headers, request.environ.get(\\'REQUEST_ID\\', \\'00000000-0000-0000-0000-000000000000\\'))\\n  File \"/var/azureml-server/synchronous/routes.py\", line 74, in run_scoring\\n    raise RunFunctionException(str(exc))\\nrun_function_exception.RunFunctionException\\n\\n2021-09-18 06:28:57,124 | root | INFO | 500\\n127.0.0.1 - - [18/Sep/2021:06:28:57 +0000] \"POST /score HTTP/1.0\" 500 91 \"-\" \"python-requests/2.26.0\"\\n'"
          },
          "metadata": {}
        }
      ],
      "execution_count": 85,
      "metadata": {
        "jupyter": {
          "source_hidden": false,
          "outputs_hidden": false
        },
        "nteract": {
          "transient": {
            "deleting": false
          }
        },
        "gather": {
          "logged": 1631946564023
        }
      }
    },
    {
      "cell_type": "code",
      "source": [
        "# Delete the deployed model\r\n",
        "service.delete()\r\n",
        "\r\n",
        "#Delete the CPU compute target\r\n",
        "# compute_target.delete()"
      ],
      "outputs": [],
      "execution_count": 93,
      "metadata": {
        "jupyter": {
          "source_hidden": false,
          "outputs_hidden": false
        },
        "nteract": {
          "transient": {
            "deleting": false
          }
        },
        "gather": {
          "logged": 1631949047656
        }
      }
    },
    {
      "cell_type": "code",
      "source": [],
      "outputs": [],
      "execution_count": null,
      "metadata": {
        "jupyter": {
          "source_hidden": false,
          "outputs_hidden": false
        },
        "nteract": {
          "transient": {
            "deleting": false
          }
        }
      }
    }
  ],
  "metadata": {
    "kernel_info": {
      "name": "python3"
    },
    "kernelspec": {
      "name": "python3",
      "language": "python",
      "display_name": "Python 3"
    },
    "language_info": {
      "name": "python",
      "version": "3.6.9",
      "mimetype": "text/x-python",
      "codemirror_mode": {
        "name": "ipython",
        "version": 3
      },
      "pygments_lexer": "ipython3",
      "nbconvert_exporter": "python",
      "file_extension": ".py"
    },
    "nteract": {
      "version": "nteract-front-end@1.0.0"
    },
    "microsoft": {
      "host": {
        "AzureML": {
          "notebookHasBeenCompleted": true
        }
      }
    }
  },
  "nbformat": 4,
  "nbformat_minor": 2
}