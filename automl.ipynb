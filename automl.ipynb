{
  "cells": [
    {
      "cell_type": "markdown",
      "source": [
        "# Automated ML\n",
        "\n",
        "TODO: Import Dependencies. In the cell below, import all the dependencies that you will need to complete the project."
      ],
      "metadata": {}
    },
    {
      "cell_type": "code",
      "source": [
        "import logging\r\n",
        "import os\r\n",
        "import json\r\n",
        "import csv\r\n",
        "import numpy as np\r\n",
        "import pandas as pd\r\n",
        "# import pkg_resources\r\n",
        "import joblib\r\n",
        "\r\n",
        "import azureml.core\r\n",
        "from azureml.core.experiment import Experiment\r\n",
        "from azureml.core.workspace import Workspace\r\n",
        "from azureml.train.automl import AutoMLConfig\r\n",
        "from azureml.core.dataset import Dataset\r\n",
        "from azureml.core.compute import AmlCompute\r\n",
        "from azureml.core.compute import ComputeTarget\r\n",
        "from azureml.core.compute_target import ComputeTargetException\r\n",
        "from azureml.pipeline.steps import AutoMLStep\r\n",
        "from azureml.widgets import RunDetails\r\n",
        "from azureml.core import Model, Environment\r\n",
        "from azureml.core.model import InferenceConfig\r\n",
        "from azureml.core.webservice import AciWebservice\r\n",
        "from sklearn.preprocessing import StandardScaler\r\n",
        "\r\n",
        "# Check core SDK version number\r\n",
        "print(\"SDK version:\", azureml.core.VERSION)"
      ],
      "outputs": [
        {
          "output_type": "stream",
          "name": "stdout",
          "text": "SDK version: 1.33.0\n"
        }
      ],
      "execution_count": 1,
      "metadata": {
        "jupyter": {
          "source_hidden": false,
          "outputs_hidden": false
        },
        "nteract": {
          "transient": {
            "deleting": false
          }
        },
        "gather": {
          "logged": 1632373236367
        }
      }
    },
    {
      "cell_type": "code",
      "source": [
        "from azureml.core import Workspace, Experiment\r\n",
        "\r\n",
        "ws = Workspace.get(name=\"udacity-courtlin\",subscription_id=\"bd6c48f0-b2f5-4fd8-b4de-3351b13cbee8\", resource_group=\"udacity-nano-degree\")\r\n",
        "exp = Experiment(workspace=ws, name=\"stroke-prediction\")\r\n",
        "\r\n",
        "print('Workspace name: ' + ws.name, \r\n",
        "      'Azure region: ' + ws.location, \r\n",
        "      'Subscription id: ' + ws.subscription_id, \r\n",
        "      'Resource group: ' + ws.resource_group, sep = '\\n')\r\n",
        "\r\n",
        "run = exp.start_logging()"
      ],
      "outputs": [
        {
          "output_type": "stream",
          "name": "stdout",
          "text": "Workspace name: udacity-courtlin\nAzure region: eastus2\nSubscription id: bd6c48f0-b2f5-4fd8-b4de-3351b13cbee8\nResource group: udacity-nano-degree\n"
        }
      ],
      "execution_count": 2,
      "metadata": {
        "gather": {
          "logged": 1632373239098
        },
        "jupyter": {
          "outputs_hidden": false,
          "source_hidden": false
        },
        "nteract": {
          "transient": {
            "deleting": false
          }
        }
      }
    },
    {
      "cell_type": "code",
      "source": [
        "from azureml.core import Datastore\r\n",
        "from azureml.core.compute import ComputeTarget, AmlCompute\r\n",
        "\r\n",
        "datastore = ws.get_default_datastore()\r\n",
        "    \r\n",
        "cpu_cluster_name = \"udacitycapstone\"\r\n",
        "if not cpu_cluster_name in ws.compute_targets :\r\n",
        "    print('creating a new compute target...')\r\n",
        "    compute_config = AmlCompute.provisioning_configuration(vm_size=\"Standard_D2_V2\",# for GPU, use \"STANDARD_NC6\",\r\n",
        "    max_nodes=5, vm_priority='lowpriority',min_nodes=0, idle_seconds_before_scaledown=300)\r\n",
        "    cpu_cluster = ComputeTarget.create(ws, cpu_cluster_name, compute_config)\r\n",
        "    cpu_cluster.wait_for_completion(show_output=True,min_node_count=None, timeout_in_minutes=20)\r\n",
        "\r\n",
        "    # Show the result\r\n",
        "    print(cpu_cluster.get_status().serialize())\r\n",
        "\r\n",
        "cpu_cluster = ws.compute_targets[cpu_cluster_name]"
      ],
      "outputs": [
        {
          "output_type": "stream",
          "name": "stdout",
          "text": "creating a new compute target...\nInProgress....\nSucceededProvisioning operation finished, operation \"Succeeded\"\nSucceeded\nAmlCompute wait for completion finished\n\nMinimum number of nodes requested have been provisioned\n{'currentNodeCount': 0, 'targetNodeCount': 0, 'nodeStateCounts': {'preparingNodeCount': 0, 'runningNodeCount': 0, 'idleNodeCount': 0, 'unusableNodeCount': 0, 'leavingNodeCount': 0, 'preemptedNodeCount': 0}, 'allocationState': 'Resizing', 'allocationStateTransitionTime': '2021-09-23T05:00:38.628000+00:00', 'errors': None, 'creationTime': '2021-09-23T05:00:38.240411+00:00', 'modifiedTime': '2021-09-23T05:00:53.861186+00:00', 'provisioningState': 'Succeeded', 'provisioningStateTransitionTime': None, 'scaleSettings': {'minNodeCount': 0, 'maxNodeCount': 5, 'nodeIdleTimeBeforeScaleDown': 'PT300S'}, 'vmPriority': 'LowPriority', 'vmSize': 'STANDARD_D2_V2'}\n"
        }
      ],
      "execution_count": 3,
      "metadata": {
        "gather": {
          "logged": 1632373260179
        }
      }
    },
    {
      "cell_type": "markdown",
      "source": [
        "## Dataset\n",
        "\n",
        "### Overview\n",
        "TODO: In this markdown cell, give an overview of the dataset you are using. Also mention the task you will be performing.\n",
        "\n",
        "\n",
        "TODO: Get data. In the cell below, write code to access the data you will be using in this project. Remember that the dataset needs to be external."
      ],
      "metadata": {}
    },
    {
      "cell_type": "markdown",
      "source": [
        "Overview of data used\r\n",
        "\r\n",
        "Stroke is the 2nd leading cause of death globally, responsible for approximately 11% of total deaths, according to the WHO.\r\n",
        "This dataset is used to predict whether a patient is likely to get stroke based on the input parameters like gender, age, various diseases, and smoking status.\r\n",
        "The data contains 5110 observations with 12 attributes.\r\n",
        "This will be a binary classification task to predict whether a patient is likely to have a stroke or not. \r\n"
      ],
      "metadata": {
        "nteract": {
          "transient": {
            "deleting": false
          }
        }
      }
    },
    {
      "cell_type": "code",
      "source": [
        "ws = Workspace.from_config()\r\n",
        "\r\n",
        "# choose a name for experiment\r\n",
        "experiment_name = 'automl-stroke'\r\n",
        "\r\n",
        "experiment=Experiment(ws, experiment_name)"
      ],
      "outputs": [],
      "execution_count": 4,
      "metadata": {
        "gather": {
          "logged": 1632373260661
        },
        "jupyter": {
          "outputs_hidden": false,
          "source_hidden": false
        },
        "nteract": {
          "transient": {
            "deleting": false
          }
        }
      }
    },
    {
      "cell_type": "code",
      "source": [
        "#Access the external data needed for the project that has been downloaded from Kaggle and uploaded to the Azure workspace\r\n",
        "#This dataset, title Stroke Prediction Dataset, was downloaded from Kaggle for educational use. URL: https://www.kaggle.com/fedesoriano/stroke-prediction-dataset?select=healthcare-dataset-stroke-data.csv\r\n",
        "#The author of the dataset is fedesoriano\r\n",
        "\r\n",
        "# Load the registered dataset from workspace\r\n",
        "dataset = Dataset.get_by_name(ws, name='healthcare-dataset-stroke-data')\r\n",
        "\r\n",
        "# from azureml.data.dataset_factory import TabularDatasetFactory\r\n",
        "# from azureml.core.dataset import Dataset\r\n",
        "\r\n",
        "# url_paths = [\r\n",
        "#     \"https://www.kaggle.com/fedesoriano/stroke-prediction-dataset/download\"\r\n",
        "#     ]\r\n",
        "\r\n",
        "# # dataset = TabularDatasetFactory.from_delimited_files(path=url_paths)\r\n",
        "# dataset = Dataset.Tabular.from_delimited_files(path=url_paths)\r\n",
        "# type(dataset)\r\n",
        "\r\n",
        "# Convert the dataset to dataframe\r\n",
        "df = dataset.to_pandas_dataframe()\r\n",
        "df.info()"
      ],
      "outputs": [
        {
          "output_type": "stream",
          "name": "stdout",
          "text": "<class 'pandas.core.frame.DataFrame'>\nRangeIndex: 5110 entries, 0 to 5109\nData columns (total 11 columns):\ngender               5110 non-null object\nage                  5110 non-null float64\nhypertension         5110 non-null bool\nheart_disease        5110 non-null bool\never_married         5110 non-null bool\nwork_type            5110 non-null object\nResidence_type       5110 non-null object\navg_glucose_level    5110 non-null float64\nbmi                  4909 non-null float64\nsmoking_status       5110 non-null object\nstroke               5110 non-null bool\ndtypes: bool(4), float64(3), object(4)\nmemory usage: 299.5+ KB\n"
        }
      ],
      "execution_count": 5,
      "metadata": {
        "jupyter": {
          "source_hidden": false,
          "outputs_hidden": false
        },
        "nteract": {
          "transient": {
            "deleting": false
          }
        },
        "gather": {
          "logged": 1632373264443
        }
      }
    },
    {
      "cell_type": "code",
      "source": [
        "df.describe()"
      ],
      "outputs": [
        {
          "output_type": "execute_result",
          "execution_count": 6,
          "data": {
            "text/plain": "               age  avg_glucose_level          bmi\ncount  5110.000000        5110.000000  4909.000000\nmean     43.226614         106.147677    28.893237\nstd      22.612647          45.283560     7.854067\nmin       0.080000          55.120000    10.300000\n25%      25.000000          77.245000    23.500000\n50%      45.000000          91.885000    28.100000\n75%      61.000000         114.090000    33.100000\nmax      82.000000         271.740000    97.600000",
            "text/html": "<div>\n<style scoped>\n    .dataframe tbody tr th:only-of-type {\n        vertical-align: middle;\n    }\n\n    .dataframe tbody tr th {\n        vertical-align: top;\n    }\n\n    .dataframe thead th {\n        text-align: right;\n    }\n</style>\n<table border=\"1\" class=\"dataframe\">\n  <thead>\n    <tr style=\"text-align: right;\">\n      <th></th>\n      <th>age</th>\n      <th>avg_glucose_level</th>\n      <th>bmi</th>\n    </tr>\n  </thead>\n  <tbody>\n    <tr>\n      <th>count</th>\n      <td>5110.000000</td>\n      <td>5110.000000</td>\n      <td>4909.000000</td>\n    </tr>\n    <tr>\n      <th>mean</th>\n      <td>43.226614</td>\n      <td>106.147677</td>\n      <td>28.893237</td>\n    </tr>\n    <tr>\n      <th>std</th>\n      <td>22.612647</td>\n      <td>45.283560</td>\n      <td>7.854067</td>\n    </tr>\n    <tr>\n      <th>min</th>\n      <td>0.080000</td>\n      <td>55.120000</td>\n      <td>10.300000</td>\n    </tr>\n    <tr>\n      <th>25%</th>\n      <td>25.000000</td>\n      <td>77.245000</td>\n      <td>23.500000</td>\n    </tr>\n    <tr>\n      <th>50%</th>\n      <td>45.000000</td>\n      <td>91.885000</td>\n      <td>28.100000</td>\n    </tr>\n    <tr>\n      <th>75%</th>\n      <td>61.000000</td>\n      <td>114.090000</td>\n      <td>33.100000</td>\n    </tr>\n    <tr>\n      <th>max</th>\n      <td>82.000000</td>\n      <td>271.740000</td>\n      <td>97.600000</td>\n    </tr>\n  </tbody>\n</table>\n</div>"
          },
          "metadata": {}
        }
      ],
      "execution_count": 6,
      "metadata": {
        "jupyter": {
          "source_hidden": false,
          "outputs_hidden": false
        },
        "nteract": {
          "transient": {
            "deleting": false
          }
        },
        "gather": {
          "logged": 1632373264666
        }
      }
    },
    {
      "cell_type": "code",
      "source": [
        "df.head(10)"
      ],
      "outputs": [
        {
          "output_type": "execute_result",
          "execution_count": 7,
          "data": {
            "text/plain": "   gender   age  hypertension  heart_disease  ever_married      work_type  \\\n0    Male  67.0         False           True          True        Private   \n1  Female  61.0         False          False          True  Self-employed   \n2    Male  80.0         False           True          True        Private   \n3  Female  49.0         False          False          True        Private   \n4  Female  79.0          True          False          True  Self-employed   \n5    Male  81.0         False          False          True        Private   \n6    Male  74.0          True           True          True        Private   \n7  Female  69.0         False          False         False        Private   \n8  Female  59.0         False          False          True        Private   \n9  Female  78.0         False          False          True        Private   \n\n  Residence_type  avg_glucose_level   bmi   smoking_status  stroke  \n0          Urban             228.69  36.6  formerly smoked    True  \n1          Rural             202.21   NaN     never smoked    True  \n2          Rural             105.92  32.5     never smoked    True  \n3          Urban             171.23  34.4           smokes    True  \n4          Rural             174.12  24.0     never smoked    True  \n5          Urban             186.21  29.0  formerly smoked    True  \n6          Rural              70.09  27.4     never smoked    True  \n7          Urban              94.39  22.8     never smoked    True  \n8          Rural              76.15   NaN          Unknown    True  \n9          Urban              58.57  24.2          Unknown    True  ",
            "text/html": "<div>\n<style scoped>\n    .dataframe tbody tr th:only-of-type {\n        vertical-align: middle;\n    }\n\n    .dataframe tbody tr th {\n        vertical-align: top;\n    }\n\n    .dataframe thead th {\n        text-align: right;\n    }\n</style>\n<table border=\"1\" class=\"dataframe\">\n  <thead>\n    <tr style=\"text-align: right;\">\n      <th></th>\n      <th>gender</th>\n      <th>age</th>\n      <th>hypertension</th>\n      <th>heart_disease</th>\n      <th>ever_married</th>\n      <th>work_type</th>\n      <th>Residence_type</th>\n      <th>avg_glucose_level</th>\n      <th>bmi</th>\n      <th>smoking_status</th>\n      <th>stroke</th>\n    </tr>\n  </thead>\n  <tbody>\n    <tr>\n      <th>0</th>\n      <td>Male</td>\n      <td>67.0</td>\n      <td>False</td>\n      <td>True</td>\n      <td>True</td>\n      <td>Private</td>\n      <td>Urban</td>\n      <td>228.69</td>\n      <td>36.6</td>\n      <td>formerly smoked</td>\n      <td>True</td>\n    </tr>\n    <tr>\n      <th>1</th>\n      <td>Female</td>\n      <td>61.0</td>\n      <td>False</td>\n      <td>False</td>\n      <td>True</td>\n      <td>Self-employed</td>\n      <td>Rural</td>\n      <td>202.21</td>\n      <td>NaN</td>\n      <td>never smoked</td>\n      <td>True</td>\n    </tr>\n    <tr>\n      <th>2</th>\n      <td>Male</td>\n      <td>80.0</td>\n      <td>False</td>\n      <td>True</td>\n      <td>True</td>\n      <td>Private</td>\n      <td>Rural</td>\n      <td>105.92</td>\n      <td>32.5</td>\n      <td>never smoked</td>\n      <td>True</td>\n    </tr>\n    <tr>\n      <th>3</th>\n      <td>Female</td>\n      <td>49.0</td>\n      <td>False</td>\n      <td>False</td>\n      <td>True</td>\n      <td>Private</td>\n      <td>Urban</td>\n      <td>171.23</td>\n      <td>34.4</td>\n      <td>smokes</td>\n      <td>True</td>\n    </tr>\n    <tr>\n      <th>4</th>\n      <td>Female</td>\n      <td>79.0</td>\n      <td>True</td>\n      <td>False</td>\n      <td>True</td>\n      <td>Self-employed</td>\n      <td>Rural</td>\n      <td>174.12</td>\n      <td>24.0</td>\n      <td>never smoked</td>\n      <td>True</td>\n    </tr>\n    <tr>\n      <th>5</th>\n      <td>Male</td>\n      <td>81.0</td>\n      <td>False</td>\n      <td>False</td>\n      <td>True</td>\n      <td>Private</td>\n      <td>Urban</td>\n      <td>186.21</td>\n      <td>29.0</td>\n      <td>formerly smoked</td>\n      <td>True</td>\n    </tr>\n    <tr>\n      <th>6</th>\n      <td>Male</td>\n      <td>74.0</td>\n      <td>True</td>\n      <td>True</td>\n      <td>True</td>\n      <td>Private</td>\n      <td>Rural</td>\n      <td>70.09</td>\n      <td>27.4</td>\n      <td>never smoked</td>\n      <td>True</td>\n    </tr>\n    <tr>\n      <th>7</th>\n      <td>Female</td>\n      <td>69.0</td>\n      <td>False</td>\n      <td>False</td>\n      <td>False</td>\n      <td>Private</td>\n      <td>Urban</td>\n      <td>94.39</td>\n      <td>22.8</td>\n      <td>never smoked</td>\n      <td>True</td>\n    </tr>\n    <tr>\n      <th>8</th>\n      <td>Female</td>\n      <td>59.0</td>\n      <td>False</td>\n      <td>False</td>\n      <td>True</td>\n      <td>Private</td>\n      <td>Rural</td>\n      <td>76.15</td>\n      <td>NaN</td>\n      <td>Unknown</td>\n      <td>True</td>\n    </tr>\n    <tr>\n      <th>9</th>\n      <td>Female</td>\n      <td>78.0</td>\n      <td>False</td>\n      <td>False</td>\n      <td>True</td>\n      <td>Private</td>\n      <td>Urban</td>\n      <td>58.57</td>\n      <td>24.2</td>\n      <td>Unknown</td>\n      <td>True</td>\n    </tr>\n  </tbody>\n</table>\n</div>"
          },
          "metadata": {}
        }
      ],
      "execution_count": 7,
      "metadata": {
        "jupyter": {
          "source_hidden": false,
          "outputs_hidden": false
        },
        "nteract": {
          "transient": {
            "deleting": false
          }
        },
        "gather": {
          "logged": 1632373264857
        }
      }
    },
    {
      "cell_type": "code",
      "source": [
        "# Create the CPU computer cluster\r\n",
        "amlcompute_cluster_name = \"capstone\"\r\n",
        "\r\n",
        "# Verify if cluster does not exist otherwise use the existing one\r\n",
        "try:\r\n",
        "    compute_target = ComputeTarget(workspace=ws, name=amlcompute_cluster_name)\r\n",
        "    print('Found existing cluster, use it.')\r\n",
        "except ComputeTargetException:\r\n",
        "    compute_config = AmlCompute.provisioning_configuration(vm_size='Standard_DS12_V2',\r\n",
        "                                                           vm_priority = 'lowpriority', \r\n",
        "                                                           max_nodes=5,\r\n",
        "                                                           min_nodes=0,\r\n",
        "                                                           idle_seconds_before_scaledown=600)\r\n",
        "    compute_target = ComputeTarget.create(ws, amlcompute_cluster_name, compute_config)\r\n",
        "\r\n",
        "compute_target.wait_for_completion(show_output=True)"
      ],
      "outputs": [
        {
          "output_type": "stream",
          "name": "stdout",
          "text": "InProgress....\nSucceededProvisioning operation finished, operation \"Succeeded\"\nSucceeded\nAmlCompute wait for completion finished\n\nMinimum number of nodes requested have been provisioned\n"
        }
      ],
      "execution_count": 8,
      "metadata": {
        "jupyter": {
          "source_hidden": false,
          "outputs_hidden": false
        },
        "nteract": {
          "transient": {
            "deleting": false
          }
        },
        "gather": {
          "logged": 1632373285222
        }
      }
    },
    {
      "cell_type": "markdown",
      "source": [
        "## AutoML Configuration\n",
        "\n",
        "TODO: Explain why you chose the automl settings and cofiguration you used below."
      ],
      "metadata": {}
    },
    {
      "cell_type": "markdown",
      "source": [
        "Overview of the AutoML settings and the configuration that was used:\r\n",
        "- \"experiment_timeout_minutes\": set to 30 minutes. The experiment will timeout after after this period of time to avoid incurring additional expense.\r\n",
        "- \"max_concurrent_iterations\": set to 4. The max number of concurrent iterations that can be run on the nodes in the compute cluster.\r\n",
        "- \"primary_metric\" : set to 'accuracy' because this is a classification problems.\r\n",
        "- \"n_cross_validations\": set to 5, therefore the training and validation sets will be divided into five equal sets.\r\n",
        "- \"iterations\": set to 25. \r\n",
        "- compute_target: set to the CPU compute cluster name defined above.\r\n",
        "- task: set to 'classification' because our target is to predict whether the patient had a stroke or not.\r\n",
        "- training_data: the dataset for the project.\r\n",
        "- label_column_name: set to the target colunm in the dataset 'stroke' (true or false).\r\n",
        "- enable_early_stopping: enabled to terminate the experiment if the accuracy score does not improveme over time, thus avoiding unnecessary costs.\r\n",
        "- featurization = set to 'auto' so Azure ML will automatically handle featurization and clean the dataset. \r\n",
        "- debug_log: errors will be logged into 'automl_errors.log'."
      ],
      "metadata": {
        "nteract": {
          "transient": {
            "deleting": false
          }
        }
      }
    },
    {
      "cell_type": "code",
      "source": [
        "\r\n",
        "\r\n",
        "# TODO: Put your automl settings here\r\n",
        "automl_settings = {\r\n",
        "    \"experiment_timeout_minutes\": 30,\r\n",
        "    \"max_concurrent_iterations\": 4,\r\n",
        "    \"primary_metric\" : 'accuracy',\r\n",
        "    \"n_cross_validations\": 5,\r\n",
        "    \"iterations\": 25\r\n",
        "    }\r\n",
        "\r\n",
        "# TODO: Put your automl config here\r\n",
        "automl_config = AutoMLConfig(\r\n",
        "    compute_target=compute_target,\r\n",
        "    task = 'classification',\r\n",
        "    training_data=dataset,\r\n",
        "    label_column_name='stroke',\r\n",
        "    enable_early_stopping= True,\r\n",
        "    featurization = 'auto',\r\n",
        "    debug_log = 'automl_errors.log',\r\n",
        "    **automl_settings)\r\n"
      ],
      "outputs": [],
      "execution_count": 9,
      "metadata": {
        "gather": {
          "logged": 1632373285467
        },
        "jupyter": {
          "outputs_hidden": false,
          "source_hidden": false
        },
        "nteract": {
          "transient": {
            "deleting": false
          }
        }
      }
    },
    {
      "cell_type": "code",
      "source": [
        "# TODO: Submit your experiment\r\n",
        "remote_run = experiment.submit(automl_config, show_output = True)"
      ],
      "outputs": [
        {
          "output_type": "stream",
          "name": "stdout",
          "text": "Submitting remote run.\nNo run_configuration provided, running on capstone with default configuration\nRunning on remote compute: capstone\n"
        },
        {
          "output_type": "display_data",
          "data": {
            "text/plain": "<IPython.core.display.HTML object>",
            "text/html": "<table style=\"width:100%\"><tr><th>Experiment</th><th>Id</th><th>Type</th><th>Status</th><th>Details Page</th><th>Docs Page</th></tr><tr><td>automl-stroke</td><td>AutoML_4ab0a4e3-709f-4fe5-90bb-e237e0f21eda</td><td>automl</td><td>NotStarted</td><td><a href=\"https://ml.azure.com/runs/AutoML_4ab0a4e3-709f-4fe5-90bb-e237e0f21eda?wsid=/subscriptions/bd6c48f0-b2f5-4fd8-b4de-3351b13cbee8/resourcegroups/udacity-nano-degree/workspaces/udacity-courtlin&amp;tid=3920f434-053b-4f53-aa54-b09a04e8f6dd\" target=\"_blank\" rel=\"noopener\">Link to Azure Machine Learning studio</a></td><td><a href=\"https://docs.microsoft.com/en-us/python/api/overview/azure/ml/intro?view=azure-ml-py\" target=\"_blank\" rel=\"noopener\">Link to Documentation</a></td></tr></table>"
          },
          "metadata": {}
        },
        {
          "output_type": "stream",
          "name": "stdout",
          "text": "\nCurrent status: FeaturesGeneration. Generating features for the dataset.\nCurrent status: DatasetCrossValidationSplit. Generating individually featurized CV splits.\nCurrent status: ModelSelection. Beginning model selection.\n\n****************************************************************************************************\nDATA GUARDRAILS: \n\nTYPE:         Class balancing detection\nSTATUS:       ALERTED\nDESCRIPTION:  To decrease model bias, please cancel the current run and fix balancing problem.\n              Learn more about imbalanced data: https://aka.ms/AutomatedMLImbalancedData\nDETAILS:      Imbalanced data can lead to a falsely perceived positive effect of a model's accuracy because the input data has bias towards one class.\n+---------------------------------+---------------------------------+--------------------------------------+\n|Size of the smallest class       |Name/Label of the smallest class |Number of samples in the training data|\n+=================================+=================================+======================================+\n|249                              |True                             |5110                                  |\n+---------------------------------+---------------------------------+--------------------------------------+\n\n****************************************************************************************************\n\nTYPE:         Missing feature values imputation\nSTATUS:       DONE\nDESCRIPTION:  If the missing values are expected, let the run complete. Otherwise cancel the current run and use a script to customize the handling of missing feature values that may be more appropriate based on the data type and business requirement.\n              Learn more about missing value imputation: https://aka.ms/AutomatedMLFeaturization\nDETAILS:      \n+---------------------------------+---------------------------------+---------------------------------+\n|Column name                      |Missing value count              |Imputation type                  |\n+=================================+=================================+=================================+\n|bmi                              |201                              |mean                             |\n+---------------------------------+---------------------------------+---------------------------------+\n\n****************************************************************************************************\n\nTYPE:         High cardinality feature detection\nSTATUS:       PASSED\nDESCRIPTION:  Your inputs were analyzed, and no high cardinality features were detected.\n              Learn more about high cardinality feature handling: https://aka.ms/AutomatedMLFeaturization\n\n****************************************************************************************************\n\n****************************************************************************************************\nITERATION: The iteration being evaluated.\nPIPELINE: A summary description of the pipeline being evaluated.\nDURATION: Time taken for the current iteration.\nMETRIC: The result of computing score on the fitted pipeline.\nBEST: The best observed score thus far.\n****************************************************************************************************\n\n ITERATION   PIPELINE                                       DURATION      METRIC      BEST\n         2   MaxAbsScaler ExtremeRandomTrees                0:00:42       0.7037    0.7037\n         1   MaxAbsScaler XGBoostClassifier                 0:00:41       0.9509    0.9509\n         3   SparseNormalizer XGBoostClassifier             0:00:38       0.9509    0.9509\n         0   MaxAbsScaler LightGBM                          0:00:39       0.9481    0.9509\n         7   MaxAbsScaler LogisticRegression                0:00:40       0.9497    0.9509\n         4   MaxAbsScaler LightGBM                          0:01:26       0.9513    0.9513\n         5   MaxAbsScaler LightGBM                          0:01:27       0.9513    0.9513\n         6   StandardScalerWrapper XGBoostClassifier        0:01:25       0.9515    0.9515\n         8   StandardScalerWrapper ExtremeRandomTrees       0:00:54       0.9513    0.9515\n        10   SparseNormalizer LightGBM                      0:00:37       0.9513    0.9515\n        11   StandardScalerWrapper XGBoostClassifier        0:00:40       0.9511    0.9515\n         9   StandardScalerWrapper XGBoostClassifier        0:00:36       0.9513    0.9515\n        12   MaxAbsScaler LogisticRegression                0:00:40       0.9501    0.9515\n        13   MaxAbsScaler SGD                               0:00:37       0.7211    0.9515\n        14   StandardScalerWrapper XGBoostClassifier        0:00:38       0.9517    0.9517\n        15   SparseNormalizer RandomForest                  0:00:40       0.8112    0.9517\n        16   StandardScalerWrapper LogisticRegression       0:00:39       0.9497    0.9517\n        17   StandardScalerWrapper RandomForest             0:00:38       0.9513    0.9517\n        18   StandardScalerWrapper XGBoostClassifier        0:00:37       0.9519    0.9519\n        19   TruncatedSVDWrapper RandomForest               0:00:44       0.7202    0.9519\n        21   StandardScalerWrapper XGBoostClassifier        0:00:38       0.9513    0.9519\n        22   SparseNormalizer XGBoostClassifier             0:00:37       0.9491    0.9519\n        20   TruncatedSVDWrapper RandomForest               0:00:55       0.8094    0.9519\n        23    VotingEnsemble                                0:00:50       0.9524    0.9524\n        24    StackEnsemble                                 0:00:52       0.9505    0.9524\n"
        }
      ],
      "execution_count": 10,
      "metadata": {
        "gather": {
          "logged": 1632374386828
        },
        "jupyter": {
          "outputs_hidden": false,
          "source_hidden": false
        },
        "nteract": {
          "transient": {
            "deleting": false
          }
        }
      }
    },
    {
      "cell_type": "markdown",
      "source": [
        "## Run Details\n",
        "\n",
        "OPTIONAL: Write about the different models trained and their performance. Why do you think some models did better than others?\n",
        "\n",
        "TODO: In the cell below, use the `RunDetails` widget to show the different experiments."
      ],
      "metadata": {}
    },
    {
      "cell_type": "code",
      "source": [
        "from azureml.widgets import RunDetails\r\n",
        "RunDetails(remote_run).show()"
      ],
      "outputs": [
        {
          "output_type": "display_data",
          "data": {
            "text/plain": "_AutoMLWidget(widget_settings={'childWidgetDisplay': 'popup', 'send_telemetry': False, 'log_level': 'INFO', 's…",
            "application/vnd.jupyter.widget-view+json": {
              "version_major": 2,
              "version_minor": 0,
              "model_id": "36538d1436154a79a6563ef947f53643"
            }
          },
          "metadata": {}
        },
        {
          "output_type": "display_data",
          "data": {
            "application/aml.mini.widget.v1": "{\"status\": \"Completed\", \"workbench_run_details_uri\": \"https://ml.azure.com/runs/AutoML_4ab0a4e3-709f-4fe5-90bb-e237e0f21eda?wsid=/subscriptions/bd6c48f0-b2f5-4fd8-b4de-3351b13cbee8/resourcegroups/udacity-nano-degree/workspaces/udacity-courtlin&tid=3920f434-053b-4f53-aa54-b09a04e8f6dd\", \"run_id\": \"AutoML_4ab0a4e3-709f-4fe5-90bb-e237e0f21eda\", \"run_properties\": {\"run_id\": \"AutoML_4ab0a4e3-709f-4fe5-90bb-e237e0f21eda\", \"created_utc\": \"2021-09-23T05:01:27.693734Z\", \"properties\": {\"num_iterations\": \"25\", \"training_type\": \"TrainFull\", \"acquisition_function\": \"EI\", \"primary_metric\": \"accuracy\", \"train_split\": \"0\", \"acquisition_parameter\": \"0\", \"num_cross_validation\": \"5\", \"target\": \"capstone\", \"AMLSettingsJsonString\": \"{\\\"path\\\":null,\\\"name\\\":\\\"automl-stroke\\\",\\\"subscription_id\\\":\\\"bd6c48f0-b2f5-4fd8-b4de-3351b13cbee8\\\",\\\"resource_group\\\":\\\"udacity-nano-degree\\\",\\\"workspace_name\\\":\\\"udacity-courtlin\\\",\\\"region\\\":\\\"eastus2\\\",\\\"compute_target\\\":\\\"capstone\\\",\\\"spark_service\\\":null,\\\"azure_service\\\":\\\"remote\\\",\\\"many_models\\\":false,\\\"pipeline_fetch_max_batch_size\\\":1,\\\"enable_batch_run\\\":false,\\\"enable_run_restructure\\\":false,\\\"start_auxiliary_runs_before_parent_complete\\\":false,\\\"enable_code_generation\\\":false,\\\"iterations\\\":25,\\\"primary_metric\\\":\\\"accuracy\\\",\\\"task_type\\\":\\\"classification\\\",\\\"data_script\\\":null,\\\"test_size\\\":0.0,\\\"validation_size\\\":0.0,\\\"n_cross_validations\\\":5,\\\"y_min\\\":null,\\\"y_max\\\":null,\\\"num_classes\\\":null,\\\"featurization\\\":\\\"auto\\\",\\\"_ignore_package_version_incompatibilities\\\":false,\\\"is_timeseries\\\":false,\\\"max_cores_per_iteration\\\":1,\\\"max_concurrent_iterations\\\":4,\\\"iteration_timeout_minutes\\\":null,\\\"mem_in_mb\\\":null,\\\"enforce_time_on_windows\\\":false,\\\"experiment_timeout_minutes\\\":30,\\\"experiment_exit_score\\\":null,\\\"whitelist_models\\\":null,\\\"blacklist_algos\\\":[\\\"TensorFlowLinearClassifier\\\",\\\"TensorFlowDNN\\\"],\\\"supported_models\\\":[\\\"LightGBM\\\",\\\"AveragedPerceptronClassifier\\\",\\\"GradientBoosting\\\",\\\"TensorFlowDNN\\\",\\\"ExtremeRandomTrees\\\",\\\"BernoulliNaiveBayes\\\",\\\"KNN\\\",\\\"SGD\\\",\\\"MultinomialNaiveBayes\\\",\\\"LogisticRegression\\\",\\\"TensorFlowLinearClassifier\\\",\\\"LinearSVM\\\",\\\"DecisionTree\\\",\\\"SVM\\\",\\\"XGBoostClassifier\\\",\\\"RandomForest\\\"],\\\"private_models\\\":[],\\\"auto_blacklist\\\":true,\\\"blacklist_samples_reached\\\":false,\\\"exclude_nan_labels\\\":true,\\\"verbosity\\\":20,\\\"_debug_log\\\":\\\"azureml_automl.log\\\",\\\"show_warnings\\\":false,\\\"model_explainability\\\":true,\\\"service_url\\\":null,\\\"sdk_url\\\":null,\\\"sdk_packages\\\":null,\\\"enable_onnx_compatible_models\\\":false,\\\"enable_split_onnx_featurizer_estimator_models\\\":false,\\\"vm_type\\\":\\\"STANDARD_DS12_V2\\\",\\\"telemetry_verbosity\\\":20,\\\"send_telemetry\\\":true,\\\"enable_dnn\\\":false,\\\"scenario\\\":\\\"SDK-1.13.0\\\",\\\"environment_label\\\":null,\\\"save_mlflow\\\":false,\\\"force_text_dnn\\\":false,\\\"enable_feature_sweeping\\\":true,\\\"enable_early_stopping\\\":true,\\\"early_stopping_n_iters\\\":10,\\\"metrics\\\":null,\\\"enable_metric_confidence\\\":false,\\\"enable_ensembling\\\":true,\\\"enable_stack_ensembling\\\":true,\\\"ensemble_iterations\\\":15,\\\"enable_tf\\\":false,\\\"enable_subsampling\\\":false,\\\"subsample_seed\\\":null,\\\"enable_nimbusml\\\":false,\\\"enable_streaming\\\":false,\\\"force_streaming\\\":false,\\\"track_child_runs\\\":true,\\\"allowed_private_models\\\":[],\\\"label_column_name\\\":\\\"stroke\\\",\\\"weight_column_name\\\":null,\\\"cv_split_column_names\\\":null,\\\"enable_local_managed\\\":false,\\\"_local_managed_run_id\\\":null,\\\"cost_mode\\\":1,\\\"lag_length\\\":0,\\\"metric_operation\\\":\\\"maximize\\\",\\\"preprocess\\\":true}\", \"DataPrepJsonString\": \"{\\\\\\\"training_data\\\\\\\": {\\\\\\\"datasetId\\\\\\\": \\\\\\\"a27e1f62-cf55-4c30-9a82-0bbad12df2ab\\\\\\\"}, \\\\\\\"datasets\\\\\\\": 0}\", \"EnableSubsampling\": \"False\", \"runTemplate\": \"AutoML\", \"azureml.runsource\": \"automl\", \"display_task_type\": \"classification\", \"dependencies_versions\": \"{\\\"azureml-widgets\\\": \\\"1.33.0\\\", \\\"azureml-train\\\": \\\"1.33.0\\\", \\\"azureml-train-restclients-hyperdrive\\\": \\\"1.33.0\\\", \\\"azureml-train-core\\\": \\\"1.33.0\\\", \\\"azureml-train-automl\\\": \\\"1.33.0\\\", \\\"azureml-train-automl-runtime\\\": \\\"1.33.0\\\", \\\"azureml-train-automl-client\\\": \\\"1.33.0\\\", \\\"azureml-tensorboard\\\": \\\"1.33.0\\\", \\\"azureml-telemetry\\\": \\\"1.33.0\\\", \\\"azureml-sdk\\\": \\\"1.33.0\\\", \\\"azureml-samples\\\": \\\"0+unknown\\\", \\\"azureml-responsibleai\\\": \\\"1.33.0\\\", \\\"azureml-pipeline\\\": \\\"1.33.0\\\", \\\"azureml-pipeline-steps\\\": \\\"1.33.0\\\", \\\"azureml-pipeline-core\\\": \\\"1.33.0\\\", \\\"azureml-opendatasets\\\": \\\"1.33.0\\\", \\\"azureml-mlflow\\\": \\\"1.33.0\\\", \\\"azureml-interpret\\\": \\\"1.33.0\\\", \\\"azureml-explain-model\\\": \\\"1.33.0\\\", \\\"azureml-defaults\\\": \\\"1.33.0\\\", \\\"azureml-dataset-runtime\\\": \\\"1.33.0\\\", \\\"azureml-dataprep\\\": \\\"2.20.1\\\", \\\"azureml-dataprep-rslex\\\": \\\"1.18.0\\\", \\\"azureml-dataprep-native\\\": \\\"38.0.0\\\", \\\"azureml-datadrift\\\": \\\"1.33.0\\\", \\\"azureml-core\\\": \\\"1.33.0\\\", \\\"azureml-contrib-services\\\": \\\"1.33.0\\\", \\\"azureml-contrib-server\\\": \\\"1.33.0\\\", \\\"azureml-contrib-reinforcementlearning\\\": \\\"1.33.0\\\", \\\"azureml-contrib-pipeline-steps\\\": \\\"1.33.0\\\", \\\"azureml-contrib-notebook\\\": \\\"1.33.0\\\", \\\"azureml-contrib-fairness\\\": \\\"1.33.0\\\", \\\"azureml-contrib-dataset\\\": \\\"1.33.0\\\", \\\"azureml-cli-common\\\": \\\"1.33.0\\\", \\\"azureml-automl-runtime\\\": \\\"1.33.0\\\", \\\"azureml-automl-dnn-nlp\\\": \\\"1.33.0\\\", \\\"azureml-automl-core\\\": \\\"1.33.0\\\", \\\"azureml-accel-models\\\": \\\"1.33.0\\\"}\", \"_aml_system_scenario_identification\": \"Remote.Parent\", \"ClientType\": \"SDK\", \"environment_cpu_name\": \"AzureML-AutoML\", \"environment_cpu_label\": \"prod\", \"environment_gpu_name\": \"AzureML-AutoML-GPU\", \"environment_gpu_label\": \"prod\", \"root_attribution\": \"automl\", \"attribution\": \"AutoML\", \"Orchestrator\": \"AutoML\", \"CancelUri\": \"https://eastus2.api.azureml.ms/jasmine/v1.0/subscriptions/bd6c48f0-b2f5-4fd8-b4de-3351b13cbee8/resourceGroups/udacity-nano-degree/providers/Microsoft.MachineLearningServices/workspaces/udacity-courtlin/experimentids/c12ba66d-8fe7-450a-84a3-d3aba995318e/cancel/AutoML_4ab0a4e3-709f-4fe5-90bb-e237e0f21eda\", \"ClientSdkVersion\": \"1.34.0\", \"snapshotId\": \"00000000-0000-0000-0000-000000000000\", \"SetupRunId\": \"AutoML_4ab0a4e3-709f-4fe5-90bb-e237e0f21eda_setup\", \"SetupRunContainerId\": \"dcid.AutoML_4ab0a4e3-709f-4fe5-90bb-e237e0f21eda_setup\", \"FeaturizationRunJsonPath\": \"featurizer_container.json\", \"FeaturizationRunId\": \"AutoML_4ab0a4e3-709f-4fe5-90bb-e237e0f21eda_featurize\", \"ProblemInfoJsonString\": \"{\\\"dataset_num_categorical\\\": 0, \\\"is_sparse\\\": true, \\\"subsampling\\\": false, \\\"has_extra_col\\\": true, \\\"dataset_classes\\\": 2, \\\"dataset_features\\\": 20, \\\"dataset_samples\\\": 5110, \\\"single_frequency_class_detected\\\": false}\", \"ModelExplainRunId\": \"AutoML_4ab0a4e3-709f-4fe5-90bb-e237e0f21eda_ModelExplain\"}, \"tags\": {\"model_explain_run\": \"best_run\", \"_aml_system_azureml.automlComponent\": \"AutoML\", \"pipeline_id\": \"\", \"score\": \"\", \"predicted_cost\": \"\", \"fit_time\": \"\", \"training_percent\": \"\", \"iteration\": \"\", \"run_preprocessor\": \"\", \"run_algorithm\": \"\", \"automl_best_child_run_id\": \"AutoML_4ab0a4e3-709f-4fe5-90bb-e237e0f21eda_23\", \"model_explain_best_run_child_id\": \"AutoML_4ab0a4e3-709f-4fe5-90bb-e237e0f21eda_23\"}, \"end_time_utc\": \"2021-09-23T05:19:30.206177Z\", \"status\": \"Completed\", \"log_files\": {}, \"log_groups\": [], \"run_duration\": \"0:18:02\", \"run_number\": \"31\", \"run_queued_details\": {\"status\": \"Completed\", \"details\": null}}, \"child_runs\": [{\"run_id\": \"AutoML_4ab0a4e3-709f-4fe5-90bb-e237e0f21eda_0\", \"run_number\": 35, \"metric\": null, \"status\": \"Completed\", \"run_type\": \"azureml.scriptrun\", \"training_percent\": \"100\", \"start_time\": \"2021-09-23T05:12:45.546451Z\", \"end_time\": \"2021-09-23T05:13:24.732885Z\", \"created_time\": \"2021-09-23T05:09:41.956331Z\", \"created_time_dt\": \"2021-09-23T05:09:41.956331Z\", \"duration\": \"0:03:42\", \"iteration\": \"0\", \"goal\": \"accuracy_max\", \"run_name\": \"MaxAbsScaler, LightGBM\", \"run_properties\": \"copy=True\", \"primary_metric\": 0.9481409, \"best_metric\": 0.9481409}, {\"run_id\": \"AutoML_4ab0a4e3-709f-4fe5-90bb-e237e0f21eda_2\", \"run_number\": 36, \"metric\": null, \"status\": \"Completed\", \"run_type\": \"azureml.scriptrun\", \"training_percent\": \"100\", \"start_time\": \"2021-09-23T05:09:56.018607Z\", \"end_time\": \"2021-09-23T05:10:38.165454Z\", \"created_time\": \"2021-09-23T05:09:41.96757Z\", \"created_time_dt\": \"2021-09-23T05:09:41.96757Z\", \"duration\": \"0:00:56\", \"iteration\": \"2\", \"goal\": \"accuracy_max\", \"run_name\": \"MaxAbsScaler, ExtremeRandomTrees\", \"run_properties\": \"copy=True\", \"primary_metric\": 0.7037182, \"best_metric\": 0.95088063}, {\"run_id\": \"AutoML_4ab0a4e3-709f-4fe5-90bb-e237e0f21eda_1\", \"run_number\": 37, \"metric\": null, \"status\": \"Completed\", \"run_type\": \"azureml.scriptrun\", \"training_percent\": \"100\", \"start_time\": \"2021-09-23T05:10:53.746598Z\", \"end_time\": \"2021-09-23T05:11:34.64487Z\", \"created_time\": \"2021-09-23T05:09:41.987575Z\", \"created_time_dt\": \"2021-09-23T05:09:41.987575Z\", \"duration\": \"0:01:52\", \"iteration\": \"1\", \"goal\": \"accuracy_max\", \"run_name\": \"MaxAbsScaler, XGBoostClassifier\", \"run_properties\": \"copy=True\", \"primary_metric\": 0.95088063, \"best_metric\": 0.95088063}, {\"run_id\": \"AutoML_4ab0a4e3-709f-4fe5-90bb-e237e0f21eda_3\", \"run_number\": 38, \"metric\": null, \"status\": \"Completed\", \"run_type\": \"azureml.scriptrun\", \"training_percent\": \"100\", \"start_time\": \"2021-09-23T05:11:50.06566Z\", \"end_time\": \"2021-09-23T05:12:28.499079Z\", \"created_time\": \"2021-09-23T05:09:41.985528Z\", \"created_time_dt\": \"2021-09-23T05:09:41.985528Z\", \"duration\": \"0:02:46\", \"iteration\": \"3\", \"goal\": \"accuracy_max\", \"run_name\": \"SparseNormalizer, XGBoostClassifier\", \"run_properties\": \"copy=True, norm='l2'\", \"primary_metric\": 0.95088063, \"best_metric\": 0.95088063}, {\"run_id\": \"AutoML_4ab0a4e3-709f-4fe5-90bb-e237e0f21eda_4\", \"run_number\": 39, \"metric\": null, \"status\": \"Completed\", \"run_type\": \"azureml.scriptrun\", \"training_percent\": \"100\", \"start_time\": \"2021-09-23T05:13:15.386837Z\", \"end_time\": \"2021-09-23T05:14:41.824208Z\", \"created_time\": \"2021-09-23T05:10:43.188477Z\", \"created_time_dt\": \"2021-09-23T05:10:43.188477Z\", \"duration\": \"0:03:58\", \"iteration\": \"4\", \"goal\": \"accuracy_max\", \"run_name\": \"MaxAbsScaler, LightGBM\", \"run_properties\": \"copy=True\", \"primary_metric\": 0.95127202, \"best_metric\": 0.95127202}, {\"run_id\": \"AutoML_4ab0a4e3-709f-4fe5-90bb-e237e0f21eda_5\", \"run_number\": 40, \"metric\": null, \"status\": \"Completed\", \"run_type\": \"azureml.scriptrun\", \"training_percent\": \"100\", \"start_time\": \"2021-09-23T05:13:17.569477Z\", \"end_time\": \"2021-09-23T05:14:44.394264Z\", \"created_time\": \"2021-09-23T05:11:36.97051Z\", \"created_time_dt\": \"2021-09-23T05:11:36.97051Z\", \"duration\": \"0:03:07\", \"iteration\": \"5\", \"goal\": \"accuracy_max\", \"run_name\": \"MaxAbsScaler, LightGBM\", \"run_properties\": \"copy=True\", \"primary_metric\": 0.95127202, \"best_metric\": 0.95127202}, {\"run_id\": \"AutoML_4ab0a4e3-709f-4fe5-90bb-e237e0f21eda_6\", \"run_number\": 41, \"metric\": null, \"status\": \"Completed\", \"run_type\": \"azureml.scriptrun\", \"training_percent\": \"100\", \"start_time\": \"2021-09-23T05:13:19.183088Z\", \"end_time\": \"2021-09-23T05:14:44.328893Z\", \"created_time\": \"2021-09-23T05:12:30.932273Z\", \"created_time_dt\": \"2021-09-23T05:12:30.932273Z\", \"duration\": \"0:02:13\", \"iteration\": \"6\", \"goal\": \"accuracy_max\", \"run_name\": \"StandardScalerWrapper, XGBoostClassifier\", \"run_properties\": \"\\n    copy=True,\\n    with_mean=False,\\n    with_std=False\\n\", \"primary_metric\": 0.95146771, \"best_metric\": 0.95146771}, {\"run_id\": \"AutoML_4ab0a4e3-709f-4fe5-90bb-e237e0f21eda_7\", \"run_number\": 42, \"metric\": null, \"status\": \"Completed\", \"run_type\": \"azureml.scriptrun\", \"training_percent\": \"100\", \"start_time\": \"2021-09-23T05:13:40.006507Z\", \"end_time\": \"2021-09-23T05:14:19.657913Z\", \"created_time\": \"2021-09-23T05:13:26.945463Z\", \"created_time_dt\": \"2021-09-23T05:13:26.945463Z\", \"duration\": \"0:00:52\", \"iteration\": \"7\", \"goal\": \"accuracy_max\", \"run_name\": \"MaxAbsScaler, LogisticRegression\", \"run_properties\": \"copy=True\", \"primary_metric\": 0.94970646, \"best_metric\": 0.95146771}, {\"run_id\": \"AutoML_4ab0a4e3-709f-4fe5-90bb-e237e0f21eda_8\", \"run_number\": 43, \"metric\": null, \"status\": \"Completed\", \"run_type\": \"azureml.scriptrun\", \"training_percent\": \"100\", \"start_time\": \"2021-09-23T05:14:34.561916Z\", \"end_time\": \"2021-09-23T05:15:28.418952Z\", \"created_time\": \"2021-09-23T05:14:22.000584Z\", \"created_time_dt\": \"2021-09-23T05:14:22.000584Z\", \"duration\": \"0:01:06\", \"iteration\": \"8\", \"goal\": \"accuracy_max\", \"run_name\": \"StandardScalerWrapper, ExtremeRandomTrees\", \"run_properties\": \"\\n    copy=True,\\n    with_mean=False,\\n    with_std=False\\n\", \"primary_metric\": 0.95127202, \"best_metric\": 0.95146771}, {\"run_id\": \"AutoML_4ab0a4e3-709f-4fe5-90bb-e237e0f21eda_9\", \"run_number\": 44, \"metric\": null, \"status\": \"Completed\", \"run_type\": \"azureml.scriptrun\", \"training_percent\": \"100\", \"start_time\": \"2021-09-23T05:14:59.439039Z\", \"end_time\": \"2021-09-23T05:15:35.883181Z\", \"created_time\": \"2021-09-23T05:14:43.950328Z\", \"created_time_dt\": \"2021-09-23T05:14:43.950328Z\", \"duration\": \"0:00:51\", \"iteration\": \"9\", \"goal\": \"accuracy_max\", \"run_name\": \"StandardScalerWrapper, XGBoostClassifier\", \"run_properties\": \"\\n    copy=True,\\n    with_mean=False,\\n    with_std=False\\n\", \"primary_metric\": 0.95127202, \"best_metric\": 0.95146771}, {\"run_id\": \"AutoML_4ab0a4e3-709f-4fe5-90bb-e237e0f21eda_10\", \"run_number\": 45, \"metric\": null, \"status\": \"Completed\", \"run_type\": \"azureml.scriptrun\", \"training_percent\": \"100\", \"start_time\": \"2021-09-23T05:14:58.795604Z\", \"end_time\": \"2021-09-23T05:15:36.008557Z\", \"created_time\": \"2021-09-23T05:14:47.488591Z\", \"created_time_dt\": \"2021-09-23T05:14:47.488591Z\", \"duration\": \"0:00:48\", \"iteration\": \"10\", \"goal\": \"accuracy_max\", \"run_name\": \"SparseNormalizer, LightGBM\", \"run_properties\": \"copy=True, norm='l1'\", \"primary_metric\": 0.95127202, \"best_metric\": 0.95146771}, {\"run_id\": \"AutoML_4ab0a4e3-709f-4fe5-90bb-e237e0f21eda_11\", \"run_number\": 46, \"metric\": null, \"status\": \"Completed\", \"run_type\": \"azureml.scriptrun\", \"training_percent\": \"100\", \"start_time\": \"2021-09-23T05:15:03.134735Z\", \"end_time\": \"2021-09-23T05:15:42.786856Z\", \"created_time\": \"2021-09-23T05:14:47.49607Z\", \"created_time_dt\": \"2021-09-23T05:14:47.49607Z\", \"duration\": \"0:00:55\", \"iteration\": \"11\", \"goal\": \"accuracy_max\", \"run_name\": \"StandardScalerWrapper, XGBoostClassifier\", \"run_properties\": \"\\n    copy=True,\\n    with_mean=False,\\n    with_std=False\\n\", \"primary_metric\": 0.95107632, \"best_metric\": 0.95146771}, {\"run_id\": \"AutoML_4ab0a4e3-709f-4fe5-90bb-e237e0f21eda_12\", \"run_number\": 47, \"metric\": null, \"status\": \"Completed\", \"run_type\": \"azureml.scriptrun\", \"training_percent\": \"100\", \"start_time\": \"2021-09-23T05:15:44.289533Z\", \"end_time\": \"2021-09-23T05:16:24.557341Z\", \"created_time\": \"2021-09-23T05:15:30.635977Z\", \"created_time_dt\": \"2021-09-23T05:15:30.635977Z\", \"duration\": \"0:00:53\", \"iteration\": \"12\", \"goal\": \"accuracy_max\", \"run_name\": \"MaxAbsScaler, LogisticRegression\", \"run_properties\": \"copy=True\", \"primary_metric\": 0.95009785, \"best_metric\": 0.95146771}, {\"run_id\": \"AutoML_4ab0a4e3-709f-4fe5-90bb-e237e0f21eda_14\", \"run_number\": 48, \"metric\": null, \"status\": \"Completed\", \"run_type\": \"azureml.scriptrun\", \"training_percent\": \"100\", \"start_time\": \"2021-09-23T05:15:53.401927Z\", \"end_time\": \"2021-09-23T05:16:31.285672Z\", \"created_time\": \"2021-09-23T05:15:38.067551Z\", \"created_time_dt\": \"2021-09-23T05:15:38.067551Z\", \"duration\": \"0:00:53\", \"iteration\": \"14\", \"goal\": \"accuracy_max\", \"run_name\": \"StandardScalerWrapper, XGBoostClassifier\", \"run_properties\": \"\\n    copy=True,\\n    with_mean=False,\\n    with_std=False\\n\", \"primary_metric\": 0.95166341, \"best_metric\": 0.95166341}, {\"run_id\": \"AutoML_4ab0a4e3-709f-4fe5-90bb-e237e0f21eda_13\", \"run_number\": 49, \"metric\": null, \"status\": \"Completed\", \"run_type\": \"azureml.scriptrun\", \"training_percent\": \"100\", \"start_time\": \"2021-09-23T05:15:53.366835Z\", \"end_time\": \"2021-09-23T05:16:29.932379Z\", \"created_time\": \"2021-09-23T05:15:38.080297Z\", \"created_time_dt\": \"2021-09-23T05:15:38.080297Z\", \"duration\": \"0:00:51\", \"iteration\": \"13\", \"goal\": \"accuracy_max\", \"run_name\": \"MaxAbsScaler, SGD\", \"run_properties\": \"copy=True\", \"primary_metric\": 0.72113503, \"best_metric\": 0.95146771}, {\"run_id\": \"AutoML_4ab0a4e3-709f-4fe5-90bb-e237e0f21eda_15\", \"run_number\": 50, \"metric\": null, \"status\": \"Completed\", \"run_type\": \"azureml.scriptrun\", \"training_percent\": \"100\", \"start_time\": \"2021-09-23T05:15:58.392345Z\", \"end_time\": \"2021-09-23T05:16:38.603302Z\", \"created_time\": \"2021-09-23T05:15:44.950849Z\", \"created_time_dt\": \"2021-09-23T05:15:44.950849Z\", \"duration\": \"0:00:53\", \"iteration\": \"15\", \"goal\": \"accuracy_max\", \"run_name\": \"SparseNormalizer, RandomForest\", \"run_properties\": \"copy=True, norm='l2'\", \"primary_metric\": 0.8111546, \"best_metric\": 0.95166341}, {\"run_id\": \"AutoML_4ab0a4e3-709f-4fe5-90bb-e237e0f21eda_16\", \"run_number\": 51, \"metric\": null, \"status\": \"Completed\", \"run_type\": \"azureml.scriptrun\", \"training_percent\": \"100\", \"start_time\": \"2021-09-23T05:16:38.874586Z\", \"end_time\": \"2021-09-23T05:17:17.70179Z\", \"created_time\": \"2021-09-23T05:16:26.883953Z\", \"created_time_dt\": \"2021-09-23T05:16:26.883953Z\", \"duration\": \"0:00:50\", \"iteration\": \"16\", \"goal\": \"accuracy_max\", \"run_name\": \"StandardScalerWrapper, LogisticRegression\", \"run_properties\": \"\\n    copy=True,\\n    with_mean=False,\\n    with_std=False\\n\", \"primary_metric\": 0.94970646, \"best_metric\": 0.95166341}, {\"run_id\": \"AutoML_4ab0a4e3-709f-4fe5-90bb-e237e0f21eda_17\", \"run_number\": 52, \"metric\": null, \"status\": \"Completed\", \"run_type\": \"azureml.scriptrun\", \"training_percent\": \"100\", \"start_time\": \"2021-09-23T05:16:47.931651Z\", \"end_time\": \"2021-09-23T05:17:26.115135Z\", \"created_time\": \"2021-09-23T05:16:32.288116Z\", \"created_time_dt\": \"2021-09-23T05:16:32.288116Z\", \"duration\": \"0:00:53\", \"iteration\": \"17\", \"goal\": \"accuracy_max\", \"run_name\": \"StandardScalerWrapper, RandomForest\", \"run_properties\": \"\\n    copy=True,\\n    with_mean=False,\\n    with_std=False\\n\", \"primary_metric\": 0.95127202, \"best_metric\": 0.95166341}, {\"run_id\": \"AutoML_4ab0a4e3-709f-4fe5-90bb-e237e0f21eda_18\", \"run_number\": 53, \"metric\": null, \"status\": \"Completed\", \"run_type\": \"azureml.scriptrun\", \"training_percent\": \"100\", \"start_time\": \"2021-09-23T05:16:46.936603Z\", \"end_time\": \"2021-09-23T05:17:23.471391Z\", \"created_time\": \"2021-09-23T05:16:35.452274Z\", \"created_time_dt\": \"2021-09-23T05:16:35.452274Z\", \"duration\": \"0:00:48\", \"iteration\": \"18\", \"goal\": \"accuracy_max\", \"run_name\": \"StandardScalerWrapper, XGBoostClassifier\", \"run_properties\": \"\\n    copy=True,\\n    with_mean=False,\\n    with_std=False\\n\", \"primary_metric\": 0.9518591, \"best_metric\": 0.9518591}, {\"run_id\": \"AutoML_4ab0a4e3-709f-4fe5-90bb-e237e0f21eda_19\", \"run_number\": 54, \"metric\": null, \"status\": \"Completed\", \"run_type\": \"azureml.scriptrun\", \"training_percent\": \"100\", \"start_time\": \"2021-09-23T05:16:53.85885Z\", \"end_time\": \"2021-09-23T05:17:37.433776Z\", \"created_time\": \"2021-09-23T05:16:40.846363Z\", \"created_time_dt\": \"2021-09-23T05:16:40.846363Z\", \"duration\": \"0:00:56\", \"iteration\": \"19\", \"goal\": \"accuracy_max\", \"run_name\": \"TruncatedSVDWrapper, RandomForest\", \"run_properties\": \"n_components=0.8015789473684211, random_state=None\", \"primary_metric\": 0.72015656, \"best_metric\": 0.9518591}, {\"run_id\": \"AutoML_4ab0a4e3-709f-4fe5-90bb-e237e0f21eda_20\", \"run_number\": 55, \"metric\": null, \"status\": \"Completed\", \"run_type\": \"azureml.scriptrun\", \"training_percent\": \"100\", \"start_time\": \"2021-09-23T05:17:33.237633Z\", \"end_time\": \"2021-09-23T05:18:27.935294Z\", \"created_time\": \"2021-09-23T05:17:20.063363Z\", \"created_time_dt\": \"2021-09-23T05:17:20.063363Z\", \"duration\": \"0:01:07\", \"iteration\": \"20\", \"goal\": \"accuracy_max\", \"run_name\": \"TruncatedSVDWrapper, RandomForest\", \"run_properties\": \"n_components=0.7026315789473684, random_state=None\", \"primary_metric\": 0.80939335, \"best_metric\": 0.9518591}, {\"run_id\": \"AutoML_4ab0a4e3-709f-4fe5-90bb-e237e0f21eda_21\", \"run_number\": 56, \"metric\": null, \"status\": \"Completed\", \"run_type\": \"azureml.scriptrun\", \"training_percent\": \"100\", \"start_time\": \"2021-09-23T05:17:42.282621Z\", \"end_time\": \"2021-09-23T05:18:19.990641Z\", \"created_time\": \"2021-09-23T05:17:25.715313Z\", \"created_time_dt\": \"2021-09-23T05:17:25.715313Z\", \"duration\": \"0:00:54\", \"iteration\": \"21\", \"goal\": \"accuracy_max\", \"run_name\": \"StandardScalerWrapper, XGBoostClassifier\", \"run_properties\": \"\\n    copy=True,\\n    with_mean=False,\\n    with_std=False\\n\", \"primary_metric\": 0.95127202, \"best_metric\": 0.9518591}, {\"run_id\": \"AutoML_4ab0a4e3-709f-4fe5-90bb-e237e0f21eda_22\", \"run_number\": 57, \"metric\": null, \"status\": \"Completed\", \"run_type\": \"azureml.scriptrun\", \"training_percent\": \"100\", \"start_time\": \"2021-09-23T05:17:39.176618Z\", \"end_time\": \"2021-09-23T05:18:15.682774Z\", \"created_time\": \"2021-09-23T05:17:29.019673Z\", \"created_time_dt\": \"2021-09-23T05:17:29.019673Z\", \"duration\": \"0:00:46\", \"iteration\": \"22\", \"goal\": \"accuracy_max\", \"run_name\": \"SparseNormalizer, XGBoostClassifier\", \"run_properties\": \"copy=True, norm='l1'\", \"primary_metric\": 0.94911937, \"best_metric\": 0.9518591}, {\"run_id\": \"AutoML_4ab0a4e3-709f-4fe5-90bb-e237e0f21eda_23\", \"run_number\": 58, \"metric\": null, \"status\": \"Completed\", \"run_type\": \"azureml.scriptrun\", \"training_percent\": \"100\", \"start_time\": \"2021-09-23T05:18:36.44122Z\", \"end_time\": \"2021-09-23T05:19:26.799637Z\", \"created_time\": \"2021-09-23T05:18:28.577388Z\", \"created_time_dt\": \"2021-09-23T05:18:28.577388Z\", \"duration\": \"0:00:58\", \"iteration\": \"23\", \"goal\": \"accuracy_max\", \"run_name\": \"VotingEnsemble\", \"run_properties\": \"\\n    estimators=[('18', Pipeline(\\n        memory=None,\\n        steps=[('standardscalerwrapper', StandardScalerWrapper(\\n            copy=True,\\n            with_mean=False,\\n            with_std=False\\n        \", \"primary_metric\": 0.95244618, \"best_metric\": 0.95244618}, {\"run_id\": \"AutoML_4ab0a4e3-709f-4fe5-90bb-e237e0f21eda_24\", \"run_number\": 59, \"metric\": null, \"status\": \"Completed\", \"run_type\": \"azureml.scriptrun\", \"training_percent\": \"100\", \"start_time\": \"2021-09-23T05:18:35.82036Z\", \"end_time\": \"2021-09-23T05:19:27.538006Z\", \"created_time\": \"2021-09-23T05:18:28.590196Z\", \"created_time_dt\": \"2021-09-23T05:18:28.590196Z\", \"duration\": \"0:00:58\", \"iteration\": \"24\", \"goal\": \"accuracy_max\", \"run_name\": \"StackEnsemble\", \"run_properties\": \"\\n    base_learners=[('18', Pipeline(\\n        memory=None,\\n        steps=[('standardscalerwrapper', StandardScalerWrapper(\\n            copy=True,\\n            with_mean=False,\\n            with_std=False\\n        \", \"primary_metric\": 0.95048924, \"best_metric\": 0.95244618}], \"children_metrics\": {\"categories\": [0], \"series\": {\"recall_score_micro\": [{\"categories\": [\"0\", \"1\", \"2\", \"3\", \"4\", \"5\", \"6\", \"7\", \"8\", \"9\", \"10\", \"11\", \"12\", \"13\", \"14\", \"15\", \"16\", \"17\", \"18\", \"19\", \"20\", \"21\", \"22\", \"23\", \"24\"], \"mode\": \"markers\", \"name\": \"recall_score_micro\", \"stepped\": false, \"type\": \"scatter\", \"data\": [0.9481409001956947, 0.950880626223092, 0.7037181996086106, 0.950880626223092, 0.9512720156555773, 0.9512720156555773, 0.9514677103718199, 0.949706457925636, 0.9512720156555773, 0.9512720156555773, 0.9512720156555773, 0.9510763209393346, 0.9500978473581213, 0.7211350293542074, 0.9516634050880626, 0.8111545988258317, 0.949706457925636, 0.9512720156555773, 0.9518590998043053, 0.7201565557729942, 0.8093933463796477, 0.9512720156555773, 0.949119373776908, 0.9524461839530332, 0.9504892367906066]}, {\"categories\": [\"0\", \"1\", \"2\", \"3\", \"4\", \"5\", \"6\", \"7\", \"8\", \"9\", \"10\", \"11\", \"12\", \"13\", \"14\", \"15\", \"16\", \"17\", \"18\", \"19\", \"20\", \"21\", \"22\", \"23\", \"24\"], \"mode\": \"lines\", \"name\": \"recall_score_micro_max\", \"stepped\": true, \"type\": \"scatter\", \"data\": [0.9481409001956947, 0.950880626223092, 0.950880626223092, 0.950880626223092, 0.9512720156555773, 0.9512720156555773, 0.9514677103718199, 0.9514677103718199, 0.9514677103718199, 0.9514677103718199, 0.9514677103718199, 0.9514677103718199, 0.9514677103718199, 0.9514677103718199, 0.9516634050880626, 0.9516634050880626, 0.9516634050880626, 0.9516634050880626, 0.9518590998043053, 0.9518590998043053, 0.9518590998043053, 0.9518590998043053, 0.9518590998043053, 0.9524461839530332, 0.9524461839530332]}], \"matthews_correlation\": [{\"categories\": [\"0\", \"1\", \"2\", \"3\", \"4\", \"5\", \"6\", \"7\", \"8\", \"9\", \"10\", \"11\", \"12\", \"13\", \"14\", \"15\", \"16\", \"17\", \"18\", \"19\", \"20\", \"21\", \"22\", \"23\", \"24\"], \"mode\": \"markers\", \"name\": \"matthews_correlation\", \"stepped\": false, \"type\": \"scatter\", \"data\": [0.1475602146125871, 0.1131260413621668, 0.2366234576375413, 0.05389715633601927, 0.0, 0.0, 0.050211251999542114, 0.051341481338830965, 0.0, 0.0, 0.0, -0.0013742436716801417, 0.08032556800989392, 0.2509369887040494, 0.12512854050508787, 0.2633422165209426, 0.061672622027604665, 0.0, 0.13235938149331555, 0.23586668760611854, 0.24266798528713623, 0.08990914253213396, 0.11132278693004025, 0.16686795781439923, 0.017779225839091486]}, {\"categories\": [\"0\", \"1\", \"2\", \"3\", \"4\", \"5\", \"6\", \"7\", \"8\", \"9\", \"10\", \"11\", \"12\", \"13\", \"14\", \"15\", \"16\", \"17\", \"18\", \"19\", \"20\", \"21\", \"22\", \"23\", \"24\"], \"mode\": \"lines\", \"name\": \"matthews_correlation_max\", \"stepped\": true, \"type\": \"scatter\", \"data\": [0.1475602146125871, 0.1475602146125871, 0.2366234576375413, 0.2366234576375413, 0.2366234576375413, 0.2366234576375413, 0.2366234576375413, 0.2366234576375413, 0.2366234576375413, 0.2366234576375413, 0.2366234576375413, 0.2366234576375413, 0.2366234576375413, 0.2509369887040494, 0.2509369887040494, 0.2633422165209426, 0.2633422165209426, 0.2633422165209426, 0.2633422165209426, 0.2633422165209426, 0.2633422165209426, 0.2633422165209426, 0.2633422165209426, 0.2633422165209426, 0.2633422165209426]}], \"AUC_weighted\": [{\"categories\": [\"0\", \"1\", \"2\", \"3\", \"4\", \"5\", \"6\", \"7\", \"8\", \"9\", \"10\", \"11\", \"12\", \"13\", \"14\", \"15\", \"16\", \"17\", \"18\", \"19\", \"20\", \"21\", \"22\", \"23\", \"24\"], \"mode\": \"markers\", \"name\": \"AUC_weighted\", \"stepped\": false, \"type\": \"scatter\", \"data\": [0.82169153355654, 0.8440154213155109, 0.8340731365875687, 0.7998358571263898, 0.84882955910492, 0.8454401621490246, 0.8042395333590395, 0.8512935164134205, 0.8013692759167286, 0.8307208653854319, 0.8299683437653818, 0.8305653443224618, 0.8509333222838338, 0.8481665965804535, 0.810229488794729, 0.8362945516439699, 0.8482830757341493, 0.8374228637913632, 0.8440679302716102, 0.8255964873166788, 0.8213814371091093, 0.8389883935969934, 0.8164859830203482, 0.8510749891172088, 0.8493568443511685]}, {\"categories\": [\"0\", \"1\", \"2\", \"3\", \"4\", \"5\", \"6\", \"7\", \"8\", \"9\", \"10\", \"11\", \"12\", \"13\", \"14\", \"15\", \"16\", \"17\", \"18\", \"19\", \"20\", \"21\", \"22\", \"23\", \"24\"], \"mode\": \"lines\", \"name\": \"AUC_weighted_max\", \"stepped\": true, \"type\": \"scatter\", \"data\": [0.82169153355654, 0.8440154213155109, 0.8440154213155109, 0.8440154213155109, 0.84882955910492, 0.84882955910492, 0.84882955910492, 0.8512935164134205, 0.8512935164134205, 0.8512935164134205, 0.8512935164134205, 0.8512935164134205, 0.8512935164134205, 0.8512935164134205, 0.8512935164134205, 0.8512935164134205, 0.8512935164134205, 0.8512935164134205, 0.8512935164134205, 0.8512935164134205, 0.8512935164134205, 0.8512935164134205, 0.8512935164134205, 0.8512935164134205, 0.8512935164134205]}], \"balanced_accuracy\": [{\"categories\": [\"0\", \"1\", \"2\", \"3\", \"4\", \"5\", \"6\", \"7\", \"8\", \"9\", \"10\", \"11\", \"12\", \"13\", \"14\", \"15\", \"16\", \"17\", \"18\", \"19\", \"20\", \"21\", \"22\", \"23\", \"24\"], \"mode\": \"markers\", \"name\": \"balanced_accuracy\", \"stepped\": false, \"type\": \"scatter\", \"data\": [0.5345639324469469, 0.5131503654877088, 0.7583729965120021, 0.5039387704522847, 0.5, 0.5, 0.5046203892283322, 0.5048331082708479, 0.5, 0.5, 0.5, 0.4998974358974359, 0.5095553304930702, 0.7699971002957497, 0.513558957252884, 0.7475869361912167, 0.5069534974991801, 0.5, 0.5147982734922002, 0.7525081070017481, 0.7280716961733701, 0.5086326810602116, 0.5223077097324808, 0.5231788253297633, 0.501980194174344]}, {\"categories\": [\"0\", \"1\", \"2\", \"3\", \"4\", \"5\", \"6\", \"7\", \"8\", \"9\", \"10\", \"11\", \"12\", \"13\", \"14\", \"15\", \"16\", \"17\", \"18\", \"19\", \"20\", \"21\", \"22\", \"23\", \"24\"], \"mode\": \"lines\", \"name\": \"balanced_accuracy_max\", \"stepped\": true, \"type\": \"scatter\", \"data\": [0.5345639324469469, 0.5345639324469469, 0.7583729965120021, 0.7583729965120021, 0.7583729965120021, 0.7583729965120021, 0.7583729965120021, 0.7583729965120021, 0.7583729965120021, 0.7583729965120021, 0.7583729965120021, 0.7583729965120021, 0.7583729965120021, 0.7699971002957497, 0.7699971002957497, 0.7699971002957497, 0.7699971002957497, 0.7699971002957497, 0.7699971002957497, 0.7699971002957497, 0.7699971002957497, 0.7699971002957497, 0.7699971002957497, 0.7699971002957497, 0.7699971002957497]}], \"AUC_macro\": [{\"categories\": [\"0\", \"1\", \"2\", \"3\", \"4\", \"5\", \"6\", \"7\", \"8\", \"9\", \"10\", \"11\", \"12\", \"13\", \"14\", \"15\", \"16\", \"17\", \"18\", \"19\", \"20\", \"21\", \"22\", \"23\", \"24\"], \"mode\": \"markers\", \"name\": \"AUC_macro\", \"stepped\": false, \"type\": \"scatter\", \"data\": [0.8216915335565398, 0.8440154213155109, 0.8340731365875687, 0.7998358571263898, 0.84882955910492, 0.8454401621490246, 0.8042395333590395, 0.8512935164134205, 0.8013692759167285, 0.8307208653854319, 0.8299683437653818, 0.8305653443224615, 0.8509333222838338, 0.8481665965804535, 0.810229488794729, 0.8362945516439699, 0.8482830757341493, 0.8374228637913632, 0.8440679302716102, 0.8255964873166788, 0.8213814371091093, 0.8389883935969934, 0.8164859830203482, 0.8510749891172088, 0.8493568443511684]}, {\"categories\": [\"0\", \"1\", \"2\", \"3\", \"4\", \"5\", \"6\", \"7\", \"8\", \"9\", \"10\", \"11\", \"12\", \"13\", \"14\", \"15\", \"16\", \"17\", \"18\", \"19\", \"20\", \"21\", \"22\", \"23\", \"24\"], \"mode\": \"lines\", \"name\": \"AUC_macro_max\", \"stepped\": true, \"type\": \"scatter\", \"data\": [0.8216915335565398, 0.8440154213155109, 0.8440154213155109, 0.8440154213155109, 0.84882955910492, 0.84882955910492, 0.84882955910492, 0.8512935164134205, 0.8512935164134205, 0.8512935164134205, 0.8512935164134205, 0.8512935164134205, 0.8512935164134205, 0.8512935164134205, 0.8512935164134205, 0.8512935164134205, 0.8512935164134205, 0.8512935164134205, 0.8512935164134205, 0.8512935164134205, 0.8512935164134205, 0.8512935164134205, 0.8512935164134205, 0.8512935164134205, 0.8512935164134205]}], \"log_loss\": [{\"categories\": [\"0\", \"1\", \"2\", \"3\", \"4\", \"5\", \"6\", \"7\", \"8\", \"9\", \"10\", \"11\", \"12\", \"13\", \"14\", \"15\", \"16\", \"17\", \"18\", \"19\", \"20\", \"21\", \"22\", \"23\", \"24\"], \"mode\": \"markers\", \"name\": \"log_loss\", \"stepped\": false, \"type\": \"scatter\", \"data\": [0.18801885757193215, 0.1562475413488964, 0.5306167250603917, 0.2917088343901681, 0.15631608371812183, 0.16985623716840484, 0.29032095266224794, 0.1543475560942799, 0.17831182092672843, 0.2919093268533538, 0.1620506289392997, 0.2902545150484504, 0.15430624810945287, 0.9065243757769277, 0.29023226987617423, 0.38394644189278043, 0.15526801519449476, 0.1638309373359473, 0.17631510091445945, 0.48821596021535185, 0.3799949205982379, 0.17620265924031311, 0.2902465737248933, 0.21759534875637568, 0.1638735973871039]}, {\"categories\": [\"0\", \"1\", \"2\", \"3\", \"4\", \"5\", \"6\", \"7\", \"8\", \"9\", \"10\", \"11\", \"12\", \"13\", \"14\", \"15\", \"16\", \"17\", \"18\", \"19\", \"20\", \"21\", \"22\", \"23\", \"24\"], \"mode\": \"lines\", \"name\": \"log_loss_min\", \"stepped\": true, \"type\": \"scatter\", \"data\": [0.18801885757193215, 0.1562475413488964, 0.1562475413488964, 0.1562475413488964, 0.1562475413488964, 0.1562475413488964, 0.1562475413488964, 0.1543475560942799, 0.1543475560942799, 0.1543475560942799, 0.1543475560942799, 0.1543475560942799, 0.15430624810945287, 0.15430624810945287, 0.15430624810945287, 0.15430624810945287, 0.15430624810945287, 0.15430624810945287, 0.15430624810945287, 0.15430624810945287, 0.15430624810945287, 0.15430624810945287, 0.15430624810945287, 0.15430624810945287, 0.15430624810945287]}], \"f1_score_macro\": [{\"categories\": [\"0\", \"1\", \"2\", \"3\", \"4\", \"5\", \"6\", \"7\", \"8\", \"9\", \"10\", \"11\", \"12\", \"13\", \"14\", \"15\", \"16\", \"17\", \"18\", \"19\", \"20\", \"21\", \"22\", \"23\", \"24\"], \"mode\": \"markers\", \"name\": \"f1_score_macro\", \"stepped\": false, \"type\": \"scatter\", \"data\": [0.5489112113447769, 0.5138821892992345, 0.5144728965470904, 0.49591105596512647, 0.48750440727597083, 0.48750440727597083, 0.49666106747144123, 0.498449979105888, 0.48750440727597083, 0.48750440727597083, 0.48750440727597083, 0.48745312795217555, 0.5071699289841132, 0.5263628649439285, 0.514469300402285, 0.5751112520692386, 0.502418816168428, 0.48750440727597083, 0.5167153455514317, 0.5227376267415291, 0.5677311397190952, 0.5050832992398248, 0.5288852749991526, 0.532068346198631, 0.492055134252534]}, {\"categories\": [\"0\", \"1\", \"2\", \"3\", \"4\", \"5\", \"6\", \"7\", \"8\", \"9\", \"10\", \"11\", \"12\", \"13\", \"14\", \"15\", \"16\", \"17\", \"18\", \"19\", \"20\", \"21\", \"22\", \"23\", \"24\"], \"mode\": \"lines\", \"name\": \"f1_score_macro_max\", \"stepped\": true, \"type\": \"scatter\", \"data\": [0.5489112113447769, 0.5489112113447769, 0.5489112113447769, 0.5489112113447769, 0.5489112113447769, 0.5489112113447769, 0.5489112113447769, 0.5489112113447769, 0.5489112113447769, 0.5489112113447769, 0.5489112113447769, 0.5489112113447769, 0.5489112113447769, 0.5489112113447769, 0.5489112113447769, 0.5751112520692386, 0.5751112520692386, 0.5751112520692386, 0.5751112520692386, 0.5751112520692386, 0.5751112520692386, 0.5751112520692386, 0.5751112520692386, 0.5751112520692386, 0.5751112520692386]}], \"f1_score_weighted\": [{\"categories\": [\"0\", \"1\", \"2\", \"3\", \"4\", \"5\", \"6\", \"7\", \"8\", \"9\", \"10\", \"11\", \"12\", \"13\", \"14\", \"15\", \"16\", \"17\", \"18\", \"19\", \"20\", \"21\", \"22\", \"23\", \"24\"], \"mode\": \"markers\", \"name\": \"f1_score_weighted\", \"stepped\": false, \"type\": \"scatter\", \"data\": [0.9319830316648006, 0.929892364262513, 0.7882076887288448, 0.9280965724816459, 0.9275352167592128, 0.9275352167592128, 0.9283805560272296, 0.9278578685903776, 0.9275352167592128, 0.9275352167592128, 0.9275352167592128, 0.9274373746052003, 0.9287603734300331, 0.8003122119379376, 0.9303160162538784, 0.8612123483042404, 0.9282042140637599, 0.9275352167592128, 0.9307602731449321, 0.7999866865896932, 0.8596127898983402, 0.9293906509614983, 0.9304198874187115, 0.9324390326705716, 0.927512377619399]}, {\"categories\": [\"0\", \"1\", \"2\", \"3\", \"4\", \"5\", \"6\", \"7\", \"8\", \"9\", \"10\", \"11\", \"12\", \"13\", \"14\", \"15\", \"16\", \"17\", \"18\", \"19\", \"20\", \"21\", \"22\", \"23\", \"24\"], \"mode\": \"lines\", \"name\": \"f1_score_weighted_max\", \"stepped\": true, \"type\": \"scatter\", \"data\": [0.9319830316648006, 0.9319830316648006, 0.9319830316648006, 0.9319830316648006, 0.9319830316648006, 0.9319830316648006, 0.9319830316648006, 0.9319830316648006, 0.9319830316648006, 0.9319830316648006, 0.9319830316648006, 0.9319830316648006, 0.9319830316648006, 0.9319830316648006, 0.9319830316648006, 0.9319830316648006, 0.9319830316648006, 0.9319830316648006, 0.9319830316648006, 0.9319830316648006, 0.9319830316648006, 0.9319830316648006, 0.9319830316648006, 0.9324390326705716, 0.9324390326705716]}], \"recall_score_weighted\": [{\"categories\": [\"0\", \"1\", \"2\", \"3\", \"4\", \"5\", \"6\", \"7\", \"8\", \"9\", \"10\", \"11\", \"12\", \"13\", \"14\", \"15\", \"16\", \"17\", \"18\", \"19\", \"20\", \"21\", \"22\", \"23\", \"24\"], \"mode\": \"markers\", \"name\": \"recall_score_weighted\", \"stepped\": false, \"type\": \"scatter\", \"data\": [0.9481409001956947, 0.950880626223092, 0.7037181996086106, 0.950880626223092, 0.9512720156555773, 0.9512720156555773, 0.9514677103718199, 0.949706457925636, 0.9512720156555773, 0.9512720156555773, 0.9512720156555773, 0.9510763209393346, 0.9500978473581213, 0.7211350293542074, 0.9516634050880626, 0.8111545988258317, 0.949706457925636, 0.9512720156555773, 0.9518590998043053, 0.7201565557729942, 0.8093933463796477, 0.9512720156555773, 0.949119373776908, 0.9524461839530332, 0.9504892367906066]}, {\"categories\": [\"0\", \"1\", \"2\", \"3\", \"4\", \"5\", \"6\", \"7\", \"8\", \"9\", \"10\", \"11\", \"12\", \"13\", \"14\", \"15\", \"16\", \"17\", \"18\", \"19\", \"20\", \"21\", \"22\", \"23\", \"24\"], \"mode\": \"lines\", \"name\": \"recall_score_weighted_max\", \"stepped\": true, \"type\": \"scatter\", \"data\": [0.9481409001956947, 0.950880626223092, 0.950880626223092, 0.950880626223092, 0.9512720156555773, 0.9512720156555773, 0.9514677103718199, 0.9514677103718199, 0.9514677103718199, 0.9514677103718199, 0.9514677103718199, 0.9514677103718199, 0.9514677103718199, 0.9514677103718199, 0.9516634050880626, 0.9516634050880626, 0.9516634050880626, 0.9516634050880626, 0.9518590998043053, 0.9518590998043053, 0.9518590998043053, 0.9518590998043053, 0.9518590998043053, 0.9524461839530332, 0.9524461839530332]}], \"average_precision_score_macro\": [{\"categories\": [\"0\", \"1\", \"2\", \"3\", \"4\", \"5\", \"6\", \"7\", \"8\", \"9\", \"10\", \"11\", \"12\", \"13\", \"14\", \"15\", \"16\", \"17\", \"18\", \"19\", \"20\", \"21\", \"22\", \"23\", \"24\"], \"mode\": \"markers\", \"name\": \"average_precision_score_macro\", \"stepped\": false, \"type\": \"scatter\", \"data\": [0.5949282058186431, 0.609077284222731, 0.5951582549140927, 0.589855103619654, 0.6137355904905963, 0.6141495937806037, 0.5926227815990901, 0.6103226305965411, 0.5808614107189255, 0.6110399488151634, 0.6015135790860461, 0.6072974327591186, 0.6106234360151949, 0.6001106286669466, 0.6004822592724693, 0.5947982432857574, 0.608358367207833, 0.6004005915238025, 0.6117448248388586, 0.5808492650921426, 0.5873756107032593, 0.610060141441408, 0.6006985952239897, 0.620512123404198, 0.6138959811328699]}, {\"categories\": [\"0\", \"1\", \"2\", \"3\", \"4\", \"5\", \"6\", \"7\", \"8\", \"9\", \"10\", \"11\", \"12\", \"13\", \"14\", \"15\", \"16\", \"17\", \"18\", \"19\", \"20\", \"21\", \"22\", \"23\", \"24\"], \"mode\": \"lines\", \"name\": \"average_precision_score_macro_max\", \"stepped\": true, \"type\": \"scatter\", \"data\": [0.5949282058186431, 0.609077284222731, 0.609077284222731, 0.609077284222731, 0.6137355904905963, 0.6141495937806037, 0.6141495937806037, 0.6141495937806037, 0.6141495937806037, 0.6141495937806037, 0.6141495937806037, 0.6141495937806037, 0.6141495937806037, 0.6141495937806037, 0.6141495937806037, 0.6141495937806037, 0.6141495937806037, 0.6141495937806037, 0.6141495937806037, 0.6141495937806037, 0.6141495937806037, 0.6141495937806037, 0.6141495937806037, 0.620512123404198, 0.620512123404198]}], \"AUC_micro\": [{\"categories\": [\"0\", \"1\", \"2\", \"3\", \"4\", \"5\", \"6\", \"7\", \"8\", \"9\", \"10\", \"11\", \"12\", \"13\", \"14\", \"15\", \"16\", \"17\", \"18\", \"19\", \"20\", \"21\", \"22\", \"23\", \"24\"], \"mode\": \"markers\", \"name\": \"AUC_micro\", \"stepped\": false, \"type\": \"scatter\", \"data\": [0.9810909501725253, 0.9832843777405875, 0.8039451059087549, 0.9790425703026566, 0.9836317262878129, 0.9833573324244316, 0.9796605788121215, 0.9838509733035643, 0.9790989617840005, 0.9819643000754439, 0.9817800942857909, 0.9820585092734785, 0.9838218680228706, 0.8001210166934104, 0.9802930442208785, 0.9103689477292137, 0.9835537930691135, 0.9826469337969753, 0.9833330141964837, 0.829125003350937, 0.9073104039889553, 0.982756461563796, 0.9805921392764274, 0.9839057371869746, 0.9836663845496915]}, {\"categories\": [\"0\", \"1\", \"2\", \"3\", \"4\", \"5\", \"6\", \"7\", \"8\", \"9\", \"10\", \"11\", \"12\", \"13\", \"14\", \"15\", \"16\", \"17\", \"18\", \"19\", \"20\", \"21\", \"22\", \"23\", \"24\"], \"mode\": \"lines\", \"name\": \"AUC_micro_max\", \"stepped\": true, \"type\": \"scatter\", \"data\": [0.9810909501725253, 0.9832843777405875, 0.9832843777405875, 0.9832843777405875, 0.9836317262878129, 0.9836317262878129, 0.9836317262878129, 0.9838509733035643, 0.9838509733035643, 0.9838509733035643, 0.9838509733035643, 0.9838509733035643, 0.9838509733035643, 0.9838509733035643, 0.9838509733035643, 0.9838509733035643, 0.9838509733035643, 0.9838509733035643, 0.9838509733035643, 0.9838509733035643, 0.9838509733035643, 0.9838509733035643, 0.9838509733035643, 0.9839057371869746, 0.9839057371869746]}], \"norm_macro_recall\": [{\"categories\": [\"0\", \"1\", \"2\", \"3\", \"4\", \"5\", \"6\", \"7\", \"8\", \"9\", \"10\", \"11\", \"12\", \"13\", \"14\", \"15\", \"16\", \"17\", \"18\", \"19\", \"20\", \"21\", \"22\", \"23\", \"24\"], \"mode\": \"markers\", \"name\": \"norm_macro_recall\", \"stepped\": false, \"type\": \"scatter\", \"data\": [0.06912786489389386, 0.026300730975417564, 0.5167459930240043, 0.008699763593380583, 0.0, 0.0, 0.009240778456664378, 0.011100854234265923, 0.0, 0.0, 0.0, 0.0, 0.01993117380665308, 0.5399942005914996, 0.02711791450576797, 0.49517387238243343, 0.01472750781887302, 0.0, 0.029596546984400486, 0.5050162140034961, 0.4561433923467401, 0.01808441272358796, 0.04523397616599238, 0.046357650659526725, 0.004796334012219949]}, {\"categories\": [\"0\", \"1\", \"2\", \"3\", \"4\", \"5\", \"6\", \"7\", \"8\", \"9\", \"10\", \"11\", \"12\", \"13\", \"14\", \"15\", \"16\", \"17\", \"18\", \"19\", \"20\", \"21\", \"22\", \"23\", \"24\"], \"mode\": \"lines\", \"name\": \"norm_macro_recall_max\", \"stepped\": true, \"type\": \"scatter\", \"data\": [0.06912786489389386, 0.06912786489389386, 0.5167459930240043, 0.5167459930240043, 0.5167459930240043, 0.5167459930240043, 0.5167459930240043, 0.5167459930240043, 0.5167459930240043, 0.5167459930240043, 0.5167459930240043, 0.5167459930240043, 0.5167459930240043, 0.5399942005914996, 0.5399942005914996, 0.5399942005914996, 0.5399942005914996, 0.5399942005914996, 0.5399942005914996, 0.5399942005914996, 0.5399942005914996, 0.5399942005914996, 0.5399942005914996, 0.5399942005914996, 0.5399942005914996]}], \"precision_score_weighted\": [{\"categories\": [\"0\", \"1\", \"2\", \"3\", \"4\", \"5\", \"6\", \"7\", \"8\", \"9\", \"10\", \"11\", \"12\", \"13\", \"14\", \"15\", \"16\", \"17\", \"18\", \"19\", \"20\", \"21\", \"22\", \"23\", \"24\"], \"mode\": \"markers\", \"name\": \"precision_score_weighted\", \"stepped\": false, \"type\": \"scatter\", \"data\": [0.9270620666247946, 0.934853962288471, 0.945180219237739, 0.9233133294610582, 0.90498791747887, 0.90498791747887, 0.9180607461794663, 0.9246006720707364, 0.90498791747887, 0.90498791747887, 0.90498791747887, 0.9049793232891709, 0.928467766431823, 0.9460920475871806, 0.9380813166542646, 0.9406480598415332, 0.9256699145286167, 0.90498791747887, 0.9399475418315367, 0.9436340410095829, 0.937595177695235, 0.9341322300879785, 0.9232670628065544, 0.9397561058074408, 0.9090286659154438]}, {\"categories\": [\"0\", \"1\", \"2\", \"3\", \"4\", \"5\", \"6\", \"7\", \"8\", \"9\", \"10\", \"11\", \"12\", \"13\", \"14\", \"15\", \"16\", \"17\", \"18\", \"19\", \"20\", \"21\", \"22\", \"23\", \"24\"], \"mode\": \"lines\", \"name\": \"precision_score_weighted_max\", \"stepped\": true, \"type\": \"scatter\", \"data\": [0.9270620666247946, 0.934853962288471, 0.945180219237739, 0.945180219237739, 0.945180219237739, 0.945180219237739, 0.945180219237739, 0.945180219237739, 0.945180219237739, 0.945180219237739, 0.945180219237739, 0.945180219237739, 0.945180219237739, 0.9460920475871806, 0.9460920475871806, 0.9460920475871806, 0.9460920475871806, 0.9460920475871806, 0.9460920475871806, 0.9460920475871806, 0.9460920475871806, 0.9460920475871806, 0.9460920475871806, 0.9460920475871806, 0.9460920475871806]}], \"precision_score_binary\": [{\"categories\": [\"0\", \"1\", \"2\", \"3\", \"4\", \"5\", \"6\", \"7\", \"8\", \"9\", \"10\", \"11\", \"12\", \"13\", \"14\", \"15\", \"16\", \"17\", \"18\", \"19\", \"20\", \"21\", \"22\", \"23\", \"24\"], \"mode\": \"markers\", \"name\": \"precision_score_binary\", \"stepped\": false, \"type\": \"scatter\", \"data\": [0.3692890442890443, 0.5566666666666666, 0.1217198634127616, 0.4, 0.0, 0.0, 0.3, 0.35, 0.0, 0.0, 0.0, 0.0, 0.4333333333333333, 0.12933215494915637, 0.6333333333333333, 0.16080903715474032, 0.36666666666666664, 0.0, 0.6666666666666666, 0.12571079675350239, 0.15296351261726523, 0.5333333333333333, 0.3350427350427351, 0.6499999999999999, 0.1]}, {\"categories\": [\"0\", \"1\", \"2\", \"3\", \"4\", \"5\", \"6\", \"7\", \"8\", \"9\", \"10\", \"11\", \"12\", \"13\", \"14\", \"15\", \"16\", \"17\", \"18\", \"19\", \"20\", \"21\", \"22\", \"23\", \"24\"], \"mode\": \"lines\", \"name\": \"precision_score_binary_max\", \"stepped\": true, \"type\": \"scatter\", \"data\": [0.3692890442890443, 0.5566666666666666, 0.5566666666666666, 0.5566666666666666, 0.5566666666666666, 0.5566666666666666, 0.5566666666666666, 0.5566666666666666, 0.5566666666666666, 0.5566666666666666, 0.5566666666666666, 0.5566666666666666, 0.5566666666666666, 0.5566666666666666, 0.6333333333333333, 0.6333333333333333, 0.6333333333333333, 0.6333333333333333, 0.6666666666666666, 0.6666666666666666, 0.6666666666666666, 0.6666666666666666, 0.6666666666666666, 0.6666666666666666, 0.6666666666666666]}], \"f1_score_micro\": [{\"categories\": [\"0\", \"1\", \"2\", \"3\", \"4\", \"5\", \"6\", \"7\", \"8\", \"9\", \"10\", \"11\", \"12\", \"13\", \"14\", \"15\", \"16\", \"17\", \"18\", \"19\", \"20\", \"21\", \"22\", \"23\", \"24\"], \"mode\": \"markers\", \"name\": \"f1_score_micro\", \"stepped\": false, \"type\": \"scatter\", \"data\": [0.9481409001956947, 0.950880626223092, 0.7037181996086106, 0.950880626223092, 0.9512720156555773, 0.9512720156555773, 0.9514677103718199, 0.949706457925636, 0.9512720156555773, 0.9512720156555773, 0.9512720156555773, 0.9510763209393346, 0.9500978473581213, 0.7211350293542074, 0.9516634050880626, 0.8111545988258317, 0.949706457925636, 0.9512720156555773, 0.9518590998043053, 0.7201565557729942, 0.8093933463796477, 0.9512720156555773, 0.949119373776908, 0.9524461839530332, 0.9504892367906066]}, {\"categories\": [\"0\", \"1\", \"2\", \"3\", \"4\", \"5\", \"6\", \"7\", \"8\", \"9\", \"10\", \"11\", \"12\", \"13\", \"14\", \"15\", \"16\", \"17\", \"18\", \"19\", \"20\", \"21\", \"22\", \"23\", \"24\"], \"mode\": \"lines\", \"name\": \"f1_score_micro_max\", \"stepped\": true, \"type\": \"scatter\", \"data\": [0.9481409001956947, 0.950880626223092, 0.950880626223092, 0.950880626223092, 0.9512720156555773, 0.9512720156555773, 0.9514677103718199, 0.9514677103718199, 0.9514677103718199, 0.9514677103718199, 0.9514677103718199, 0.9514677103718199, 0.9514677103718199, 0.9514677103718199, 0.9516634050880626, 0.9516634050880626, 0.9516634050880626, 0.9516634050880626, 0.9518590998043053, 0.9518590998043053, 0.9518590998043053, 0.9518590998043053, 0.9518590998043053, 0.9524461839530332, 0.9524461839530332]}], \"average_precision_score_weighted\": [{\"categories\": [\"0\", \"1\", \"2\", \"3\", \"4\", \"5\", \"6\", \"7\", \"8\", \"9\", \"10\", \"11\", \"12\", \"13\", \"14\", \"15\", \"16\", \"17\", \"18\", \"19\", \"20\", \"21\", \"22\", \"23\", \"24\"], \"mode\": \"markers\", \"name\": \"average_precision_score_weighted\", \"stepped\": false, \"type\": \"scatter\", \"data\": [0.9509267678076452, 0.9538146551578206, 0.9511601313852276, 0.9461376400338976, 0.9539388952420043, 0.9537806890288637, 0.9487368009398998, 0.9539358013405282, 0.9476235837006733, 0.9508630500250005, 0.951515031565917, 0.9503970591172657, 0.9540425224233312, 0.952810470032156, 0.947522259904618, 0.9515600128437607, 0.9534716097866409, 0.952116562186772, 0.9537365034340534, 0.9494012171868904, 0.9496184337488, 0.953093021228512, 0.9489477924436109, 0.9551344590528797, 0.9540730050586017]}, {\"categories\": [\"0\", \"1\", \"2\", \"3\", \"4\", \"5\", \"6\", \"7\", \"8\", \"9\", \"10\", \"11\", \"12\", \"13\", \"14\", \"15\", \"16\", \"17\", \"18\", \"19\", \"20\", \"21\", \"22\", \"23\", \"24\"], \"mode\": \"lines\", \"name\": \"average_precision_score_weighted_max\", \"stepped\": true, \"type\": \"scatter\", \"data\": [0.9509267678076452, 0.9538146551578206, 0.9538146551578206, 0.9538146551578206, 0.9539388952420043, 0.9539388952420043, 0.9539388952420043, 0.9539388952420043, 0.9539388952420043, 0.9539388952420043, 0.9539388952420043, 0.9539388952420043, 0.9540425224233312, 0.9540425224233312, 0.9540425224233312, 0.9540425224233312, 0.9540425224233312, 0.9540425224233312, 0.9540425224233312, 0.9540425224233312, 0.9540425224233312, 0.9540425224233312, 0.9540425224233312, 0.9551344590528797, 0.9551344590528797]}], \"precision_score_micro\": [{\"categories\": [\"0\", \"1\", \"2\", \"3\", \"4\", \"5\", \"6\", \"7\", \"8\", \"9\", \"10\", \"11\", \"12\", \"13\", \"14\", \"15\", \"16\", \"17\", \"18\", \"19\", \"20\", \"21\", \"22\", \"23\", \"24\"], \"mode\": \"markers\", \"name\": \"precision_score_micro\", \"stepped\": false, \"type\": \"scatter\", \"data\": [0.9481409001956947, 0.950880626223092, 0.7037181996086106, 0.950880626223092, 0.9512720156555773, 0.9512720156555773, 0.9514677103718199, 0.949706457925636, 0.9512720156555773, 0.9512720156555773, 0.9512720156555773, 0.9510763209393346, 0.9500978473581213, 0.7211350293542074, 0.9516634050880626, 0.8111545988258317, 0.949706457925636, 0.9512720156555773, 0.9518590998043053, 0.7201565557729942, 0.8093933463796477, 0.9512720156555773, 0.949119373776908, 0.9524461839530332, 0.9504892367906066]}, {\"categories\": [\"0\", \"1\", \"2\", \"3\", \"4\", \"5\", \"6\", \"7\", \"8\", \"9\", \"10\", \"11\", \"12\", \"13\", \"14\", \"15\", \"16\", \"17\", \"18\", \"19\", \"20\", \"21\", \"22\", \"23\", \"24\"], \"mode\": \"lines\", \"name\": \"precision_score_micro_max\", \"stepped\": true, \"type\": \"scatter\", \"data\": [0.9481409001956947, 0.950880626223092, 0.950880626223092, 0.950880626223092, 0.9512720156555773, 0.9512720156555773, 0.9514677103718199, 0.9514677103718199, 0.9514677103718199, 0.9514677103718199, 0.9514677103718199, 0.9514677103718199, 0.9514677103718199, 0.9514677103718199, 0.9516634050880626, 0.9516634050880626, 0.9516634050880626, 0.9516634050880626, 0.9518590998043053, 0.9518590998043053, 0.9518590998043053, 0.9518590998043053, 0.9518590998043053, 0.9524461839530332, 0.9524461839530332]}], \"weighted_accuracy\": [{\"categories\": [\"0\", \"1\", \"2\", \"3\", \"4\", \"5\", \"6\", \"7\", \"8\", \"9\", \"10\", \"11\", \"12\", \"13\", \"14\", \"15\", \"16\", \"17\", \"18\", \"19\", \"20\", \"21\", \"22\", \"23\", \"24\"], \"mode\": \"markers\", \"name\": \"weighted_accuracy\", \"stepped\": false, \"type\": \"scatter\", \"data\": [0.9903294790974941, 0.9955269618781422, 0.6979002965649241, 0.9964892818825408, 0.9972901205876161, 0.9972901205876161, 0.9971044829600266, 0.9950720055253172, 0.9972901205876161, 0.9972901205876161, 0.9972901205876161, 0.99708546794088, 0.9950896965239965, 0.7158829311631931, 0.9963425424767671, 0.8176182173508628, 0.9948780856726251, 0.9972901205876161, 0.9963582845740948, 0.716805757799694, 0.8181465215640792, 0.9963269498167062, 0.9927058951914793, 0.9961952387161009, 0.9962629672037506]}, {\"categories\": [\"0\", \"1\", \"2\", \"3\", \"4\", \"5\", \"6\", \"7\", \"8\", \"9\", \"10\", \"11\", \"12\", \"13\", \"14\", \"15\", \"16\", \"17\", \"18\", \"19\", \"20\", \"21\", \"22\", \"23\", \"24\"], \"mode\": \"lines\", \"name\": \"weighted_accuracy_max\", \"stepped\": true, \"type\": \"scatter\", \"data\": [0.9903294790974941, 0.9955269618781422, 0.9955269618781422, 0.9964892818825408, 0.9972901205876161, 0.9972901205876161, 0.9972901205876161, 0.9972901205876161, 0.9972901205876161, 0.9972901205876161, 0.9972901205876161, 0.9972901205876161, 0.9972901205876161, 0.9972901205876161, 0.9972901205876161, 0.9972901205876161, 0.9972901205876161, 0.9972901205876161, 0.9972901205876161, 0.9972901205876161, 0.9972901205876161, 0.9972901205876161, 0.9972901205876161, 0.9972901205876161, 0.9972901205876161]}], \"average_precision_score_binary\": [{\"categories\": [\"0\", \"1\", \"2\", \"3\", \"4\", \"5\", \"6\", \"7\", \"8\", \"9\", \"10\", \"11\", \"12\", \"13\", \"14\", \"15\", \"16\", \"17\", \"18\", \"19\", \"20\", \"21\", \"22\", \"23\", \"24\"], \"mode\": \"markers\", \"name\": \"average_precision_score_binary\", \"stepped\": false, \"type\": \"scatter\", \"data\": [0.20092636379730539, 0.22762313772083073, 0.20084371722528344, 0.19523044802035194, 0.23684971929491833, 0.23795240264529943, 0.19853244240341392, 0.2298666302423166, 0.17471059587122575, 0.23490163496472144, 0.2139510610624158, 0.2275245112934939, 0.23039607368490572, 0.20952202141675697, 0.21636116106160824, 0.1997227197589837, 0.2262548556310396, 0.21102295818672662, 0.23319996204657403, 0.1727539191942397, 0.18630858370131687, 0.2303082126181407, 0.21513087104014295, 0.2500802201000176, 0.2370133254579409]}, {\"categories\": [\"0\", \"1\", \"2\", \"3\", \"4\", \"5\", \"6\", \"7\", \"8\", \"9\", \"10\", \"11\", \"12\", \"13\", \"14\", \"15\", \"16\", \"17\", \"18\", \"19\", \"20\", \"21\", \"22\", \"23\", \"24\"], \"mode\": \"lines\", \"name\": \"average_precision_score_binary_max\", \"stepped\": true, \"type\": \"scatter\", \"data\": [0.20092636379730539, 0.22762313772083073, 0.22762313772083073, 0.22762313772083073, 0.23684971929491833, 0.23795240264529943, 0.23795240264529943, 0.23795240264529943, 0.23795240264529943, 0.23795240264529943, 0.23795240264529943, 0.23795240264529943, 0.23795240264529943, 0.23795240264529943, 0.23795240264529943, 0.23795240264529943, 0.23795240264529943, 0.23795240264529943, 0.23795240264529943, 0.23795240264529943, 0.23795240264529943, 0.23795240264529943, 0.23795240264529943, 0.2500802201000176, 0.2500802201000176]}], \"recall_score_macro\": [{\"categories\": [\"0\", \"1\", \"2\", \"3\", \"4\", \"5\", \"6\", \"7\", \"8\", \"9\", \"10\", \"11\", \"12\", \"13\", \"14\", \"15\", \"16\", \"17\", \"18\", \"19\", \"20\", \"21\", \"22\", \"23\", \"24\"], \"mode\": \"markers\", \"name\": \"recall_score_macro\", \"stepped\": false, \"type\": \"scatter\", \"data\": [0.5345639324469469, 0.5131503654877088, 0.7583729965120021, 0.5039387704522847, 0.5, 0.5, 0.5046203892283322, 0.5048331082708479, 0.5, 0.5, 0.5, 0.4998974358974359, 0.5095553304930702, 0.7699971002957497, 0.513558957252884, 0.7475869361912167, 0.5069534974991801, 0.5, 0.5147982734922002, 0.7525081070017481, 0.7280716961733701, 0.5086326810602116, 0.5223077097324808, 0.5231788253297633, 0.501980194174344]}, {\"categories\": [\"0\", \"1\", \"2\", \"3\", \"4\", \"5\", \"6\", \"7\", \"8\", \"9\", \"10\", \"11\", \"12\", \"13\", \"14\", \"15\", \"16\", \"17\", \"18\", \"19\", \"20\", \"21\", \"22\", \"23\", \"24\"], \"mode\": \"lines\", \"name\": \"recall_score_macro_max\", \"stepped\": true, \"type\": \"scatter\", \"data\": [0.5345639324469469, 0.5345639324469469, 0.7583729965120021, 0.7583729965120021, 0.7583729965120021, 0.7583729965120021, 0.7583729965120021, 0.7583729965120021, 0.7583729965120021, 0.7583729965120021, 0.7583729965120021, 0.7583729965120021, 0.7583729965120021, 0.7699971002957497, 0.7699971002957497, 0.7699971002957497, 0.7699971002957497, 0.7699971002957497, 0.7699971002957497, 0.7699971002957497, 0.7699971002957497, 0.7699971002957497, 0.7699971002957497, 0.7699971002957497, 0.7699971002957497]}], \"average_precision_score_micro\": [{\"categories\": [\"0\", \"1\", \"2\", \"3\", \"4\", \"5\", \"6\", \"7\", \"8\", \"9\", \"10\", \"11\", \"12\", \"13\", \"14\", \"15\", \"16\", \"17\", \"18\", \"19\", \"20\", \"21\", \"22\", \"23\", \"24\"], \"mode\": \"markers\", \"name\": \"average_precision_score_micro\", \"stepped\": false, \"type\": \"scatter\", \"data\": [0.98106851520637, 0.983419694903151, 0.8188320762086615, 0.9761268390886254, 0.9836436812212724, 0.9832951296163237, 0.9788221889847458, 0.983860286832136, 0.9788386694591086, 0.9794967248435391, 0.9816048106461409, 0.9794390801838349, 0.9839079494784577, 0.7940045857521902, 0.976400400316107, 0.916057283594656, 0.9834679046482021, 0.9825432031240098, 0.9832225763770219, 0.8440265361534518, 0.9129760537859231, 0.9826228421589761, 0.978283943561995, 0.9840357406568081, 0.9837967606575433]}, {\"categories\": [\"0\", \"1\", \"2\", \"3\", \"4\", \"5\", \"6\", \"7\", \"8\", \"9\", \"10\", \"11\", \"12\", \"13\", \"14\", \"15\", \"16\", \"17\", \"18\", \"19\", \"20\", \"21\", \"22\", \"23\", \"24\"], \"mode\": \"lines\", \"name\": \"average_precision_score_micro_max\", \"stepped\": true, \"type\": \"scatter\", \"data\": [0.98106851520637, 0.983419694903151, 0.983419694903151, 0.983419694903151, 0.9836436812212724, 0.9836436812212724, 0.9836436812212724, 0.983860286832136, 0.983860286832136, 0.983860286832136, 0.983860286832136, 0.983860286832136, 0.9839079494784577, 0.9839079494784577, 0.9839079494784577, 0.9839079494784577, 0.9839079494784577, 0.9839079494784577, 0.9839079494784577, 0.9839079494784577, 0.9839079494784577, 0.9839079494784577, 0.9839079494784577, 0.9840357406568081, 0.9840357406568081]}], \"f1_score_binary\": [{\"categories\": [\"0\", \"1\", \"2\", \"3\", \"4\", \"5\", \"6\", \"7\", \"8\", \"9\", \"10\", \"11\", \"12\", \"13\", \"14\", \"15\", \"16\", \"17\", \"18\", \"19\", \"20\", \"21\", \"22\", \"23\", \"24\"], \"mode\": \"markers\", \"name\": \"f1_score_binary\", \"stepped\": false, \"type\": \"scatter\", \"data\": [0.12455683497918627, 0.052993321134953406, 0.2115082074072124, 0.01702898550724638, 0.0, 0.0, 0.018219461697722567, 0.022727272727272728, 0.0, 0.0, 0.0, 0.0, 0.03997137967237635, 0.22315993804308487, 0.053758111899744165, 0.25847362739345237, 0.030669054090981, 0.0, 0.058152234806966276, 0.2158654128452399, 0.24453553318531723, 0.03518140522683028, 0.08395543874789158, 0.0885685671639738, 0.009523809523809523]}, {\"categories\": [\"0\", \"1\", \"2\", \"3\", \"4\", \"5\", \"6\", \"7\", \"8\", \"9\", \"10\", \"11\", \"12\", \"13\", \"14\", \"15\", \"16\", \"17\", \"18\", \"19\", \"20\", \"21\", \"22\", \"23\", \"24\"], \"mode\": \"lines\", \"name\": \"f1_score_binary_max\", \"stepped\": true, \"type\": \"scatter\", \"data\": [0.12455683497918627, 0.12455683497918627, 0.2115082074072124, 0.2115082074072124, 0.2115082074072124, 0.2115082074072124, 0.2115082074072124, 0.2115082074072124, 0.2115082074072124, 0.2115082074072124, 0.2115082074072124, 0.2115082074072124, 0.2115082074072124, 0.22315993804308487, 0.22315993804308487, 0.25847362739345237, 0.25847362739345237, 0.25847362739345237, 0.25847362739345237, 0.25847362739345237, 0.25847362739345237, 0.25847362739345237, 0.25847362739345237, 0.25847362739345237, 0.25847362739345237]}], \"precision_score_macro\": [{\"categories\": [\"0\", \"1\", \"2\", \"3\", \"4\", \"5\", \"6\", \"7\", \"8\", \"9\", \"10\", \"11\", \"12\", \"13\", \"14\", \"15\", \"16\", \"17\", \"18\", \"19\", \"20\", \"21\", \"22\", \"23\", \"24\"], \"mode\": \"markers\", \"name\": \"precision_score_macro\", \"stepped\": false, \"type\": \"scatter\", \"data\": [0.6619034710252985, 0.7545823153913911, 0.5544493434468352, 0.6758042644406281, 0.47563600782778864, 0.47563600782778864, 0.625820003366621, 0.6508652929725733, 0.47563600782778864, 0.47563600782778864, 0.47563600782778864, 0.475631503590931, 0.692720236646301, 0.5585599090612063, 0.7929318439839135, 0.5705503037163588, 0.6592887678860786, 0.47563600782778864, 0.80969008597223, 0.5554974205275048, 0.5652343340222507, 0.7427438314625483, 0.644175038354702, 0.8017271545931812, 0.5257013822564847]}, {\"categories\": [\"0\", \"1\", \"2\", \"3\", \"4\", \"5\", \"6\", \"7\", \"8\", \"9\", \"10\", \"11\", \"12\", \"13\", \"14\", \"15\", \"16\", \"17\", \"18\", \"19\", \"20\", \"21\", \"22\", \"23\", \"24\"], \"mode\": \"lines\", \"name\": \"precision_score_macro_max\", \"stepped\": true, \"type\": \"scatter\", \"data\": [0.6619034710252985, 0.7545823153913911, 0.7545823153913911, 0.7545823153913911, 0.7545823153913911, 0.7545823153913911, 0.7545823153913911, 0.7545823153913911, 0.7545823153913911, 0.7545823153913911, 0.7545823153913911, 0.7545823153913911, 0.7545823153913911, 0.7545823153913911, 0.7929318439839135, 0.7929318439839135, 0.7929318439839135, 0.7929318439839135, 0.80969008597223, 0.80969008597223, 0.80969008597223, 0.80969008597223, 0.80969008597223, 0.80969008597223, 0.80969008597223]}], \"recall_score_binary\": [{\"categories\": [\"0\", \"1\", \"2\", \"3\", \"4\", \"5\", \"6\", \"7\", \"8\", \"9\", \"10\", \"11\", \"12\", \"13\", \"14\", \"15\", \"16\", \"17\", \"18\", \"19\", \"20\", \"21\", \"22\", \"23\", \"24\"], \"mode\": \"markers\", \"name\": \"recall_score_binary\", \"stepped\": false, \"type\": \"scatter\", \"data\": [0.07631296599381707, 0.02814420803782506, 0.8192053100563739, 0.008699763593380615, 0.0, 0.0, 0.009444444444444445, 0.011923076923076923, 0.0, 0.0, 0.0, 0.0, 0.021367521367521368, 0.824443535188216, 0.02814420803782506, 0.6771776686670303, 0.01636752136752137, 0.0, 0.03062284051645754, 0.7884115293689762, 0.6374468085106383, 0.018290598290598294, 0.049340789234406254, 0.04758865248226951, 0.005]}, {\"categories\": [\"0\", \"1\", \"2\", \"3\", \"4\", \"5\", \"6\", \"7\", \"8\", \"9\", \"10\", \"11\", \"12\", \"13\", \"14\", \"15\", \"16\", \"17\", \"18\", \"19\", \"20\", \"21\", \"22\", \"23\", \"24\"], \"mode\": \"lines\", \"name\": \"recall_score_binary_max\", \"stepped\": true, \"type\": \"scatter\", \"data\": [0.07631296599381707, 0.07631296599381707, 0.8192053100563739, 0.8192053100563739, 0.8192053100563739, 0.8192053100563739, 0.8192053100563739, 0.8192053100563739, 0.8192053100563739, 0.8192053100563739, 0.8192053100563739, 0.8192053100563739, 0.8192053100563739, 0.824443535188216, 0.824443535188216, 0.824443535188216, 0.824443535188216, 0.824443535188216, 0.824443535188216, 0.824443535188216, 0.824443535188216, 0.824443535188216, 0.824443535188216, 0.824443535188216, 0.824443535188216]}], \"AUC_binary\": [{\"categories\": [\"0\", \"1\", \"2\", \"3\", \"4\", \"5\", \"6\", \"7\", \"8\", \"9\", \"10\", \"11\", \"12\", \"13\", \"14\", \"15\", \"16\", \"17\", \"18\", \"19\", \"20\", \"21\", \"22\", \"23\", \"24\"], \"mode\": \"markers\", \"name\": \"AUC_binary\", \"stepped\": false, \"type\": \"scatter\", \"data\": [0.8216915335565398, 0.8440154213155109, 0.8340731365875687, 0.7998358571263898, 0.84882955910492, 0.8454401621490246, 0.8042395333590395, 0.8512935164134208, 0.8013692759167285, 0.8307208653854319, 0.8299683437653819, 0.8305653443224615, 0.8509333222838338, 0.8481665965804535, 0.810229488794729, 0.8362945516439699, 0.8482830757341493, 0.8374228637913632, 0.8440679302716102, 0.8255964873166786, 0.8213814371091093, 0.8389883935969934, 0.8164859830203482, 0.8510749891172088, 0.8493568443511684]}, {\"categories\": [\"0\", \"1\", \"2\", \"3\", \"4\", \"5\", \"6\", \"7\", \"8\", \"9\", \"10\", \"11\", \"12\", \"13\", \"14\", \"15\", \"16\", \"17\", \"18\", \"19\", \"20\", \"21\", \"22\", \"23\", \"24\"], \"mode\": \"lines\", \"name\": \"AUC_binary_max\", \"stepped\": true, \"type\": \"scatter\", \"data\": [0.8216915335565398, 0.8440154213155109, 0.8440154213155109, 0.8440154213155109, 0.84882955910492, 0.84882955910492, 0.84882955910492, 0.8512935164134208, 0.8512935164134208, 0.8512935164134208, 0.8512935164134208, 0.8512935164134208, 0.8512935164134208, 0.8512935164134208, 0.8512935164134208, 0.8512935164134208, 0.8512935164134208, 0.8512935164134208, 0.8512935164134208, 0.8512935164134208, 0.8512935164134208, 0.8512935164134208, 0.8512935164134208, 0.8512935164134208, 0.8512935164134208]}], \"accuracy\": [{\"categories\": [\"0\", \"1\", \"2\", \"3\", \"4\", \"5\", \"6\", \"7\", \"8\", \"9\", \"10\", \"11\", \"12\", \"13\", \"14\", \"15\", \"16\", \"17\", \"18\", \"19\", \"20\", \"21\", \"22\", \"23\", \"24\"], \"mode\": \"markers\", \"name\": \"accuracy\", \"stepped\": false, \"type\": \"scatter\", \"data\": [0.9481409001956947, 0.950880626223092, 0.7037181996086106, 0.950880626223092, 0.9512720156555773, 0.9512720156555773, 0.9514677103718199, 0.949706457925636, 0.9512720156555773, 0.9512720156555773, 0.9512720156555773, 0.9510763209393346, 0.9500978473581213, 0.7211350293542074, 0.9516634050880626, 0.8111545988258317, 0.949706457925636, 0.9512720156555773, 0.9518590998043053, 0.7201565557729942, 0.8093933463796477, 0.9512720156555773, 0.949119373776908, 0.9524461839530332, 0.9504892367906066]}, {\"categories\": [\"0\", \"1\", \"2\", \"3\", \"4\", \"5\", \"6\", \"7\", \"8\", \"9\", \"10\", \"11\", \"12\", \"13\", \"14\", \"15\", \"16\", \"17\", \"18\", \"19\", \"20\", \"21\", \"22\", \"23\", \"24\"], \"mode\": \"lines\", \"name\": \"accuracy_max\", \"stepped\": true, \"type\": \"scatter\", \"data\": [0.9481409001956947, 0.950880626223092, 0.950880626223092, 0.950880626223092, 0.9512720156555773, 0.9512720156555773, 0.9514677103718199, 0.9514677103718199, 0.9514677103718199, 0.9514677103718199, 0.9514677103718199, 0.9514677103718199, 0.9514677103718199, 0.9514677103718199, 0.9516634050880626, 0.9516634050880626, 0.9516634050880626, 0.9516634050880626, 0.9518590998043053, 0.9518590998043053, 0.9518590998043053, 0.9518590998043053, 0.9518590998043053, 0.9524461839530332, 0.9524461839530332]}]}, \"metricName\": null, \"primaryMetricName\": \"accuracy\", \"showLegend\": false}, \"run_metrics\": [{\"name\": \"experiment_status\", \"run_id\": \"AutoML_4ab0a4e3-709f-4fe5-90bb-e237e0f21eda\", \"categories\": [0, 1, 2, 3, 4, 5, 6, 7, 8, 9, 10, 11, 12, 13, 14], \"series\": [{\"data\": [\"DatasetEvaluation\", \"FeaturesGeneration\", \"DatasetFeaturization\", \"DatasetFeaturizationCompleted\", \"DatasetBalancing\", \"DatasetCrossValidationSplit\", \"ModelSelection\", \"BestRunExplainModel\", \"ModelExplanationDataSetSetup\", \"PickSurrogateModel\", \"EngineeredFeatureExplanations\", \"EngineeredFeatureExplanations\", \"RawFeaturesExplanations\", \"RawFeaturesExplanations\", \"BestRunExplainModel\"]}]}, {\"name\": \"experiment_status_description\", \"run_id\": \"AutoML_4ab0a4e3-709f-4fe5-90bb-e237e0f21eda\", \"categories\": [0, 1, 2, 3, 4, 5, 6, 7, 8, 9, 10, 11, 12, 13, 14], \"series\": [{\"data\": [\"Gathering dataset statistics.\", \"Generating features for the dataset.\", \"Beginning to fit featurizers and featurize the dataset.\", \"Completed fit featurizers and featurizing the dataset.\", \"Performing class balancing sweeping\", \"Generating individually featurized CV splits.\", \"Beginning model selection.\", \"Best run model explanations started\", \"Model explanations data setup completed\", \"Choosing LightGBM as the surrogate model for explanations\", \"Computation of engineered features started\", \"Computation of engineered features completed\", \"Computation of raw features started\", \"Computation of raw features completed\", \"Best run model explanations completed\"]}]}, {\"name\": \"balanced_accuracy\", \"run_id\": \"AutoML_4ab0a4e3-709f-4fe5-90bb-e237e0f21eda\", \"categories\": [0], \"series\": [{\"data\": [0.5231788253297633]}]}, {\"name\": \"AUC_weighted\", \"run_id\": \"AutoML_4ab0a4e3-709f-4fe5-90bb-e237e0f21eda\", \"categories\": [0], \"series\": [{\"data\": [0.8510749891172088]}]}, {\"name\": \"precision_score_macro\", \"run_id\": \"AutoML_4ab0a4e3-709f-4fe5-90bb-e237e0f21eda\", \"categories\": [0], \"series\": [{\"data\": [0.8017271545931812]}]}, {\"name\": \"AUC_macro\", \"run_id\": \"AutoML_4ab0a4e3-709f-4fe5-90bb-e237e0f21eda\", \"categories\": [0], \"series\": [{\"data\": [0.8510749891172088]}]}, {\"name\": \"f1_score_macro\", \"run_id\": \"AutoML_4ab0a4e3-709f-4fe5-90bb-e237e0f21eda\", \"categories\": [0], \"series\": [{\"data\": [0.532068346198631]}]}, {\"name\": \"average_precision_score_binary\", \"run_id\": \"AutoML_4ab0a4e3-709f-4fe5-90bb-e237e0f21eda\", \"categories\": [0], \"series\": [{\"data\": [0.2500802201000176]}]}, {\"name\": \"average_precision_score_micro\", \"run_id\": \"AutoML_4ab0a4e3-709f-4fe5-90bb-e237e0f21eda\", \"categories\": [0], \"series\": [{\"data\": [0.9840357406568081]}]}, {\"name\": \"recall_score_micro\", \"run_id\": \"AutoML_4ab0a4e3-709f-4fe5-90bb-e237e0f21eda\", \"categories\": [0], \"series\": [{\"data\": [0.9524461839530332]}]}, {\"name\": \"average_precision_score_macro\", \"run_id\": \"AutoML_4ab0a4e3-709f-4fe5-90bb-e237e0f21eda\", \"categories\": [0], \"series\": [{\"data\": [0.620512123404198]}]}, {\"name\": \"matthews_correlation\", \"run_id\": \"AutoML_4ab0a4e3-709f-4fe5-90bb-e237e0f21eda\", \"categories\": [0], \"series\": [{\"data\": [0.16686795781439923]}]}, {\"name\": \"recall_score_binary\", \"run_id\": \"AutoML_4ab0a4e3-709f-4fe5-90bb-e237e0f21eda\", \"categories\": [0], \"series\": [{\"data\": [0.04758865248226951]}]}, {\"name\": \"accuracy\", \"run_id\": \"AutoML_4ab0a4e3-709f-4fe5-90bb-e237e0f21eda\", \"categories\": [0], \"series\": [{\"data\": [0.9524461839530332]}]}, {\"name\": \"AUC_binary\", \"run_id\": \"AutoML_4ab0a4e3-709f-4fe5-90bb-e237e0f21eda\", \"categories\": [0], \"series\": [{\"data\": [0.8510749891172088]}]}, {\"name\": \"precision_score_micro\", \"run_id\": \"AutoML_4ab0a4e3-709f-4fe5-90bb-e237e0f21eda\", \"categories\": [0], \"series\": [{\"data\": [0.9524461839530332]}]}, {\"name\": \"precision_score_weighted\", \"run_id\": \"AutoML_4ab0a4e3-709f-4fe5-90bb-e237e0f21eda\", \"categories\": [0], \"series\": [{\"data\": [0.9397561058074408]}]}, {\"name\": \"f1_score_binary\", \"run_id\": \"AutoML_4ab0a4e3-709f-4fe5-90bb-e237e0f21eda\", \"categories\": [0], \"series\": [{\"data\": [0.0885685671639738]}]}, {\"name\": \"weighted_accuracy\", \"run_id\": \"AutoML_4ab0a4e3-709f-4fe5-90bb-e237e0f21eda\", \"categories\": [0], \"series\": [{\"data\": [0.9961952387161009]}]}, {\"name\": \"f1_score_weighted\", \"run_id\": \"AutoML_4ab0a4e3-709f-4fe5-90bb-e237e0f21eda\", \"categories\": [0], \"series\": [{\"data\": [0.9324390326705716]}]}, {\"name\": \"AUC_micro\", \"run_id\": \"AutoML_4ab0a4e3-709f-4fe5-90bb-e237e0f21eda\", \"categories\": [0], \"series\": [{\"data\": [0.9839057371869746]}]}, {\"name\": \"recall_score_weighted\", \"run_id\": \"AutoML_4ab0a4e3-709f-4fe5-90bb-e237e0f21eda\", \"categories\": [0], \"series\": [{\"data\": [0.9524461839530332]}]}, {\"name\": \"norm_macro_recall\", \"run_id\": \"AutoML_4ab0a4e3-709f-4fe5-90bb-e237e0f21eda\", \"categories\": [0], \"series\": [{\"data\": [0.046357650659526725]}]}, {\"name\": \"average_precision_score_weighted\", \"run_id\": \"AutoML_4ab0a4e3-709f-4fe5-90bb-e237e0f21eda\", \"categories\": [0], \"series\": [{\"data\": [0.9551344590528797]}]}, {\"name\": \"log_loss\", \"run_id\": \"AutoML_4ab0a4e3-709f-4fe5-90bb-e237e0f21eda\", \"categories\": [0], \"series\": [{\"data\": [0.21759534875637568]}]}, {\"name\": \"precision_score_binary\", \"run_id\": \"AutoML_4ab0a4e3-709f-4fe5-90bb-e237e0f21eda\", \"categories\": [0], \"series\": [{\"data\": [0.6499999999999999]}]}, {\"name\": \"f1_score_micro\", \"run_id\": \"AutoML_4ab0a4e3-709f-4fe5-90bb-e237e0f21eda\", \"categories\": [0], \"series\": [{\"data\": [0.9524461839530332]}]}, {\"name\": \"recall_score_macro\", \"run_id\": \"AutoML_4ab0a4e3-709f-4fe5-90bb-e237e0f21eda\", \"categories\": [0], \"series\": [{\"data\": [0.5231788253297633]}]}], \"run_logs\": \"\\nRun is completed.\", \"graph\": {}, \"widget_settings\": {\"childWidgetDisplay\": \"popup\", \"send_telemetry\": false, \"log_level\": \"INFO\", \"sdk_version\": \"1.33.0\"}, \"loading\": false}"
          },
          "metadata": {}
        }
      ],
      "execution_count": 11,
      "metadata": {
        "gather": {
          "logged": 1632374388114
        },
        "jupyter": {
          "outputs_hidden": false,
          "source_hidden": false
        },
        "nteract": {
          "transient": {
            "deleting": false
          }
        }
      }
    },
    {
      "cell_type": "code",
      "source": [
        "remote_run.wait_for_completion(show_output=True)"
      ],
      "outputs": [
        {
          "output_type": "display_data",
          "data": {
            "text/plain": "<IPython.core.display.HTML object>",
            "text/html": "<table style=\"width:100%\"><tr><th>Experiment</th><th>Id</th><th>Type</th><th>Status</th><th>Details Page</th><th>Docs Page</th></tr><tr><td>automl-stroke</td><td>AutoML_4ab0a4e3-709f-4fe5-90bb-e237e0f21eda</td><td>automl</td><td>Completed</td><td><a href=\"https://ml.azure.com/runs/AutoML_4ab0a4e3-709f-4fe5-90bb-e237e0f21eda?wsid=/subscriptions/bd6c48f0-b2f5-4fd8-b4de-3351b13cbee8/resourcegroups/udacity-nano-degree/workspaces/udacity-courtlin&amp;tid=3920f434-053b-4f53-aa54-b09a04e8f6dd\" target=\"_blank\" rel=\"noopener\">Link to Azure Machine Learning studio</a></td><td><a href=\"https://docs.microsoft.com/en-us/python/api/overview/azure/ml/intro?view=azure-ml-py\" target=\"_blank\" rel=\"noopener\">Link to Documentation</a></td></tr></table>"
          },
          "metadata": {}
        },
        {
          "output_type": "stream",
          "name": "stdout",
          "text": "\n\n****************************************************************************************************\nDATA GUARDRAILS: \n\nTYPE:         Class balancing detection\nSTATUS:       ALERTED\nDESCRIPTION:  To decrease model bias, please cancel the current run and fix balancing problem.\n              Learn more about imbalanced data: https://aka.ms/AutomatedMLImbalancedData\nDETAILS:      Imbalanced data can lead to a falsely perceived positive effect of a model's accuracy because the input data has bias towards one class.\n+---------------------------------+---------------------------------+--------------------------------------+\n|Size of the smallest class       |Name/Label of the smallest class |Number of samples in the training data|\n+=================================+=================================+======================================+\n|249                              |True                             |5110                                  |\n+---------------------------------+---------------------------------+--------------------------------------+\n\n****************************************************************************************************\n\nTYPE:         Missing feature values imputation\nSTATUS:       DONE\nDESCRIPTION:  If the missing values are expected, let the run complete. Otherwise cancel the current run and use a script to customize the handling of missing feature values that may be more appropriate based on the data type and business requirement.\n              Learn more about missing value imputation: https://aka.ms/AutomatedMLFeaturization\nDETAILS:      \n+---------------------------------+---------------------------------+---------------------------------+\n|Column name                      |Missing value count              |Imputation type                  |\n+=================================+=================================+=================================+\n|bmi                              |201                              |mean                             |\n+---------------------------------+---------------------------------+---------------------------------+\n\n****************************************************************************************************\n\nTYPE:         High cardinality feature detection\nSTATUS:       PASSED\nDESCRIPTION:  Your inputs were analyzed, and no high cardinality features were detected.\n              Learn more about high cardinality feature handling: https://aka.ms/AutomatedMLFeaturization\n\n****************************************************************************************************\n\n****************************************************************************************************\nITERATION: The iteration being evaluated.\nPIPELINE: A summary description of the pipeline being evaluated.\nDURATION: Time taken for the current iteration.\nMETRIC: The result of computing score on the fitted pipeline.\nBEST: The best observed score thus far.\n****************************************************************************************************\n\n ITERATION   PIPELINE                                       DURATION      METRIC      BEST\n         0   MaxAbsScaler LightGBM                          0:00:39       0.9481    0.9481\n         1   MaxAbsScaler XGBoostClassifier                 0:00:41       0.9509    0.9509\n         2   MaxAbsScaler ExtremeRandomTrees                0:00:42       0.7037    0.9509\n         3   SparseNormalizer XGBoostClassifier             0:00:38       0.9509    0.9509\n         4   MaxAbsScaler LightGBM                          0:01:26       0.9513    0.9513\n         5   MaxAbsScaler LightGBM                          0:01:27       0.9513    0.9513\n         6   StandardScalerWrapper XGBoostClassifier        0:01:25       0.9515    0.9515\n         7   MaxAbsScaler LogisticRegression                0:00:40       0.9497    0.9515\n        10   SparseNormalizer LightGBM                      0:00:37       0.9513    0.9515\n        11   StandardScalerWrapper XGBoostClassifier        0:00:40       0.9511    0.9515\n         8   StandardScalerWrapper ExtremeRandomTrees       0:00:54       0.9513    0.9515\n         9   StandardScalerWrapper XGBoostClassifier        0:00:36       0.9513    0.9515\n        12   MaxAbsScaler LogisticRegression                0:00:40       0.9501    0.9515\n        13   MaxAbsScaler SGD                               0:00:37       0.7211    0.9515\n        14   StandardScalerWrapper XGBoostClassifier        0:00:38       0.9517    0.9517\n        15   SparseNormalizer RandomForest                  0:00:40       0.8112    0.9517\n        16   StandardScalerWrapper LogisticRegression       0:00:39       0.9497    0.9517\n        17   StandardScalerWrapper RandomForest             0:00:38       0.9513    0.9517\n        18   StandardScalerWrapper XGBoostClassifier        0:00:37       0.9519    0.9519\n        19   TruncatedSVDWrapper RandomForest               0:00:44       0.7202    0.9519\n        20   TruncatedSVDWrapper RandomForest               0:00:55       0.8094    0.9519\n        21   StandardScalerWrapper XGBoostClassifier        0:00:38       0.9513    0.9519\n        22   SparseNormalizer XGBoostClassifier             0:00:37       0.9491    0.9519\n        23    VotingEnsemble                                0:00:50       0.9524    0.9524\n        24    StackEnsemble                                 0:00:52       0.9505    0.9524\n"
        },
        {
          "output_type": "execute_result",
          "execution_count": 12,
          "data": {
            "text/plain": "{'runId': 'AutoML_4ab0a4e3-709f-4fe5-90bb-e237e0f21eda',\n 'target': 'capstone',\n 'status': 'Completed',\n 'startTimeUtc': '2021-09-23T05:01:42.075891Z',\n 'endTimeUtc': '2021-09-23T05:19:30.206177Z',\n 'properties': {'num_iterations': '25',\n  'training_type': 'TrainFull',\n  'acquisition_function': 'EI',\n  'primary_metric': 'accuracy',\n  'train_split': '0',\n  'acquisition_parameter': '0',\n  'num_cross_validation': '5',\n  'target': 'capstone',\n  'AMLSettingsJsonString': '{\"path\":null,\"name\":\"automl-stroke\",\"subscription_id\":\"bd6c48f0-b2f5-4fd8-b4de-3351b13cbee8\",\"resource_group\":\"udacity-nano-degree\",\"workspace_name\":\"udacity-courtlin\",\"region\":\"eastus2\",\"compute_target\":\"capstone\",\"spark_service\":null,\"azure_service\":\"remote\",\"many_models\":false,\"pipeline_fetch_max_batch_size\":1,\"enable_batch_run\":false,\"enable_run_restructure\":false,\"start_auxiliary_runs_before_parent_complete\":false,\"enable_code_generation\":false,\"iterations\":25,\"primary_metric\":\"accuracy\",\"task_type\":\"classification\",\"data_script\":null,\"test_size\":0.0,\"validation_size\":0.0,\"n_cross_validations\":5,\"y_min\":null,\"y_max\":null,\"num_classes\":null,\"featurization\":\"auto\",\"_ignore_package_version_incompatibilities\":false,\"is_timeseries\":false,\"max_cores_per_iteration\":1,\"max_concurrent_iterations\":4,\"iteration_timeout_minutes\":null,\"mem_in_mb\":null,\"enforce_time_on_windows\":false,\"experiment_timeout_minutes\":30,\"experiment_exit_score\":null,\"whitelist_models\":null,\"blacklist_algos\":[\"TensorFlowLinearClassifier\",\"TensorFlowDNN\"],\"supported_models\":[\"LightGBM\",\"AveragedPerceptronClassifier\",\"GradientBoosting\",\"TensorFlowDNN\",\"ExtremeRandomTrees\",\"BernoulliNaiveBayes\",\"KNN\",\"SGD\",\"MultinomialNaiveBayes\",\"LogisticRegression\",\"TensorFlowLinearClassifier\",\"LinearSVM\",\"DecisionTree\",\"SVM\",\"XGBoostClassifier\",\"RandomForest\"],\"private_models\":[],\"auto_blacklist\":true,\"blacklist_samples_reached\":false,\"exclude_nan_labels\":true,\"verbosity\":20,\"_debug_log\":\"azureml_automl.log\",\"show_warnings\":false,\"model_explainability\":true,\"service_url\":null,\"sdk_url\":null,\"sdk_packages\":null,\"enable_onnx_compatible_models\":false,\"enable_split_onnx_featurizer_estimator_models\":false,\"vm_type\":\"STANDARD_DS12_V2\",\"telemetry_verbosity\":20,\"send_telemetry\":true,\"enable_dnn\":false,\"scenario\":\"SDK-1.13.0\",\"environment_label\":null,\"save_mlflow\":false,\"force_text_dnn\":false,\"enable_feature_sweeping\":true,\"enable_early_stopping\":true,\"early_stopping_n_iters\":10,\"metrics\":null,\"enable_metric_confidence\":false,\"enable_ensembling\":true,\"enable_stack_ensembling\":true,\"ensemble_iterations\":15,\"enable_tf\":false,\"enable_subsampling\":false,\"subsample_seed\":null,\"enable_nimbusml\":false,\"enable_streaming\":false,\"force_streaming\":false,\"track_child_runs\":true,\"allowed_private_models\":[],\"label_column_name\":\"stroke\",\"weight_column_name\":null,\"cv_split_column_names\":null,\"enable_local_managed\":false,\"_local_managed_run_id\":null,\"cost_mode\":1,\"lag_length\":0,\"metric_operation\":\"maximize\",\"preprocess\":true}',\n  'DataPrepJsonString': '{\\\\\"training_data\\\\\": {\\\\\"datasetId\\\\\": \\\\\"a27e1f62-cf55-4c30-9a82-0bbad12df2ab\\\\\"}, \\\\\"datasets\\\\\": 0}',\n  'EnableSubsampling': 'False',\n  'runTemplate': 'AutoML',\n  'azureml.runsource': 'automl',\n  'display_task_type': 'classification',\n  'dependencies_versions': '{\"azureml-widgets\": \"1.33.0\", \"azureml-train\": \"1.33.0\", \"azureml-train-restclients-hyperdrive\": \"1.33.0\", \"azureml-train-core\": \"1.33.0\", \"azureml-train-automl\": \"1.33.0\", \"azureml-train-automl-runtime\": \"1.33.0\", \"azureml-train-automl-client\": \"1.33.0\", \"azureml-tensorboard\": \"1.33.0\", \"azureml-telemetry\": \"1.33.0\", \"azureml-sdk\": \"1.33.0\", \"azureml-samples\": \"0+unknown\", \"azureml-responsibleai\": \"1.33.0\", \"azureml-pipeline\": \"1.33.0\", \"azureml-pipeline-steps\": \"1.33.0\", \"azureml-pipeline-core\": \"1.33.0\", \"azureml-opendatasets\": \"1.33.0\", \"azureml-mlflow\": \"1.33.0\", \"azureml-interpret\": \"1.33.0\", \"azureml-explain-model\": \"1.33.0\", \"azureml-defaults\": \"1.33.0\", \"azureml-dataset-runtime\": \"1.33.0\", \"azureml-dataprep\": \"2.20.1\", \"azureml-dataprep-rslex\": \"1.18.0\", \"azureml-dataprep-native\": \"38.0.0\", \"azureml-datadrift\": \"1.33.0\", \"azureml-core\": \"1.33.0\", \"azureml-contrib-services\": \"1.33.0\", \"azureml-contrib-server\": \"1.33.0\", \"azureml-contrib-reinforcementlearning\": \"1.33.0\", \"azureml-contrib-pipeline-steps\": \"1.33.0\", \"azureml-contrib-notebook\": \"1.33.0\", \"azureml-contrib-fairness\": \"1.33.0\", \"azureml-contrib-dataset\": \"1.33.0\", \"azureml-cli-common\": \"1.33.0\", \"azureml-automl-runtime\": \"1.33.0\", \"azureml-automl-dnn-nlp\": \"1.33.0\", \"azureml-automl-core\": \"1.33.0\", \"azureml-accel-models\": \"1.33.0\"}',\n  '_aml_system_scenario_identification': 'Remote.Parent',\n  'ClientType': 'SDK',\n  'environment_cpu_name': 'AzureML-AutoML',\n  'environment_cpu_label': 'prod',\n  'environment_gpu_name': 'AzureML-AutoML-GPU',\n  'environment_gpu_label': 'prod',\n  'root_attribution': 'automl',\n  'attribution': 'AutoML',\n  'Orchestrator': 'AutoML',\n  'CancelUri': 'https://eastus2.api.azureml.ms/jasmine/v1.0/subscriptions/bd6c48f0-b2f5-4fd8-b4de-3351b13cbee8/resourceGroups/udacity-nano-degree/providers/Microsoft.MachineLearningServices/workspaces/udacity-courtlin/experimentids/c12ba66d-8fe7-450a-84a3-d3aba995318e/cancel/AutoML_4ab0a4e3-709f-4fe5-90bb-e237e0f21eda',\n  'ClientSdkVersion': '1.34.0',\n  'snapshotId': '00000000-0000-0000-0000-000000000000',\n  'SetupRunId': 'AutoML_4ab0a4e3-709f-4fe5-90bb-e237e0f21eda_setup',\n  'SetupRunContainerId': 'dcid.AutoML_4ab0a4e3-709f-4fe5-90bb-e237e0f21eda_setup',\n  'FeaturizationRunJsonPath': 'featurizer_container.json',\n  'FeaturizationRunId': 'AutoML_4ab0a4e3-709f-4fe5-90bb-e237e0f21eda_featurize',\n  'ProblemInfoJsonString': '{\"dataset_num_categorical\": 0, \"is_sparse\": true, \"subsampling\": false, \"has_extra_col\": true, \"dataset_classes\": 2, \"dataset_features\": 20, \"dataset_samples\": 5110, \"single_frequency_class_detected\": false}',\n  'ModelExplainRunId': 'AutoML_4ab0a4e3-709f-4fe5-90bb-e237e0f21eda_ModelExplain'},\n 'inputDatasets': [{'dataset': {'id': 'a27e1f62-cf55-4c30-9a82-0bbad12df2ab'}, 'consumptionDetails': {'type': 'RunInput', 'inputName': 'training_data', 'mechanism': 'Direct'}}],\n 'outputDatasets': [],\n 'logFiles': {},\n 'submittedBy': 'Courtlin Holt-Nguyen'}"
          },
          "metadata": {}
        }
      ],
      "execution_count": 12,
      "metadata": {
        "jupyter": {
          "source_hidden": false,
          "outputs_hidden": false
        },
        "nteract": {
          "transient": {
            "deleting": false
          }
        },
        "gather": {
          "logged": 1632374538073
        }
      }
    },
    {
      "cell_type": "code",
      "source": [
        "remote_run"
      ],
      "outputs": [
        {
          "output_type": "execute_result",
          "execution_count": 13,
          "data": {
            "text/plain": "Run(Experiment: automl-stroke,\nId: AutoML_4ab0a4e3-709f-4fe5-90bb-e237e0f21eda,\nType: automl,\nStatus: Completed)",
            "text/html": "<table style=\"width:100%\"><tr><th>Experiment</th><th>Id</th><th>Type</th><th>Status</th><th>Details Page</th><th>Docs Page</th></tr><tr><td>automl-stroke</td><td>AutoML_4ab0a4e3-709f-4fe5-90bb-e237e0f21eda</td><td>automl</td><td>Completed</td><td><a href=\"https://ml.azure.com/runs/AutoML_4ab0a4e3-709f-4fe5-90bb-e237e0f21eda?wsid=/subscriptions/bd6c48f0-b2f5-4fd8-b4de-3351b13cbee8/resourcegroups/udacity-nano-degree/workspaces/udacity-courtlin&amp;tid=3920f434-053b-4f53-aa54-b09a04e8f6dd\" target=\"_blank\" rel=\"noopener\">Link to Azure Machine Learning studio</a></td><td><a href=\"https://docs.microsoft.com/en-us/python/api/overview/azure/ml/intro?view=azure-ml-py\" target=\"_blank\" rel=\"noopener\">Link to Documentation</a></td></tr></table>"
          },
          "metadata": {}
        }
      ],
      "execution_count": 13,
      "metadata": {
        "jupyter": {
          "source_hidden": false,
          "outputs_hidden": false
        },
        "nteract": {
          "transient": {
            "deleting": false
          }
        },
        "gather": {
          "logged": 1632374538542
        }
      }
    },
    {
      "cell_type": "markdown",
      "source": [
        "## Best Model\n",
        "\n",
        "TODO: In the cell below, get the best model from the automl experiments and display all the properties of the model.\n",
        "\n"
      ],
      "metadata": {}
    },
    {
      "cell_type": "code",
      "source": [
        "# Retrieve and save the best automl model\r\n",
        "best_model, model = remote_run.get_output()\r\n",
        "print(best_model)\r\n",
        "print(model.steps)"
      ],
      "outputs": [
        {
          "output_type": "stream",
          "name": "stderr",
          "text": "WARNING:root:The version of the SDK does not match the version the model was trained on.\nWARNING:root:The consistency in the result may not be guaranteed.\nWARNING:root:Package:azureml-automl-core, training version:1.34.0, current version:1.33.0\nPackage:azureml-automl-runtime, training version:1.34.0, current version:1.33.0\nPackage:azureml-core, training version:1.34.0, current version:1.33.0\nPackage:azureml-dataprep, training version:2.22.2, current version:2.20.1\nPackage:azureml-dataprep-rslex, training version:1.20.2, current version:1.18.0\nPackage:azureml-dataset-runtime, training version:1.34.0, current version:1.33.0\nPackage:azureml-defaults, training version:1.34.0, current version:1.33.0\nPackage:azureml-interpret, training version:1.34.0, current version:1.33.0\nPackage:azureml-mlflow, training version:1.34.0, current version:1.33.0\nPackage:azureml-pipeline-core, training version:1.34.0, current version:1.33.0\nPackage:azureml-responsibleai, training version:1.34.0, current version:1.33.0\nPackage:azureml-telemetry, training version:1.34.0, current version:1.33.0\nPackage:azureml-train-automl-client, training version:1.34.0, current version:1.33.0\nPackage:azureml-train-automl-runtime, training version:1.34.0, current version:1.33.0\nWARNING:root:Below packages were used for model training but missing in current environment:\nWARNING:root:Package:azureml-inference-server-http, training version:0.3.1\nWARNING:root:Please ensure the version of your local conda dependencies match the version on which your model was trained in order to properly retrieve your model.\n"
        },
        {
          "output_type": "stream",
          "name": "stdout",
          "text": "Run(Experiment: automl-stroke,\nId: AutoML_4ab0a4e3-709f-4fe5-90bb-e237e0f21eda_23,\nType: azureml.scriptrun,\nStatus: Completed)\n[('datatransformer', DataTransformer(\n    task='classification',\n    is_onnx_compatible=False,\n    enable_feature_sweeping=True,\n    enable_dnn=False,\n    force_text_dnn=False,\n    feature_sweeping_timeout=86400,\n    featurization_config=None,\n    is_cross_validation=True,\n    feature_sweeping_config={}\n)), ('prefittedsoftvotingclassifier', PreFittedSoftVotingClassifier(\n    estimators=[('18', Pipeline(\n        memory=None,\n        steps=[('standardscalerwrapper', StandardScalerWrapper(\n            copy=True,\n            with_mean=False,\n            with_std=False\n        )), ('xgboostclassifier', XGBoostClassifier(\n            random_state=0,\n            n_jobs=1,\n            problem_info=ProblemInfo(\n                gpu_training_param_dict={'processing_unit_type': 'cpu'}\n            ),\n            booster='gbtree',\n            colsample_bytree=0.7,\n            eta=0.1,\n            gamma=0.1,\n            max_depth=9,\n            max_leaves=511,\n            n_estimators=25,\n            objective='reg:logistic',\n            reg_alpha=0,\n            reg_lambda=1.7708333333333335,\n            subsample=0.9,\n            tree_method='auto'\n        ))],\n        verbose=False\n    )), ('14', Pipeline(\n        memory=None,\n        steps=[('standardscalerwrapper', StandardScalerWrapper(\n            copy=True,\n            with_mean=False,\n            with_std=False\n        )), ('xgboostclassifier', XGBoostClassifier(\n            random_state=0,\n            n_jobs=1,\n            problem_info=ProblemInfo(\n                gpu_training_param_dict={'processing_unit_type': 'cpu'}\n            ),\n            booster='gbtree',\n            colsample_bytree=1,\n            eta=0.3,\n            gamma=0,\n            max_depth=10,\n            max_leaves=511,\n            n_estimators=10,\n            objective='reg:logistic',\n            reg_alpha=2.1875,\n            reg_lambda=0.4166666666666667,\n            subsample=0.5,\n            tree_method='auto'\n        ))],\n        verbose=False\n    )), ('6', Pipeline(\n        memory=None,\n        steps=[('standardscalerwrapper', StandardScalerWrapper(\n            copy=True,\n            with_mean=False,\n            with_std=False\n        )), ('xgboostclassifier', XGBoostClassifier(\n            random_state=0,\n            n_jobs=1,\n            problem_info=ProblemInfo(\n                gpu_training_param_dict={'processing_unit_type': 'cpu'}\n            ),\n            booster='gbtree',\n            colsample_bytree=0.5,\n            eta=0.3,\n            gamma=0,\n            max_depth=10,\n            max_leaves=255,\n            n_estimators=10,\n            objective='reg:logistic',\n            reg_alpha=0,\n            reg_lambda=0.10416666666666667,\n            subsample=0.7,\n            tree_method='auto'\n        ))],\n        verbose=False\n    )), ('21', Pipeline(\n        memory=None,\n        steps=[('standardscalerwrapper', StandardScalerWrapper(\n            copy=True,\n            with_mean=False,\n            with_std=False\n        )), ('xgboostclassifier', XGBoostClassifier(\n            random_state=0,\n            n_jobs=1,\n            problem_info=ProblemInfo(\n                gpu_training_param_dict={'processing_unit_type': 'cpu'}\n            ),\n            booster='gbtree',\n            colsample_bytree=0.5,\n            eta=0.2,\n            gamma=0,\n            max_depth=7,\n            max_leaves=7,\n            n_estimators=25,\n            objective='reg:logistic',\n            reg_alpha=0,\n            reg_lambda=0.20833333333333334,\n            subsample=1,\n            tree_method='auto'\n        ))],\n        verbose=False\n    )), ('17', Pipeline(\n        memory=None,\n        steps=[('standardscalerwrapper', StandardScalerWrapper(\n            copy=True,\n            with_mean=False,\n            with_std=False\n        )), ('randomforestclassifier', RandomForestClassifier(\n            bootstrap=False,\n            ccp_alpha=0.0,\n            class_weight=None,\n            criterion='entropy',\n            max_depth=None,\n            max_features=0.1,\n            max_leaf_nodes=None,\n            max_samples=None,\n            min_impurity_decrease=0.0,\n            min_impurity_split=None,\n            min_samples_leaf=0.01,\n            min_samples_split=0.01,\n            min_weight_fraction_leaf=0.0,\n            n_estimators=50,\n            n_jobs=1,\n            oob_score=False,\n            random_state=None,\n            verbose=0,\n            warm_start=False\n        ))],\n        verbose=False\n    )), ('4', Pipeline(\n        memory=None,\n        steps=[('maxabsscaler', MaxAbsScaler(\n            copy=True\n        )), ('lightgbmclassifier', LightGBMClassifier(\n            boosting_type='gbdt',\n            colsample_bytree=0.6933333333333332,\n            learning_rate=0.09473736842105263,\n            max_bin=110,\n            max_depth=8,\n            min_child_weight=6,\n            min_data_in_leaf=0.003457931034482759,\n            min_split_gain=1,\n            n_estimators=25,\n            num_leaves=227,\n            reg_alpha=0.9473684210526315,\n            reg_lambda=0.42105263157894735,\n            subsample=0.49526315789473685,\n            random_state=None,\n            n_jobs=1,\n            problem_info=ProblemInfo()\n        ))],\n        verbose=False\n    )), ('1', Pipeline(\n        memory=None,\n        steps=[('maxabsscaler', MaxAbsScaler(\n            copy=True\n        )), ('xgboostclassifier', XGBoostClassifier(\n            random_state=0,\n            n_jobs=1,\n            problem_info=ProblemInfo(\n                gpu_training_param_dict={'processing_unit_type': 'cpu'}\n            ),\n            tree_method='auto'\n        ))],\n        verbose=False\n    )), ('22', Pipeline(\n        memory=None,\n        steps=[('sparsenormalizer', Normalizer(\n            copy=True,\n            norm='l1'\n        )), ('xgboostclassifier', XGBoostClassifier(\n            random_state=0,\n            n_jobs=1,\n            problem_info=ProblemInfo(\n                gpu_training_param_dict={'processing_unit_type': 'cpu'}\n            ),\n            booster='gbtree',\n            colsample_bylevel=1,\n            colsample_bytree=1,\n            eta=0.2,\n            gamma=0,\n            max_depth=10,\n            max_leaves=0,\n            n_estimators=10,\n            objective='reg:logistic',\n            reg_alpha=1.3541666666666667,\n            reg_lambda=1.4583333333333335,\n            subsample=1,\n            tree_method='auto'\n        ))],\n        verbose=False\n    )), ('0', Pipeline(\n        memory=None,\n        steps=[('maxabsscaler', MaxAbsScaler(\n            copy=True\n        )), ('lightgbmclassifier', LightGBMClassifier(\n            min_data_in_leaf=20,\n            random_state=None,\n            n_jobs=1,\n            problem_info=ProblemInfo()\n        ))],\n        verbose=False\n    )), ('13', Pipeline(\n        memory=None,\n        steps=[('maxabsscaler', MaxAbsScaler(\n            copy=True\n        )), ('sgdclassifierwrapper', SGDClassifierWrapper(\n            alpha=7.5510448979591835,\n            class_weight='balanced',\n            eta0=0.001,\n            fit_intercept=True,\n            l1_ratio=0.42857142857142855,\n            learning_rate='constant',\n            loss='modified_huber',\n            max_iter=1000,\n            penalty='none',\n            power_t=0.7777777777777777,\n            tol=0.0001,\n            random_state=None,\n            n_jobs=1\n        ))],\n        verbose=False\n    ))],\n    weights=[0.16666666666666666, 0.08333333333333333, 0.08333333333333333, 0.08333333333333333, 0.08333333333333333, 0.08333333333333333, 0.08333333333333333, 0.08333333333333333, 0.08333333333333333, 0.16666666666666666],\n    flatten_transform=None,\n    classification_labels=array([1, 0])\n))]\n"
        }
      ],
      "execution_count": 14,
      "metadata": {
        "gather": {
          "logged": 1632374555575
        },
        "jupyter": {
          "outputs_hidden": false,
          "source_hidden": false
        },
        "nteract": {
          "transient": {
            "deleting": false
          }
        }
      }
    },
    {
      "cell_type": "code",
      "source": [
        "print(model)"
      ],
      "outputs": [
        {
          "output_type": "stream",
          "name": "stdout",
          "text": "Pipeline(memory=None,\n         steps=[('datatransformer',\n                 DataTransformer(enable_dnn=False, enable_feature_sweeping=True, feature_sweeping_config={}, feature_sweeping_timeout=86400, featurization_config=None, force_text_dnn=False, is_cross_validation=True, is_onnx_compatible=False, observer=None, task='classification', working_dir='/mnt/batch/tasks/shared/LS_root/mount...\n), random_state=0, reg_alpha=1.3541666666666667, reg_lambda=1.4583333333333335, subsample=1, tree_method='auto'))], verbose=False)), ('0', Pipeline(memory=None, steps=[('maxabsscaler', MaxAbsScaler(copy=True)), ('lightgbmclassifier', LightGBMClassifier(min_data_in_leaf=20, n_jobs=1, problem_info=ProblemInfo(), random_state=None))], verbose=False)), ('13', Pipeline(memory=None, steps=[('maxabsscaler', MaxAbsScaler(copy=True)), ('sgdclassifierwrapper', SGDClassifierWrapper(alpha=7.5510448979591835, class_weight='balanced', eta0=0.001, fit_intercept=True, l1_ratio=0.42857142857142855, learning_rate='constant', loss='modified_huber', max_iter=1000, n_jobs=1, penalty='none', power_t=0.7777777777777777, random_state=None, tol=0.0001))], verbose=False))], flatten_transform=None, weights=[0.16666666666666666, 0.08333333333333333, 0.08333333333333333, 0.08333333333333333, 0.08333333333333333, 0.08333333333333333, 0.08333333333333333, 0.08333333333333333, 0.08333333333333333, 0.16666666666666666]))],\n         verbose=False)\nY_transformer(['LabelEncoder', LabelEncoder()])\n"
        }
      ],
      "execution_count": 15,
      "metadata": {
        "jupyter": {
          "source_hidden": false,
          "outputs_hidden": false
        },
        "nteract": {
          "transient": {
            "deleting": false
          }
        },
        "gather": {
          "logged": 1632374555909
        }
      }
    },
    {
      "cell_type": "code",
      "source": [
        "remote_run.get_metrics()"
      ],
      "outputs": [
        {
          "output_type": "execute_result",
          "execution_count": 16,
          "data": {
            "text/plain": "{'experiment_status': ['DatasetEvaluation',\n  'FeaturesGeneration',\n  'DatasetFeaturization',\n  'DatasetFeaturizationCompleted',\n  'DatasetBalancing',\n  'DatasetCrossValidationSplit',\n  'ModelSelection',\n  'BestRunExplainModel',\n  'ModelExplanationDataSetSetup',\n  'PickSurrogateModel',\n  'EngineeredFeatureExplanations',\n  'EngineeredFeatureExplanations',\n  'RawFeaturesExplanations',\n  'RawFeaturesExplanations',\n  'BestRunExplainModel'],\n 'experiment_status_description': ['Gathering dataset statistics.',\n  'Generating features for the dataset.',\n  'Beginning to fit featurizers and featurize the dataset.',\n  'Completed fit featurizers and featurizing the dataset.',\n  'Performing class balancing sweeping',\n  'Generating individually featurized CV splits.',\n  'Beginning model selection.',\n  'Best run model explanations started',\n  'Model explanations data setup completed',\n  'Choosing LightGBM as the surrogate model for explanations',\n  'Computation of engineered features started',\n  'Computation of engineered features completed',\n  'Computation of raw features started',\n  'Computation of raw features completed',\n  'Best run model explanations completed'],\n 'balanced_accuracy': 0.5231788253297633,\n 'AUC_weighted': 0.8510749891172088,\n 'precision_score_macro': 0.8017271545931812,\n 'AUC_macro': 0.8510749891172088,\n 'f1_score_macro': 0.532068346198631,\n 'average_precision_score_binary': 0.2500802201000176,\n 'average_precision_score_micro': 0.9840357406568081,\n 'recall_score_micro': 0.9524461839530332,\n 'average_precision_score_macro': 0.620512123404198,\n 'matthews_correlation': 0.16686795781439923,\n 'recall_score_binary': 0.04758865248226951,\n 'accuracy': 0.9524461839530332,\n 'AUC_binary': 0.8510749891172088,\n 'precision_score_micro': 0.9524461839530332,\n 'precision_score_weighted': 0.9397561058074408,\n 'f1_score_binary': 0.0885685671639738,\n 'weighted_accuracy': 0.9961952387161009,\n 'f1_score_weighted': 0.9324390326705716,\n 'AUC_micro': 0.9839057371869746,\n 'recall_score_weighted': 0.9524461839530332,\n 'norm_macro_recall': 0.046357650659526725,\n 'average_precision_score_weighted': 0.9551344590528797,\n 'log_loss': 0.21759534875637568,\n 'precision_score_binary': 0.6499999999999999,\n 'f1_score_micro': 0.9524461839530332,\n 'recall_score_macro': 0.5231788253297633}"
          },
          "metadata": {}
        }
      ],
      "execution_count": 16,
      "metadata": {
        "jupyter": {
          "source_hidden": false,
          "outputs_hidden": false
        },
        "nteract": {
          "transient": {
            "deleting": false
          }
        },
        "gather": {
          "logged": 1632374558886
        }
      }
    },
    {
      "cell_type": "code",
      "source": [
        "#TODO: Save the best model"
      ],
      "outputs": [],
      "execution_count": 17,
      "metadata": {
        "gather": {
          "logged": 1632374559192
        },
        "jupyter": {
          "outputs_hidden": false,
          "source_hidden": false
        },
        "nteract": {
          "transient": {
            "deleting": false
          }
        }
      }
    },
    {
      "cell_type": "markdown",
      "source": [
        "## Model Deployment\n",
        "\n",
        "Remember you have to deploy only one of the two models you trained.. Perform the steps in the rest of this notebook only if you wish to deploy this model.\n",
        "\n",
        "TODO: In the cell below, register the model, create an inference config and deploy the model as a web service."
      ],
      "metadata": {}
    },
    {
      "cell_type": "code",
      "source": [
        "# Register the best model with Azure\r\n",
        "model = best_model.register_model(model_name='automl-best-stroke-model',model_path='outputs/model.pkl')"
      ],
      "outputs": [],
      "execution_count": 18,
      "metadata": {
        "gather": {
          "logged": 1632374559726
        },
        "jupyter": {
          "outputs_hidden": false,
          "source_hidden": false
        },
        "nteract": {
          "transient": {
            "deleting": false
          }
        }
      }
    },
    {
      "cell_type": "code",
      "source": [
        "# Get the AutoML environment details with its dependencies\r\n",
        "environment = Environment.get(ws, \"AzureML-AutoML\")"
      ],
      "outputs": [],
      "execution_count": 28,
      "metadata": {
        "jupyter": {
          "source_hidden": false,
          "outputs_hidden": false
        },
        "nteract": {
          "transient": {
            "deleting": false
          }
        },
        "gather": {
          "logged": 1632374934391
        }
      }
    },
    {
      "cell_type": "code",
      "source": [
        "print(environment)"
      ],
      "outputs": [
        {
          "output_type": "stream",
          "name": "stdout",
          "text": "Environment(Name: AzureML-AutoML,\nVersion: 83)\n"
        }
      ],
      "execution_count": 29,
      "metadata": {
        "jupyter": {
          "source_hidden": false,
          "outputs_hidden": false
        },
        "nteract": {
          "transient": {
            "deleting": false
          }
        },
        "gather": {
          "logged": 1632374937721
        }
      }
    },
    {
      "cell_type": "code",
      "source": [
        "inference_config = InferenceConfig(entry_script='scoring.py',\r\n",
        "                                   environment=environment)\r\n",
        "service_name = 'automl-best-stroke-deployed'\r\n",
        "deployment_config = AciWebservice.deploy_configuration(cpu_cores=1, memory_gb=1, enable_app_insights=True, auth_enabled=True)\r\n",
        "\r\n",
        "service = Model.deploy(workspace=ws,\r\n",
        "                       name=service_name,\r\n",
        "                       models=[model],\r\n",
        "                       inference_config=inference_config,\r\n",
        "                       deployment_config=deployment_config,                       \r\n",
        "                       overwrite=True\r\n",
        "                      )\r\n",
        "service.wait_for_deployment(show_output=True)\r\n",
        "\r\n",
        "scoring_uri = service.scoring_uri\r\n",
        "print(scoring_uri)"
      ],
      "outputs": [
        {
          "output_type": "stream",
          "name": "stdout",
          "text": "Tips: You can try get_logs(): https://aka.ms/debugimage#dockerlog or local deployment: https://aka.ms/debugimage#debug-locally to debug if deployment takes longer than 10 minutes.\nRunning\n2021-09-23 05:29:06+00:00 Creating Container Registry if not exists.\n2021-09-23 05:29:06+00:00 Registering the environment.\n2021-09-23 05:29:07+00:00 Use the existing image.\n2021-09-23 05:29:07+00:00 Generating deployment configuration.\n2021-09-23 05:29:08+00:00 Submitting deployment to compute.\n2021-09-23 05:29:12+00:00 Checking the status of deployment automl-best-stroke-deployed..\n2021-09-23 05:32:37+00:00 Checking the status of inference endpoint automl-best-stroke-deployed.\nSucceeded\nACI service creation operation finished, operation \"Succeeded\"\nhttp://f515466b-999c-4e85-87d7-89a671163cb9.eastus2.azurecontainer.io/score\n"
        }
      ],
      "execution_count": 30,
      "metadata": {
        "jupyter": {
          "source_hidden": false,
          "outputs_hidden": false
        },
        "nteract": {
          "transient": {
            "deleting": false
          }
        },
        "gather": {
          "logged": 1632375159616
        }
      }
    },
    {
      "cell_type": "code",
      "source": [
        "# Enable app insights\r\n",
        "# service.update(enable_app_insights=True)"
      ],
      "outputs": [],
      "execution_count": 31,
      "metadata": {
        "gather": {
          "logged": 1632375159874
        },
        "jupyter": {
          "outputs_hidden": false,
          "source_hidden": false
        },
        "nteract": {
          "transient": {
            "deleting": false
          }
        }
      }
    },
    {
      "cell_type": "code",
      "source": [
        "from azureml.core.authentication import InteractiveLoginAuthentication\r\n",
        "\r\n",
        "interactive_auth = InteractiveLoginAuthentication()\r\n",
        "auth_header = interactive_auth.get_authentication_header()"
      ],
      "outputs": [],
      "execution_count": 32,
      "metadata": {
        "jupyter": {
          "source_hidden": false,
          "outputs_hidden": false
        },
        "nteract": {
          "transient": {
            "deleting": false
          }
        },
        "gather": {
          "logged": 1632375160072
        }
      }
    },
    {
      "cell_type": "markdown",
      "source": [
        "TODO: In the cell below, send a request to the web service you deployed to test it."
      ],
      "metadata": {
        "collapsed": true,
        "gather": {
          "logged": 1598431657736
        },
        "jupyter": {
          "outputs_hidden": false,
          "source_hidden": false
        },
        "nteract": {
          "transient": {
            "deleting": false
          }
        }
      }
    },
    {
      "cell_type": "code",
      "source": [
        "scoring_uri = service.scoring_uri\r\n",
        "\r\n",
        "print(f'\\nservice state: {service.state}\\n')\r\n",
        "print(f'scoring URI: \\n{service.scoring_uri}\\n')\r\n",
        "print(f'swagger URI: \\n{service.swagger_uri}\\n')\r\n",
        "\r\n"
      ],
      "outputs": [
        {
          "output_type": "stream",
          "name": "stdout",
          "text": "\nservice state: Healthy\n\nscoring URI: \nhttp://f515466b-999c-4e85-87d7-89a671163cb9.eastus2.azurecontainer.io/score\n\nswagger URI: \nhttp://f515466b-999c-4e85-87d7-89a671163cb9.eastus2.azurecontainer.io/swagger.json\n\n"
        }
      ],
      "execution_count": 33,
      "metadata": {
        "jupyter": {
          "source_hidden": false,
          "outputs_hidden": false
        },
        "nteract": {
          "transient": {
            "deleting": false
          }
        },
        "gather": {
          "logged": 1632375160262
        }
      }
    },
    {
      "cell_type": "code",
      "source": [
        "import requests\r\n",
        "\r\n",
        "key = \"I7ZPDaYLEdGhsjFA3Mu3yk698fjizohD\"\r\n",
        "data = {\r\n",
        "  \"data\": [\r\n",
        "    {\r\n",
        "      \"gender\": \"Male\",\r\n",
        "      \"age\": 67,\r\n",
        "      \"hypertension\": \"False\",\r\n",
        "      \"heart_disease\": \"True\",\r\n",
        "      \"ever_married\": \"True\",\r\n",
        "      \"work_type\": \"Private\",\r\n",
        "      \"Residence_type\": \"Urban\",\r\n",
        "      \"avg_glucose_level\": 228.69,\r\n",
        "      \"bmi\": 36.6,\r\n",
        "      \"smoking_status\": \"formerly smoked\"\r\n",
        "    },\r\n",
        "    {\r\n",
        "      \"gender\": \"Female\",\r\n",
        "      \"age\": 50,\r\n",
        "      \"hypertension\": \"False\",\r\n",
        "      \"heart_disease\": \"False\",\r\n",
        "      \"ever_married\": \"False\",\r\n",
        "      \"work_type\": \"0.0\",\r\n",
        "      \"Residence_type\": \"0.0\",\r\n",
        "      \"avg_glucose_level\": 0,\r\n",
        "      \"bmi\": 0,\r\n",
        "      \"smoking_status\": \"0\"\r\n",
        "    }\r\n",
        "  ]\r\n",
        "}\r\n",
        "\r\n",
        "# Convert to JSON string\r\n",
        "input_data = json.dumps(data)\r\n",
        "with open(\"data.json\", \"w\") as _f:\r\n",
        "    _f.write(input_data)\r\n",
        "\r\n",
        "# Set the content type\r\n",
        "headers = {\"Content-Type\": \"application/json\"}\r\n",
        "# If authentication is enabled, set the authorization header\r\n",
        "headers[\"Authorization\"] = f\"Bearer {key}\"\r\n",
        "\r\n",
        "# Make the request and display the response\r\n",
        "resp = requests.post(scoring_uri, input_data, headers=headers)\r\n",
        "print(resp.json())\r\n"
      ],
      "outputs": [
        {
          "output_type": "stream",
          "name": "stdout",
          "text": "{\"result\": [false, false]}\n"
        }
      ],
      "execution_count": 36,
      "metadata": {
        "jupyter": {
          "source_hidden": false,
          "outputs_hidden": false
        },
        "nteract": {
          "transient": {
            "deleting": false
          }
        },
        "gather": {
          "logged": 1632375467911
        }
      }
    },
    {
      "cell_type": "code",
      "source": [
        "# Sample code from Azure -> Endpoints -> CONSUME tab\r\n",
        "import urllib.request\r\n",
        "import json\r\n",
        "import os\r\n",
        "import ssl\r\n",
        "\r\n",
        "def allowSelfSignedHttps(allowed):\r\n",
        "    # bypass the server certificate verification on client side\r\n",
        "    if allowed and not os.environ.get('PYTHONHTTPSVERIFY', '') and getattr(ssl, '_create_unverified_context', None):\r\n",
        "        ssl._create_default_https_context = ssl._create_unverified_context\r\n",
        "\r\n",
        "allowSelfSignedHttps(True) # this line is needed if you use self-signed certificate in your scoring service.\r\n",
        "\r\n",
        "# Request data goes here\r\n",
        "data = {\r\n",
        "    \"data\":\r\n",
        "    [\r\n",
        "        {\r\n",
        "            'gender': \"Male\",\r\n",
        "            'age': \"100\",\r\n",
        "            'hypertension': \"True\",\r\n",
        "            'heart_disease': \"True\",\r\n",
        "            'ever_married': \"True\",\r\n",
        "            'work_type': \"Govt_job\",\r\n",
        "            'Residence_type': \"Urban\",\r\n",
        "            'avg_glucose_level': \"200\",\r\n",
        "            'bmi': \"50\",\r\n",
        "            'smoking_status': \"smoking\",\r\n",
        "        },\r\n",
        "\r\n",
        "        {\r\n",
        "            'gender': \"Male\",\r\n",
        "            'age': \"100\",\r\n",
        "            'hypertension': \"True\",\r\n",
        "            'heart_disease': \"True\",\r\n",
        "            'ever_married': \"True\",\r\n",
        "            'work_type': \"Govt_job\",\r\n",
        "            'Residence_type': \"Urban\",\r\n",
        "            'avg_glucose_level': \"200\",\r\n",
        "            'bmi': \"50\",\r\n",
        "            'smoking_status': \"smoking\",\r\n",
        "        }\r\n",
        "    ],\r\n",
        "}\r\n",
        "\r\n",
        "body = str.encode(json.dumps(data))\r\n",
        "\r\n",
        "url = 'http://f515466b-999c-4e85-87d7-89a671163cb9.eastus2.azurecontainer.io/score'\r\n",
        "api_key = 'I7ZPDaYLEdGhsjFA3Mu3yk698fjizohD' # Replace this with the API key for the web service\r\n",
        "headers = {'Content-Type':'application/json', 'Authorization':('Bearer '+ api_key)}\r\n",
        "\r\n",
        "req = urllib.request.Request(url, body, headers)\r\n",
        "\r\n",
        "try:\r\n",
        "    response = urllib.request.urlopen(req)\r\n",
        "\r\n",
        "    result = response.read()\r\n",
        "    print(result)\r\n",
        "except urllib.error.HTTPError as error:\r\n",
        "    print(\"The request failed with status code: \" + str(error.code))\r\n",
        "\r\n",
        "    # Print the headers - they include the requert ID and the timestamp, which are useful for debugging the failure\r\n",
        "    print(error.info())\r\n",
        "    print(json.loads(error.read().decode(\"utf8\", 'ignore')))\r\n"
      ],
      "outputs": [
        {
          "output_type": "stream",
          "name": "stdout",
          "text": "b'\"{\\\\\"result\\\\\": [false, false]}\"'\n"
        }
      ],
      "execution_count": 40,
      "metadata": {
        "jupyter": {
          "source_hidden": false,
          "outputs_hidden": false
        },
        "nteract": {
          "transient": {
            "deleting": false
          }
        },
        "gather": {
          "logged": 1632375576963
        }
      }
    },
    {
      "cell_type": "code",
      "source": [
        "# #Test response using the endpoint.py file\r\n",
        "# %run endpoint.py"
      ],
      "outputs": [],
      "execution_count": 42,
      "metadata": {
        "jupyter": {
          "source_hidden": false,
          "outputs_hidden": false
        },
        "nteract": {
          "transient": {
            "deleting": false
          }
        },
        "gather": {
          "logged": 1632375714454
        }
      }
    },
    {
      "cell_type": "markdown",
      "source": [
        "TODO: In the cell below, print the logs of the web service and delete the service"
      ],
      "metadata": {
        "collapsed": true,
        "gather": {
          "logged": 1598432765711
        },
        "jupyter": {
          "outputs_hidden": false,
          "source_hidden": false
        },
        "nteract": {
          "transient": {
            "deleting": false
          }
        }
      }
    },
    {
      "cell_type": "code",
      "source": [
        "#Print the logs from the service\r\n",
        "logs = service.get_logs()\r\n",
        "logs"
      ],
      "outputs": [
        {
          "output_type": "execute_result",
          "execution_count": 41,
          "data": {
            "text/plain": "'2021-09-23T05:32:20,715671000+00:00 - gunicorn/run \\nDynamic Python package installation is disabled.\\nStarting HTTP server\\n2021-09-23T05:32:20,734344000+00:00 - iot-server/run \\n2021-09-23T05:32:20,735767200+00:00 - rsyslog/run \\n2021-09-23T05:32:20,746703600+00:00 - nginx/run \\nrsyslogd: /azureml-envs/azureml_732632de80c129004c31329a710852e7/lib/libuuid.so.1: no version information available (required by rsyslogd)\\nEdgeHubConnectionString and IOTEDGE_IOTHUBHOSTNAME are not set. Exiting...\\n2021-09-23T05:32:21,091851300+00:00 - iot-server/finish 1 0\\n2021-09-23T05:32:21,098957000+00:00 - Exit code 1 is normal. Not restarting iot-server.\\nStarting gunicorn 20.1.0\\nListening at: http://127.0.0.1:31311 (70)\\nUsing worker: sync\\nworker timeout is set to 300\\nBooting worker with pid: 108\\nSPARK_HOME not set. Skipping PySpark Initialization.\\nGenerating new fontManager, this may take some time...\\nInitializing logger\\n2021-09-23 05:32:26,266 | root | INFO | Starting up app insights client\\nlogging socket was found. logging is available.\\nlogging socket was found. logging is available.\\n2021-09-23 05:32:26,270 | root | INFO | Starting up request id generator\\n2021-09-23 05:32:26,270 | root | INFO | Starting up app insight hooks\\n2021-09-23 05:32:26,270 | root | INFO | Invoking user\\'s init function\\n2021-09-23 05:32:30,356 | root | INFO | Users\\'s init has completed successfully\\n2021-09-23 05:32:30,365 | root | INFO | Skipping middleware: dbg_model_info as it\\'s not enabled.\\n2021-09-23 05:32:30,366 | root | INFO | Skipping middleware: dbg_resource_usage as it\\'s not enabled.\\nGenerating swagger file: /tmp/tmpob53tt0l\\n2021-09-23 05:32:30,374 | root | INFO | Scoring timeout is found from os.environ: 60000 ms\\n2021-09-23 05:32:37,729 | root | INFO | 200\\n127.0.0.1 - - [23/Sep/2021:05:32:37 +0000] \"GET /swagger.json HTTP/1.0\" 200 2603 \"-\" \"Go-http-client/1.1\"\\n2021-09-23 05:32:38,350 | root | INFO | 200\\n127.0.0.1 - - [23/Sep/2021:05:32:38 +0000] \"GET /swagger.json HTTP/1.0\" 200 2603 \"-\" \"Go-http-client/1.1\"\\n2021-09-23 05:36:51,030 | root | INFO | 200\\n127.0.0.1 - - [23/Sep/2021:05:36:51 +0000] \"GET /swagger.json HTTP/1.0\" 200 2603 \"-\" \"Go-http-client/1.1\"\\n2021-09-23 05:36:51,117 | root | INFO | 200\\n127.0.0.1 - - [23/Sep/2021:05:36:51 +0000] \"GET /swagger.json HTTP/1.0\" 200 2603 \"-\" \"Go-http-client/1.1\"\\n2021-09-23 05:36:54,976 | root | INFO | 200\\n127.0.0.1 - - [23/Sep/2021:05:36:54 +0000] \"GET /swagger.json HTTP/1.0\" 200 2603 \"-\" \"Go-http-client/1.1\"\\n2021-09-23 05:37:46,186 | root | INFO | Validation Request Content-Type\\n2021-09-23 05:37:46,188 | root | INFO | Scoring Timer is set to 60.0 seconds\\n2021-09-23 05:37:46,341 | root | INFO | 200\\n127.0.0.1 - - [23/Sep/2021:05:37:46 +0000] \"POST /score HTTP/1.0\" 200 30 \"-\" \"python-requests/2.26.0\"\\n2021-09-23 05:38:42,222 | root | INFO | Validation Request Content-Type\\n2021-09-23 05:38:42,224 | root | INFO | Scoring Timer is set to 60.0 seconds\\n2021-09-23 05:38:42,396 | root | INFO | 200\\n127.0.0.1 - - [23/Sep/2021:05:38:42 +0000] \"POST /score HTTP/1.0\" 200 30 \"-\" \"Python-urllib/3.6\"\\n2021-09-23 05:39:34,910 | root | INFO | Validation Request Content-Type\\n2021-09-23 05:39:34,911 | root | INFO | Scoring Timer is set to 60.0 seconds\\n2021-09-23 05:39:35,048 | root | INFO | 200\\n127.0.0.1 - - [23/Sep/2021:05:39:35 +0000] \"POST /score HTTP/1.0\" 200 30 \"-\" \"Python-urllib/3.6\"\\n'"
          },
          "metadata": {}
        }
      ],
      "execution_count": 41,
      "metadata": {
        "jupyter": {
          "source_hidden": false,
          "outputs_hidden": false
        },
        "nteract": {
          "transient": {
            "deleting": false
          }
        },
        "gather": {
          "logged": 1632375637932
        }
      }
    },
    {
      "cell_type": "code",
      "source": [
        "# Delete the deployed model\r\n",
        "service.delete()\r\n",
        "\r\n",
        "#Delete the CPU compute target\r\n",
        "compute_target.delete()"
      ],
      "outputs": [],
      "execution_count": null,
      "metadata": {
        "jupyter": {
          "source_hidden": false,
          "outputs_hidden": false
        },
        "nteract": {
          "transient": {
            "deleting": false
          }
        },
        "gather": {
          "logged": 1631951183442
        }
      }
    },
    {
      "cell_type": "code",
      "source": [],
      "outputs": [],
      "execution_count": null,
      "metadata": {
        "jupyter": {
          "source_hidden": false,
          "outputs_hidden": false
        },
        "nteract": {
          "transient": {
            "deleting": false
          }
        }
      }
    }
  ],
  "metadata": {
    "kernel_info": {
      "name": "python3"
    },
    "kernelspec": {
      "name": "python3",
      "language": "python",
      "display_name": "Python 3"
    },
    "language_info": {
      "name": "python",
      "version": "3.6.9",
      "mimetype": "text/x-python",
      "codemirror_mode": {
        "name": "ipython",
        "version": 3
      },
      "pygments_lexer": "ipython3",
      "nbconvert_exporter": "python",
      "file_extension": ".py"
    },
    "nteract": {
      "version": "nteract-front-end@1.0.0"
    },
    "microsoft": {
      "host": {
        "AzureML": {
          "notebookHasBeenCompleted": true
        }
      }
    }
  },
  "nbformat": 4,
  "nbformat_minor": 2
}