{
 "cells": [
  {
   "cell_type": "markdown",
   "source": [
    "# Hyperparameter Tuning using HyperDrive\n",
    "\n",
    "TODO: Import Dependencies. In the cell below, import all the dependencies that you will need to complete the project."
   ],
   "metadata": {}
  },
  {
   "cell_type": "code",
   "execution_count": null,
   "source": [
    "import logging\r\n",
    "import os\r\n",
    "import json\r\n",
    "import csv\r\n",
    "import numpy as np\r\n",
    "import pandas as pd\r\n",
    "import joblib\r\n",
    "\r\n",
    "import azureml.core\r\n",
    "from azureml.core.experiment import Experiment\r\n",
    "from azureml.core.workspace import Workspace\r\n",
    "from azureml.core.dataset import Dataset\r\n",
    "from azureml.core.compute import AmlCompute\r\n",
    "from azureml.core.compute import ComputeTarget\r\n",
    "from azureml.core.compute_target import ComputeTargetException\r\n",
    "from azureml.core import ScriptRunConfig\r\n",
    "from azureml.widgets import RunDetails\r\n",
    "from azureml.core import Model, Environment\r\n",
    "from azureml.core.model import InferenceConfig\r\n",
    "from azureml.core.webservice import AciWebservice\r\n",
    "from azureml.train.sklearn import SKLearn\r\n",
    "from azureml.train.hyperdrive.run import PrimaryMetricGoal\r\n",
    "from azureml.train.hyperdrive.policy import BanditPolicy\r\n",
    "from azureml.train.hyperdrive.sampling import RandomParameterSampling\r\n",
    "from azureml.train.hyperdrive.runconfig import HyperDriveConfig\r\n",
    "from azureml.train.hyperdrive.parameter_expressions import uniform, choice\r\n",
    "from azureml.core.conda_dependencies import CondaDependencies"
   ],
   "outputs": [],
   "metadata": {
    "gather": {
     "logged": 1598531914256
    }
   }
  },
  {
   "cell_type": "code",
   "execution_count": null,
   "source": [
    "# Create the CPU computer cluster\r\n",
    "amlcompute_cluster_name = \"capstone\"\r\n",
    "\r\n",
    "# Verify if cluster does not exist otherwise use the existing one\r\n",
    "try:\r\n",
    "    compute_target = ComputeTarget(workspace=ws, name=amlcompute_cluster_name)\r\n",
    "    print('Found existing cluster, use it.')\r\n",
    "except ComputeTargetException:\r\n",
    "    compute_config = AmlCompute.provisioning_configuration(vm_size='Standard_DS12_V2',\r\n",
    "                                                           vm_priority = 'lowpriority', \r\n",
    "                                                           max_nodes=5,\r\n",
    "                                                           min_nodes=0,\r\n",
    "                                                           idle_seconds_before_scaledown=600)\r\n",
    "    compute_target = ComputeTarget.create(ws, amlcompute_cluster_name, compute_config)\r\n",
    "\r\n",
    "compute_target.wait_for_completion(show_output=True)"
   ],
   "outputs": [],
   "metadata": {}
  },
  {
   "cell_type": "markdown",
   "source": [
    "## Dataset\n",
    "\n",
    "TODO: Get data. In the cell below, write code to access the data you will be using in this project. Remember that the dataset needs to be external."
   ],
   "metadata": {}
  },
  {
   "cell_type": "code",
   "execution_count": null,
   "source": [
    "from azureml.core import Workspace, Experiment\r\n",
    "\r\n",
    "ws = Workspace.get(name=\"udacity-courtlin\",subscription_id=\"bd6c48f0-b2f5-4fd8-b4de-3351b13cbee8\", resource_group=\"udacity-nano-degree\")\r\n",
    "exp = Experiment(workspace=ws, name=\"hyperdrive-ml\")\r\n",
    "\r\n",
    "print('Workspace name: ' + ws.name, \r\n",
    "      'Azure region: ' + ws.location, \r\n",
    "      'Subscription id: ' + ws.subscription_id, \r\n",
    "      'Resource group: ' + ws.resource_group, sep = '\\n')\r\n",
    "\r\n",
    "run = exp.start_logging()"
   ],
   "outputs": [],
   "metadata": {}
  },
  {
   "cell_type": "code",
   "execution_count": null,
   "source": [
    "# ws = Workspace.from_config()\r\n",
    "# experiment_name = 'hyperdrive-ml'\r\n",
    "\r\n",
    "# experiment=Experiment(ws, experiment_name)"
   ],
   "outputs": [],
   "metadata": {
    "gather": {
     "logged": 1598531917374
    },
    "jupyter": {
     "outputs_hidden": false,
     "source_hidden": false
    },
    "nteract": {
     "transient": {
      "deleting": false
     }
    }
   }
  },
  {
   "cell_type": "code",
   "execution_count": null,
   "source": [
    "#Access the external data needed for the project that has been downloaded from Kaggle and uploaded to the Azure workspace\r\n",
    "#This dataset, title Stroke Prediction Dataset, was downloaded from Kaggle for educational use. URL: https://www.kaggle.com/fedesoriano/stroke-prediction-dataset?select=healthcare-dataset-stroke-data.csv\r\n",
    "#The author of the dataset is fedesoriano\r\n",
    "\r\n",
    "# Load the registered dataset from workspace\r\n",
    "dataset = Dataset.get_by_name(ws, name='healthcare-dataset-stroke-data')\r\n",
    "\r\n",
    "# from azureml.data.dataset_factory import TabularDatasetFactory\r\n",
    "# from azureml.core.dataset import Dataset\r\n",
    "\r\n",
    "# url_paths = [\r\n",
    "#     \"https://www.kaggle.com/fedesoriano/stroke-prediction-dataset/download\"\r\n",
    "#     ]\r\n",
    "\r\n",
    "# # dataset = TabularDatasetFactory.from_delimited_files(path=url_paths)\r\n",
    "# dataset = Dataset.Tabular.from_delimited_files(path=url_paths)\r\n",
    "# type(dataset)\r\n",
    "\r\n",
    "# Convert the dataset to dataframe\r\n",
    "df = dataset.to_pandas_dataframe()\r\n",
    "df.info()"
   ],
   "outputs": [],
   "metadata": {}
  },
  {
   "cell_type": "code",
   "execution_count": null,
   "source": [
    "df.describe()"
   ],
   "outputs": [],
   "metadata": {}
  },
  {
   "cell_type": "code",
   "execution_count": null,
   "source": [
    "df.head(10)"
   ],
   "outputs": [],
   "metadata": {}
  },
  {
   "cell_type": "code",
   "execution_count": null,
   "source": [
    "# Create the virtual environment\r\n",
    "environment = Environment(name=\"azure-env\")\r\n",
    "conda_env = CondaDependencies()\r\n",
    "\r\n",
    "# Needed packages and scripts\r\n",
    "conda_env.add_conda_package(\"pandas\")\r\n",
    "conda_env.add_conda_package(\"numpy\")\r\n",
    "conda_env.add_conda_package(\"scikit-learn\")\r\n",
    "conda_env.add_pip_package(\"azureml-defaults\")\r\n",
    "\r\n",
    "# Adding dependencies to the created environment\r\n",
    "environment.python.conda_dependencies=conda_env"
   ],
   "outputs": [],
   "metadata": {}
  },
  {
   "cell_type": "markdown",
   "source": [
    "## Hyperdrive Configuration\n",
    "\n",
    "TODO: Explain the model you are using and the reason for chosing the different hyperparameters, termination policy and config settings."
   ],
   "metadata": {
    "collapsed": true,
    "gather": {
     "logged": 1598531923519
    },
    "jupyter": {
     "outputs_hidden": false,
     "source_hidden": false
    },
    "nteract": {
     "transient": {
      "deleting": false
     }
    }
   }
  },
  {
   "cell_type": "code",
   "execution_count": null,
   "source": [
    "# TODO: Create an early termination policy. This is not required if you are using Bayesian sampling.\r\n",
    "# Define an early termination policy\r\n",
    "early_termination_policy = BanditPolicy(slack_factor = 0.1, evaluation_interval=2)\r\n",
    "\r\n",
    "#TODO: Create the different params that you will be using during training\r\n",
    "# Create different params that will be used during training\r\n",
    "param_sampling = RandomParameterSampling(\r\n",
    "    {\r\n",
    "        '--C' : choice(0.001,0.01,0.1,1.0,10.0,50.0),\r\n",
    "        '--max_iter': choice(10,25)\r\n",
    "    }\r\n",
    ")\r\n",
    "\r\n",
    "#TODO: Create your estimator and hyperdrive config\r\n",
    "# Create estimator and hyperdrive config\r\n",
    "estimator = ScriptRunConfig(source_directory = \".\",\r\n",
    "                            script='train.py',\r\n",
    "                            arguments=['--data', dataset.id],\r\n",
    "                            compute_target=amlcompute_cluster_name,\r\n",
    "                            environment=environment)\r\n",
    "\r\n",
    "hyperdrive_run_config = HyperDriveConfig(run_config=estimator,\r\n",
    "                                     hyperparameter_sampling=param_sampling, \r\n",
    "                                     policy=early_termination_policy,\r\n",
    "                                     primary_metric_name='Accuracy',\r\n",
    "                                     primary_metric_goal=PrimaryMetricGoal.MAXIMIZE,\r\n",
    "                                     max_total_runs=24,\r\n",
    "                                     max_concurrent_runs=4)"
   ],
   "outputs": [],
   "metadata": {
    "gather": {
     "logged": 1598544893076
    },
    "jupyter": {
     "outputs_hidden": false,
     "source_hidden": false
    },
    "nteract": {
     "transient": {
      "deleting": false
     }
    }
   }
  },
  {
   "cell_type": "code",
   "execution_count": null,
   "source": [
    "#TODO: Submit your experiment\r\n",
    "run = experiment.submit(hyperdrive_run_config, show_output=True)"
   ],
   "outputs": [],
   "metadata": {
    "gather": {
     "logged": 1598544897941
    },
    "jupyter": {
     "outputs_hidden": false,
     "source_hidden": false
    },
    "nteract": {
     "transient": {
      "deleting": false
     }
    }
   }
  },
  {
   "cell_type": "markdown",
   "source": [
    "## Run Details\n",
    "\n",
    "OPTIONAL: Write about the different models trained and their performance. Why do you think some models did better than others?\n",
    "\n",
    "TODO: In the cell below, use the `RunDetails` widget to show the different experiments."
   ],
   "metadata": {
    "collapsed": true,
    "gather": {
     "logged": 1598544898497
    },
    "jupyter": {
     "outputs_hidden": false,
     "source_hidden": false
    },
    "nteract": {
     "transient": {
      "deleting": false
     }
    }
   }
  },
  {
   "cell_type": "code",
   "execution_count": null,
   "source": [
    "RunDetails(run).show()\r\n",
    "run.wait_for_completion(show_output=True)"
   ],
   "outputs": [],
   "metadata": {
    "gather": {
     "logged": 1598546648408
    },
    "jupyter": {
     "outputs_hidden": false,
     "source_hidden": false
    },
    "nteract": {
     "transient": {
      "deleting": false
     }
    }
   }
  },
  {
   "cell_type": "code",
   "execution_count": null,
   "source": [
    "run"
   ],
   "outputs": [],
   "metadata": {}
  },
  {
   "cell_type": "markdown",
   "source": [
    "## Best Model\n",
    "\n",
    "TODO: In the cell below, get the best model from the hyperdrive experiments and display all the properties of the model."
   ],
   "metadata": {}
  },
  {
   "cell_type": "code",
   "execution_count": null,
   "source": [
    "# Retrieve and save best model\r\n",
    "best_run = run.get_best_run_by_primary_metric()\r\n",
    "best_run.get_file_names()"
   ],
   "outputs": [],
   "metadata": {
    "gather": {
     "logged": 1598546650307
    },
    "jupyter": {
     "outputs_hidden": false,
     "source_hidden": false
    },
    "nteract": {
     "transient": {
      "deleting": false
     }
    }
   }
  },
  {
   "cell_type": "code",
   "execution_count": null,
   "source": [
    "#TODO: Save the best model\r\n"
   ],
   "outputs": [],
   "metadata": {
    "gather": {
     "logged": 1598546657829
    },
    "jupyter": {
     "outputs_hidden": false,
     "source_hidden": false
    },
    "nteract": {
     "transient": {
      "deleting": false
     }
    }
   }
  },
  {
   "cell_type": "markdown",
   "source": [
    "## Model Deployment\n",
    "\n",
    "Remember you have to deploy only one of the two models you trained.. Perform the steps in the rest of this notebook only if you wish to deploy this model.\n",
    "\n",
    "TODO: In the cell below, register the model, create an inference config and deploy the model as a web service."
   ],
   "metadata": {
    "collapsed": true,
    "jupyter": {
     "outputs_hidden": false,
     "source_hidden": false
    },
    "nteract": {
     "transient": {
      "deleting": false
     }
    }
   }
  },
  {
   "cell_type": "code",
   "execution_count": null,
   "source": [
    "# Register the best model with Azure\r\n",
    "model = best_model.register_model(model_name='HYPERdrive-best-stroke-model',model_path='outputs/model.pkl')\r\n",
    "\r\n",
    "# Get the AutoML environment details with its dependencies\r\n",
    "environment = Environment.get(ws, \"AzureML-HyperDrive\")\r\n"
   ],
   "outputs": [],
   "metadata": {}
  },
  {
   "cell_type": "code",
   "execution_count": null,
   "source": [
    "print(environment)"
   ],
   "outputs": [],
   "metadata": {}
  },
  {
   "cell_type": "code",
   "execution_count": null,
   "source": [
    "inference_config = InferenceConfig(entry_script='scoring.py',\r\n",
    "                                   environment=environment)\r\n",
    "service_name = 'HYPERdrive-best-stroke-deployed'\r\n",
    "deployment_config = AciWebservice.deploy_configuration(cpu_cores=1, memory_gb=1, enable_app_insights=True, auth_enabled=True)\r\n",
    "\r\n",
    "service = Model.deploy(workspace=ws,\r\n",
    "                       name=service_name,\r\n",
    "                       models=[model],\r\n",
    "                       inference_config=inference_config,\r\n",
    "                       deployment_config=deployment_config,                       \r\n",
    "                       overwrite=True\r\n",
    "                      )\r\n",
    "service.wait_for_deployment(show_output=True)\r\n",
    "\r\n",
    "scoring_uri = service.scoring_uri\r\n",
    "print(scoring_uri)"
   ],
   "outputs": [],
   "metadata": {}
  },
  {
   "cell_type": "code",
   "execution_count": null,
   "source": [
    "scoring_uri = service.scoring_uri\r\n",
    "\r\n",
    "print(f'\\nservice state: {service.state}\\n')\r\n",
    "print(f'scoring URI: \\n{service.scoring_uri}\\n')\r\n",
    "print(f'swagger URI: \\n{service.swagger_uri}\\n')\r\n",
    "\r\n"
   ],
   "outputs": [],
   "metadata": {}
  },
  {
   "cell_type": "markdown",
   "source": [
    "TODO: In the cell below, send a request to the web service you deployed to test it."
   ],
   "metadata": {}
  },
  {
   "cell_type": "code",
   "execution_count": null,
   "source": [
    "data = {\r\n",
    "  \"data\": [\r\n",
    "    {\r\n",
    "      \"gender\": \"Male\",\r\n",
    "      \"age\": 67,\r\n",
    "      \"hypertension\": \"False\",\r\n",
    "      \"heart_disease\": \"True\",\r\n",
    "      \"ever_married\": \"True\",\r\n",
    "      \"work_type\": \"Private\",\r\n",
    "      \"Residence_type\": \"Urban\",\r\n",
    "      \"avg_glucose_level\": 228.69,\r\n",
    "      \"bmi\": 36.6,\r\n",
    "      \"smoking_status\": \"formerly smoked\"\r\n",
    "    },\r\n",
    "    {\r\n",
    "      \"gender\": \"Female\",\r\n",
    "      \"age\": 50,\r\n",
    "      \"hypertension\": \"False\",\r\n",
    "      \"heart_disease\": \"False\",\r\n",
    "      \"ever_married\": \"False\",\r\n",
    "      \"work_type\": \"0.0\",\r\n",
    "      \"Residence_type\": \"0.0\",\r\n",
    "      \"avg_glucose_level\": 0,\r\n",
    "      \"bmi\": 0,\r\n",
    "      \"smoking_status\": \"0\"\r\n",
    "    }\r\n",
    "  ]\r\n",
    "}\r\n",
    "\r\n",
    "# Convert to JSON string\r\n",
    "input_data = json.dumps(data)\r\n",
    "with open(\"data.json\", \"w\") as _f:\r\n",
    "    _f.write(input_data)\r\n",
    "\r\n",
    "# Set the content type\r\n",
    "headers = {\"Content-Type\": \"application/json\"}\r\n",
    "# If authentication is enabled, set the authorization header\r\n",
    "headers[\"Authorization\"] = f\"Bearer {key}\"\r\n",
    "\r\n",
    "# Make the request and display the response\r\n",
    "resp = requests.post(scoring_uri, input_data, headers=headers)\r\n",
    "print(resp.json())\r\n"
   ],
   "outputs": [],
   "metadata": {}
  },
  {
   "cell_type": "markdown",
   "source": [
    "TODO: In the cell below, print the logs of the web service and delete the service"
   ],
   "metadata": {}
  },
  {
   "cell_type": "code",
   "execution_count": null,
   "source": [
    "#Print the logs from the service\r\n",
    "logs = service.get_logs()\r\n",
    "logs"
   ],
   "outputs": [],
   "metadata": {}
  },
  {
   "cell_type": "code",
   "execution_count": null,
   "source": [
    "# Delete the deployed model\r\n",
    "service.delete()\r\n",
    "\r\n",
    "#Delete the CPU compute target\r\n",
    "# compute_target.delete()"
   ],
   "outputs": [],
   "metadata": {}
  }
 ],
 "metadata": {
  "kernel_info": {
   "name": "python3-azureml"
  },
  "kernelspec": {
   "display_name": "Python 3",
   "language": "python",
   "name": "python3"
  },
  "language_info": {
   "codemirror_mode": {
    "name": "ipython",
    "version": 3
   },
   "file_extension": ".py",
   "mimetype": "text/x-python",
   "name": "python",
   "nbconvert_exporter": "python",
   "pygments_lexer": "ipython3",
   "version": "3.6.5"
  },
  "nteract": {
   "version": "nteract-front-end@1.0.0"
  }
 },
 "nbformat": 4,
 "nbformat_minor": 2
}